{
 "cells": [
  {
   "cell_type": "code",
   "execution_count": 1,
   "id": "3d646c45",
   "metadata": {
    "_cell_guid": "b1076dfc-b9ad-4769-8c92-a6c4dae69d19",
    "_uuid": "8f2839f25d086af736a60e9eeb907d3b93b6e0e5",
    "execution": {
     "iopub.execute_input": "2022-08-14T16:11:39.418893Z",
     "iopub.status.busy": "2022-08-14T16:11:39.417736Z",
     "iopub.status.idle": "2022-08-14T16:11:39.447600Z",
     "shell.execute_reply": "2022-08-14T16:11:39.446455Z"
    },
    "papermill": {
     "duration": 0.040855,
     "end_time": "2022-08-14T16:11:39.451904",
     "exception": false,
     "start_time": "2022-08-14T16:11:39.411049",
     "status": "completed"
    },
    "tags": []
   },
   "outputs": [
    {
     "name": "stdout",
     "output_type": "stream",
     "text": [
      "/kaggle/input/cvpdfdata/agaspar_cv.pdf\n",
      "complete\n"
     ]
    }
   ],
   "source": [
    "# This Python 3 environment comes with many helpful analytics libraries installed\n",
    "# It is defined by the kaggle/python Docker image: https://github.com/kaggle/docker-python\n",
    "# For example, here's several helpful packages to load\n",
    "\n",
    "import numpy as np # linear algebra\n",
    "import pandas as pd # data processing, CSV file I/O (e.g. pd.read_csv)\n",
    "\n",
    "# Input data files are available in the read-only \"../input/\" directory\n",
    "# For example, running this (by clicking run or pressing Shift+Enter) will list all files under the input directory\n",
    "\n",
    "import os\n",
    "for dirname, _, filenames in os.walk('/kaggle/input'):\n",
    "    for filename in filenames:\n",
    "        print(os.path.join(dirname, filename))\n",
    "\n",
    "# You can write up to 20GB to the current directory (/kaggle/working/) that gets preserved as output when you create a version using \"Save & Run All\" \n",
    "# You can also write temporary files to /kaggle/temp/, but they won't be saved outside of the current session\n",
    "print(\"complete\")"
   ]
  },
  {
   "cell_type": "code",
   "execution_count": 2,
   "id": "9db42367",
   "metadata": {
    "execution": {
     "iopub.execute_input": "2022-08-14T16:11:39.460950Z",
     "iopub.status.busy": "2022-08-14T16:11:39.460092Z",
     "iopub.status.idle": "2022-08-14T16:11:54.563413Z",
     "shell.execute_reply": "2022-08-14T16:11:54.561528Z"
    },
    "papermill": {
     "duration": 15.110831,
     "end_time": "2022-08-14T16:11:54.566384",
     "exception": false,
     "start_time": "2022-08-14T16:11:39.455553",
     "status": "completed"
    },
    "tags": []
   },
   "outputs": [
    {
     "name": "stdout",
     "output_type": "stream",
     "text": [
      "Collecting tika\r\n",
      "  Downloading tika-1.24.tar.gz (28 kB)\r\n",
      "  Preparing metadata (setup.py) ... \u001b[?25l-\b \bdone\r\n",
      "\u001b[?25hRequirement already satisfied: setuptools in /opt/conda/lib/python3.7/site-packages (from tika) (59.8.0)\r\n",
      "Requirement already satisfied: requests in /opt/conda/lib/python3.7/site-packages (from tika) (2.28.1)\r\n",
      "Requirement already satisfied: urllib3<1.27,>=1.21.1 in /opt/conda/lib/python3.7/site-packages (from requests->tika) (1.26.9)\r\n",
      "Requirement already satisfied: charset-normalizer<3,>=2 in /opt/conda/lib/python3.7/site-packages (from requests->tika) (2.1.0)\r\n",
      "Requirement already satisfied: idna<4,>=2.5 in /opt/conda/lib/python3.7/site-packages (from requests->tika) (3.3)\r\n",
      "Requirement already satisfied: certifi>=2017.4.17 in /opt/conda/lib/python3.7/site-packages (from requests->tika) (2022.6.15)\r\n",
      "Building wheels for collected packages: tika\r\n",
      "  Building wheel for tika (setup.py) ... \u001b[?25l-\b \b\\\b \bdone\r\n",
      "\u001b[?25h  Created wheel for tika: filename=tika-1.24-py3-none-any.whl size=32893 sha256=76b4ea0e96d862d474f06990c059f0ae419ca6f628c52712d93700038888df5c\r\n",
      "  Stored in directory: /root/.cache/pip/wheels/ec/2b/38/58ff05467a742e32f67f5d0de048fa046e764e2fbb25ac93f3\r\n",
      "Successfully built tika\r\n",
      "Installing collected packages: tika\r\n",
      "Successfully installed tika-1.24\r\n",
      "\u001b[33mWARNING: Running pip as the 'root' user can result in broken permissions and conflicting behaviour with the system package manager. It is recommended to use a virtual environment instead: https://pip.pypa.io/warnings/venv\u001b[0m\u001b[33m\r\n",
      "\u001b[0mcomplete\n"
     ]
    }
   ],
   "source": [
    "!pip install tika\n",
    "print(\"complete\")"
   ]
  },
  {
   "cell_type": "code",
   "execution_count": 3,
   "id": "f4113186",
   "metadata": {
    "execution": {
     "iopub.execute_input": "2022-08-14T16:11:54.576074Z",
     "iopub.status.busy": "2022-08-14T16:11:54.575603Z",
     "iopub.status.idle": "2022-08-14T16:12:14.184521Z",
     "shell.execute_reply": "2022-08-14T16:12:14.183187Z"
    },
    "papermill": {
     "duration": 19.618175,
     "end_time": "2022-08-14T16:12:14.188472",
     "exception": false,
     "start_time": "2022-08-14T16:11:54.570297",
     "status": "completed"
    },
    "tags": []
   },
   "outputs": [
    {
     "name": "stderr",
     "output_type": "stream",
     "text": [
      "2022-08-14 16:11:54,589 [MainThread  ] [INFO ]  Retrieving http://search.maven.org/remotecontent?filepath=org/apache/tika/tika-server/1.24/tika-server-1.24.jar to /tmp/tika-server.jar.\n",
      "2022-08-14 16:11:56,935 [MainThread  ] [INFO ]  Retrieving http://search.maven.org/remotecontent?filepath=org/apache/tika/tika-server/1.24/tika-server-1.24.jar.md5 to /tmp/tika-server.jar.md5.\n",
      "2022-08-14 16:11:57,701 [MainThread  ] [WARNI]  Failed to see startup log message; retrying...\n"
     ]
    },
    {
     "name": "stdout",
     "output_type": "stream",
     "text": [
      "['András Gáspár 12/10/2016', 'Contact\\nInformation', 'Steward Observatory\\nThe University of Arizona\\n933 N Cherry Avenue, Rm 278\\nTucson, AZ 85721-0065', 'Tel: (520)-360-0983\\nagaspar@as.arizona.edu\\nhttp://merope.as.arizona.edu/˜agaspar\\nU.S. permanent resident', 'Research\\nAreas', 'Circumstellar Disks, Exozodi, Extrasolar Planets, Variable Stars, Open Clus-\\nters, ISM, Coronagraphy, Infrared Detectors, HPC/GPU programming', 'Education 2011 Ph.D., Astronomy, Steward Observatory, The University of Arizona\\nThesis: “Observations and models of infrared debris disk signatures and', 'their evolution”\\nAdvisor: Prof. George H. Rieke', '2008 M.Sc., Astronomy, Steward Observatory, The University of Arizona\\nAdvisor: Prof. George H. Rieke', '2006 B.Sc., Astronomy, University of Szeged, Hungary\\nAdvisor: Dr. Zoltán Balog', 'Appointments 2017 - current Adjunct Faculty, Pima Community College\\n(secondary job to advance teaching skills)', '2014 - current Senior Research Associate, Steward Obs., The UofA\\n2011 - 2014 Postdoctoral Researcher, Steward Obs., The UofA\\n2006 - 2011 Research Assistant, Steward Obs., The UofA\\n2005 Research Assistant, UKIDSS/UKIRT, University of Leeds', 'Proposals/\\nGrants\\n(PI)', '2012 Pointing the Finger: Calibrating the Hidden Features of STIS\\nand Enabling New Coronagraphy at Separations of 0.15 ′′', 'Total award: 6 orbits on HST/STIS ($88k)\\n2011 Observing Young Debris Disks with SPIRE', 'Total award: 2.2 hours of OT2 time with Herschel\\n(Not carried out due to EOM)', 'Proposals/\\nGrants\\n(Co-I)', '2016 Debris Disk Variability - Exploring the Diverse\\nOutcomes of Large Collisions during the Eras of Oligarchic\\nand Chaotic Growth\\nNASA ADAP ($200k)', '2016 Probing Terrestrial Planet Formation with Extreme\\nDisk Variability\\nTotal award: 120 h with Spitzer Space Telescope', '1', 'mailto:agaspar@as.arizona.edu\\nhttp://merope.as.arizona.edu/~agaspar', '\\n2015 Contrasting Exoplanetary Systems by Resolving the\\nDebris Disk around Denebola\\nTotal award: 8.5 h with ALMA', '2014 Earths in Other Solar Systems: Toward forming and\\ndiscovering planets with biocritical ingredients\\nNASA Astrobiology Institute proposal ( $7 million)', '2014 Decoding Debris System Substructures: Imprints of\\nPlanets/Planetesimals and Signatures of Extrinsic Influences\\non Material in Ring-Like Disks\\nTotal award: 40 orbits on HST/STIS ($280k)', '2014 Pushing to 8 AU in the archetypal protoplanetary\\ndisk of TW Hya\\nTotal award: 8 orbits on HST/STIS', '2010 Diversity in Debris Disks: Snapshots of Planetary System Evolution\\nTotal award: 109 h with Spitzer Space Telescope ($266k)', '2009 The Master Sample of Spitzer Debris Disk Measurements\\nTotal award: 103 h with Spitzer Space Telescope ($330k)', 'Current\\nResearch\\nProjects', '• JWST/NIRCam GTO Debris Disk program lead (50 hours)\\n• JWST/MIRI GTO Archetypical Debris Disks program lead (50 hours)\\n• JWST/MIRI Science Instrument team member\\n• D3D: GPU based 3D Debris Disk model development program lead\\n• HST/STIS BAR5 coronagraph calibration program lead (6 orbits on HST)', 'Teaching/\\nOutreach', '2017 AST101IN: Solar System (hybrid course),\\nPima Community College', '2010 TA for ASTR 202: Life in the Universe, UofA\\nhttp://merope.as.arizona.edu/˜agaspar/ASTR202\\nProfessor: Dr. Christopher Walker', '2009 TA for ASTR 250: Fundamentals of Astronomy, UofA\\nProfessor: Dr. Yancy Shirley', '2006 Astronomical Lab II, University of Szeged\\n2005 Astronomical Lab I, University of Szeged\\n2001 - 2006 Open nights at the Public Observatory, Szeged, Hungary', 'Students • Co-Supervised: M.Sc. for Attila Simon (Ph.D.), The University of Szeged,\\nHungary (2004-2006)', '• Co-Supervised: Ph.D. for Nick Ballering, The University of Arizona (2013-\\n2016)', '2', 'http://merope.as.arizona.edu/~agaspar/ASTR202', '\\nHonors/\\nawards', '2005 27th National Undergraduate Conference Physics, Geology and Mathe-\\nmatics section, \"Stars and stellar clusters\" category I. prize\\nThesis: Mapping of starbirth regions in the near-infrared', '2005 Pro Scientia gold medal from the Hungarian Academy of Sciences\\n2005 Albert Szent-Györgyi Scholarship\\n2005 Scholarship of the Hungarian Republic\\n2003 Pro Renovanda Culturae Scholarship\\n2003 26th National Undergraduate Conference Physics, Geology and Mathe-', 'matics section, \"Astrophysics\" category III. prize\\nThesis: The photometric study of open cluster NGC 2126', 'Selected\\nTalks/\\nMeetings', '2016 National Capital Area Disks Meeting 2016 (NCAD 2016)\\n2016 JWST GTO meeting, Victoria, CA\\n2014 Search for Life Beyond the Solar System. Exoplanets,', 'Biosignatures & Instruments., Tucson, AZ\\n2013 5th Subaru International Conference, Kona, HI\\n2013 Invited talk at AAS #221\\n2012 NASA Goddard Extrasolar Planets Seminar\\n2012 STScI Star and Planet Formation Seminar Series\\n2012 Carnegie DTM Astronomy Group Seminar\\n2012 National Capital Area Disks Meeting 2012 (NCAD 2012)\\n2011 Exploring Strange New Worlds, Flagstaff, AZ', 'Services • Referee for The Astrophysical Journal, The Astronomical Journal, and As-\\ntronomy & Astrophysics', '• Hungarian translation of Disk Detective, NASA citizen science project\\n• Organized the Summer Disk Seminar Series 2012 at Steward Obs.', 'Observing\\nExperience', '60 cm Schmidt (Konkoly Obs., MTA; 3 weeks), 1 m RCC (Konkoly Obs.,\\nMTA; 2 weeks), MMT (2 nights), Bok 2.3 m (2 nights), Mt. Bigelow 48′′ (2\\nnights), HST (6 orbits), LBT (5 nights)', '3', 'Publications', 'Citations of refereed articles (First Authored/total): 193/667\\nh-index of refereed articles (First Authored/total): 7/13', 'Refereed First Authored Papers', '∗1. The Correlation Between Metallicity and Debris Disk mass,\\nGáspár, András, Rieke, George, and Ballering, Nicholas\\n2016, The Astrophysical Journal, 826, 171G', '∗2. The Herschel Cold Debris Disks: Confusion with the Extragalactic Background at 160 µm,\\nGáspár, András, and Rieke, George\\n2014, The Astrophysical Journal, 784, 33G', '∗3. The Collisional Evolution of Debris Disks,\\nGáspár, András, Rieke, George, and Balog, Zoltan\\n2013, The Astrophysical Journal, 768, 25', '∗4. Modeling Collisional Cascades in Debris Disks: Steep Dust-Size Distributions,\\nGáspár, András, Psaltis, Dimitrios, Özel, Feryal, Rieke, George, and Cooney, A.\\n2012, The Astrophysical Journal, 754, 74G', '∗5. Modeling Collisional Cascades in Debris Disks: The Numerical Method,\\nGáspár, András, Psaltis, Dimitrios, Özel, Feryal, Rieke, George, and Cooney, A.\\n2012, The Astrophysical Journal, 749, 14G', '∗6. The Low Level of Debris Disk Activity at the Time of the Late Heavy Bombardment: A Spitzer\\nStudy of Praesepe,\\nGáspár, András, Rieke, George H., Su, Kate Y. L., Balog, Zoltán, Trilling, David, Muzzerole,\\nJames, Apai, Dániel, and Kelly, Brandon C.\\n2009, The Astrophysical Journal, 697, 1578G', '∗7. Modeling the Infrared Bow Shock at δ Velorum: Implications for Studies of Debris Disks and λ\\nBoötis Stars,\\nGáspár, András, Su, Kate Y. L., Rieke, George H., Balog, Zoltán, Kamp, Inga, Martínez-\\nGalarza, Juan R., and Stapelfeldt, Karl\\n2008, The Astrophysical Journal, 672, 974G', '∗8. The first CCD photometric study of the open cluster NGC 2126,\\nGáspár, A., Kiss, L. L., Bedding, T. R., Derekas, A., Kaspi, S., Kiss, Cs., Sárneczky, K., Szabó,\\nGy. M., and Váradi, M.\\n2003, Astronomy & Astrophysics, 410, 879G', '4', 'Refereed Co-Authored Papers', '9. Chasing Shadows: Rotation of the Azimuthal Asymmetry in the TW Hya Disk,\\nJohn H. Debes, Charles A. Poteet, Hannah Jang-Condell, András Gáspár, Dean Hines, Joel H.\\nKastner, Laurent Pueyo, Valerie Rapson, Aki Roberge, Glenn Schneider, Alycia J. Weinberger\\n2016, AAS Journals, accepted', '10. Protoplanetary and Transitional Disks in the Open Stellar Cluster IC 2395,\\nBalog, Zoltan; Siegler, Nick; Rieke, G. H.; Kiss, L. L.; Muzerolle, James; Gutermuth, R. A.;\\nBell, Cameron P. M.; Vinkó, J.; Su, K. Y. L.; Young, E. T.; Gáspár, András\\n2016, The Astrophysical Journal, 832, 87B', '11. Deep HST/STIS Visible-light Imaging of Debris Systems around Solar Analog Hosts,\\nSchneider, Glenn; Grady, Carol A.; Stark, Christopher C.; Gáspár, András; Carson, Joseph;\\nDebes, John H.; Henning, Thomas; Hines, Dean C.; Jang-Condell, Hannah; Kuchner, Marc J.;\\nPerrin, Marshall; Rodigas, Timothy J.; Tamura, Motohide; Wisniewski, John P.\\n2016, The Astrophysical Journal, 152, 64S', '12. Nulling Data Reduction and On-sky Performance of the Large Binocular Telescope Interferom-\\neter,\\nDefrère, D.; Hinz, P. M.; Mennesson, B.; Hoffmann, W. F.; Millan-Gabet, R.; Skemer, A. J.;\\nBailey, V.; Danchi, W. C.; Downey, E. C.; Durney, O.; Grenz, P.; Hill, J. M.; McMahon, T. J.;\\nMontoya, M.; Spalding, E.; Vaz, A.; Absil, O.; Arbo, P.; Bailey, H.; Brusa, G.; Bryden, G.;\\nEsposito, S.; Gaspar, A.; Haniff, C. A.; Kennedy, G. M.; Leisenring, J. M.; Marion, L.; Nowak,\\nM.; Pinna, E.; Powell, K.; Puglisi, A.; Rieke, G.; Roberge, A.; Serabyn, E.; Sosa, R.; Stapeld-\\nfeldt, K.; Su, K.; Weinberger, A. J.; Wyatt, M. C.\\n2016, The Astrophysical Journal, 824, 66D', '13. A Comprehensive Dust Model Applied to the Resolved Beta Pictoris Debris Disk from Optical\\nto Radio Wavelengths,\\nBallering, Nicholas P.; Su, Kate Y. L.; Rieke, George H.; Gáspár, András\\n2016, The Astrophysical Journal, 823, 108B', '14. Discovery of an Inner Disk Component around HD 141569 A,\\nKonishi, Mihoko; Grady, Carol A.; Schneider, Glenn; Shibai, Hiroshi; McElwain, Michael W.;\\nNesvold, Erika R.; Kuchner, Marc J.; Carson, Joseph; Debes, John. H.; Gáspár, András;\\nHenning, Thomas K.; Hines, Dean C.; Hinz, Philip M.; Jang-Condell, Hannah; Moro-Martín,\\nAmaya; Perrin, Marshall; Rodigas, Timothy J.; Serabyn, Eugene; Silverstone, Murray D.; Stark,\\nChristopher C.; Tamura, Motohide; Weinberger, Alycia J.; Wisniewski, John. P.\\n2016, The Astrophysical Journal, 818L, 23K', '15. Magnetic Grain Trapping and the Hot Excesses around Early-type Stars,\\nRieke, G. H.; Gáspár, András; Ballering, N. P.\\n2016, The Astrophysical Journal, 816, 50R', '5', '16. First-light LBT Nulling Interferometric Observations: Warm Exozodiacal Dust Resolved within\\na Few AU of η Crv,\\nDefrère, D.; Hinz, P. M.; Skemer, A. J.; Kennedy, G. M.; Bailey, V. P.; Hoffmann, W. F.;\\nMennesson, B.; Millan-Gabet, R.; Danchi, W. C.; Absil, O.; Arbo, P.; Beichman, C.; Brusa,\\nG.; Bryden, G.; Downey, E. C.; Durney, O.; Esposito, S.; Gáspár, A.; Grenz, P.; Haniff, C.;\\nHill, J. M.; Lebreton, J.; Leisenring, J. M.; Males, J. R.; Marion, L.; McMahon, T. J.; Montoya,\\nM.; Morzinski, K. M.; Pinna, E.; Puglisi, A.; Rieke, G.; Roberge, A.; Serabyn, E.; Sosa, R.;\\nStapeldfeldt, K.; Su, K.; Vaitheeswaran, V.; Vaz, A.; Weinberger, A. J.; Wyatt, M. C.\\n2015, The Astrophysical Journal, 799, 42D', '17. Probing the Terrestrial Regions of Planetary Systems: Warm Debris Disks with Emission Fea-\\ntures,\\nBallering, Nicholas P.; Rieke, George H.; Gáspár, András\\n2014, The Astrophysical Journal, 793, 57B', '18. The Decay of Debris Disks around Solar-type Stars,\\nSierchio, J. M.; Rieke, G. H.; Su, K. Y. L.; Gáspár, András\\n2014, The Astrophysical Journal, 785, 33S', '19. Dust formation in the ejecta of the type II-P supernova 2004dj,\\nSzalai, Tamás, Vinkó, József, Balog, Zoltán, Gáspár, András, Block, Miwa, and Kiss, László\\nL.\\n2011, Astronomy & Astrophysics, 527A, 61S', '20. HST and Spitzer Observations of the HD 207129 Debris Ring,\\nKrist, John E., Stapelfeldt, Karl R., Bryden, Geoffrey, Rieke, George H., Su, Kate Y. L., Chen,\\nChristine C., Beichman, Charles A., Hines, Dean C., Rebull, Luisa M., Tanner, Angelle, Trilling,\\nDavid E., Clampin, Mark, and Gáspár, András\\n2010, Astronomical Journal, 140, 1051K', '21. Spitzer/IRAC-MIPS Survey of NGC 2451 A and B: Debris Disks at 50-80 Million Years,\\nBalog, Zoltán, Kiss, László L., Vinkó, József, Rieke, George H., Muzerolle, James, Gáspár,\\nAndrás, Young, Erick T., and Gorlova, Nadya\\n2009, The Astrophysical Journal, 698, 1989B', '22. Infrared Emission by Dust Around lambda Bootis Stars: Debris Disks or Thermally Emitting\\nNebulae?,\\nMartínez-Galarza, Juan R., Kamp, Inga, Su, Kate Y. L., Gáspár, András, Rieke, George H., and\\nMamajek, Erik E.\\n2009, The Astrophysical Journal, 694, 165M', '23. The UKIDSS Galactic Plane Survey,\\nLucas, P. W., Hoare, M. G., Longmore, A., Schröder, A. C., Davis, C. J., Adamson, A., Bandy-\\nopadhyay, R. M., de Grijs, R., Smith, M., Gosling, A., Mitchison, S.; Gáspár, A., Coe, M.,', '6', 'Tamura, M., Parker, Q., Irwin, M., Hambly, N., Bryant, J., Collins, R. S., Cross, N., Evans,\\nD. W., Gonzalez-Solares, E., Hodgkin, S., Lewis, J., Read, M., Riello, M., Sutorius, E. T. W.,\\nLawrence, A., Drew, J. E., Dye, S., and Thompson, M. A.\\n2008, The Monthly Notices of the Royal Astronomical Society, 391, 136L', '24. Lynds 1622: a nearby star-forming cloud projected on Orion B?,\\nKun, M., Balog, Z., Mizuno, N., Kawamura, A., Gáspár, A., Kenyon, S. J., and Fukui, Y.\\n2008, The Monthly Notices of the Royal Astronomical Society, 391, 84K', '25. Photoevaporation of Protoplanetary Disks,\\nBalog, Zoltán, Rieke, George H., Muzerolle, James, Bally, John, Su, Kate Y. L., Misselt, Karl,\\nand Gáspár, András\\n2008, The Astrophysical Journal, 688, 408B', '26. Low-mass star formation in Lynds 1333,\\nKun, M., Nikolić, S., Johansson, L. E. B., Balog, Z., and Gáspár, A.\\n2006, The Monthly Notices of the Royal Astronomical Society, 371, 732K', '27. The first year of SN 2004dj in NGC 2403,\\nVinkó, J., Takáts, K., Sárneczky, K., Szabó, Gy. M., Mészáros, Sz., Csorvási, R., Szalai, T.,\\nGáspár, A., Pál, A., Csizmadia, Sz., Kóspál, A., Rácz, M., Kun, M., Csák, B., Fűrész, G.,\\nDeBond, H., Grunhut, J., Thomson, J., Mochnacki, S., and Koktay, T.\\n2006, The Monthly Notices of the Royal Astronomical Society, 369, 1780V', '28. A Near-Infrared (JHK) Survey of the Vicinity of the HII Region NGC 7538: Evidence for a Young\\nEmbedded Cluster,\\nBalog, Z., Kenyon, S. J., Lada, E. A., Barsony, M., Vinkó, J., and Gáspár, A.\\n2004, The Astronomical Journal, 128, 2942B', 'Conference abstracts and proceedings', '∗1. The Collisional Evolution of Debris Disks,\\n2014, poster presented at Search for Life Beyond the Solar System. Exoplanets, Biosignatures &\\nInstruments., Tucson, AZ', '∗2. The Collisional Evolution of Debris Disks,\\n2013, poster presented at 5th Subaru International Conference, Kona, HI', '∗3. Debris Disk Time Evolution - Connecting Observations with Theory,\\n2013, talk presented at AAS #221, Long Beach, CA', '∗4. The Collisional Evolution of Debris Disks,\\n2012, talk presented at the National Capital Area Disks Meeting, STScI, Baltimore, MD', '7', '∗5. A New Numerical Model of Collisional Cascades in Debris Disks,\\nGáspár, András, Psaltis, Dimitrios, Özel, Feryal, Rieke, George, and Cooney, A.\\n2011, poster presented at Exploring Strange New Worlds, Flagstaff, AZ', '6. The Master Sample of Spitzer Debris Disk Measurements,\\nSu, Kate Y. L., Rieke, G., Stapelfeldt, K., Bryden, G., Werner, M., Plavchan, P., Trilling, D.,\\nGáspár, A., and Morales, F.\\n2010, American Astronomical Society, AAS Meeting #215', '∗7. False Signs of Debris Disks,\\nGáspár, András, Su, Kate Y. L., Rieke, George H., Balog, Zoltán, Mamajek, Eric, Kamp, Inga,\\nMartínez-Galarza, Juan R., Stapelfeldt, K.\\n2008, poster presented at New Light on Young Stars: Spitzer’s View of Circumstellar Disks,\\nPasadena, CA', '8. λ Boötis stars: Current status and new insights from Spitzer,\\nKamp, I., Martínez-Galarza, J. R., Paunzen, E., Su, K. Y. L., Gáspár, A., and Rieke, G. H.\\n2008, Contributions of the Astronomical Observatory SkalnatÃl’ Pleso, vol. 38, no. 2, p. 147-156', '∗9. Preliminary Results on Newly Discovered Embedded Clusters,\\nGáspár, András, Balog, Zoltán, Makai, Zoltán, Vinkó, József, and Kenyon, Scott\\n2005, Cores to Clusters: Star Formation with Next Generation Telescopes, Porto, Portugal, p.\\n209', '∗10. A Variable Star Survey of the Open Cluster NGC 2126,\\nGáspár, A., Kiss, L. L., Derekas, A., Bedding, T. R., Kaspi, S., Kiss, C., Sárneczky, K., Szabó,\\nG. M., and Váradi, M.\\n2004, Communications in Astroseismology, 145, 70', '11. A Variable Star Survey of the Open Cluster NGC 2126,\\nDerekas, A., Kiss, L. L., Bedding, T. R., Gáspár, A., Sárneczky, K., Szabó, Gy. M., Váradi, M.,\\nKaspi, S., and Kiss, Cs.\\n2004, Variable Stars in the Local Group, IAU Colloquium 193, New Zealand, ASP Conference\\nProceedings, Vol. 310, p. 162', '8']\n",
      "complete\n"
     ]
    }
   ],
   "source": [
    "path = r\"../input/cvpdfdata/agaspar_cv.pdf\"\n",
    "#using Tika\n",
    "#pip install tika\n",
    "from tika import parser\n",
    "raw = parser.from_file(path)\n",
    "tika_text = raw['content'].replace('\\n\\n', '*')\n",
    "#print(tika_text)\n",
    "textList=[]\n",
    "res=\"\"\n",
    "for i in tika_text:\n",
    "    if i=='*':\n",
    "        if len(res)>0:\n",
    "            textList.append(res)\n",
    "            res=\"\"\n",
    "    else:\n",
    "        res+=i\n",
    "print(textList)\n",
    "print(\"complete\")"
   ]
  },
  {
   "cell_type": "code",
   "execution_count": 4,
   "id": "f721d59e",
   "metadata": {
    "execution": {
     "iopub.execute_input": "2022-08-14T16:12:14.199246Z",
     "iopub.status.busy": "2022-08-14T16:12:14.198505Z",
     "iopub.status.idle": "2022-08-14T16:12:14.205034Z",
     "shell.execute_reply": "2022-08-14T16:12:14.203891Z"
    },
    "papermill": {
     "duration": 0.015716,
     "end_time": "2022-08-14T16:12:14.208439",
     "exception": false,
     "start_time": "2022-08-14T16:12:14.192723",
     "status": "completed"
    },
    "tags": []
   },
   "outputs": [
    {
     "name": "stdout",
     "output_type": "stream",
     "text": [
      "András Gáspár 12/10/2016\n",
      "Contact\n",
      "Information\n",
      "Steward Observatory\n",
      "The University of Arizona\n",
      "933 N Cherry Avenue, Rm 278\n",
      "Tucson, AZ 85721-0065\n",
      "Tel: (520)-360-0983\n",
      "agaspar@as.arizona.edu\n",
      "http://merope.as.arizona.edu/˜agaspar\n",
      "U.S. permanent resident\n",
      "Research\n",
      "Areas\n",
      "Circumstellar Disks, Exozodi, Extrasolar Planets, Variable Stars, Open Clus-\n",
      "ters, ISM, Coronagraphy, Infrared Detectors, HPC/GPU programming\n",
      "Education 2011 Ph.D., Astronomy, Steward Observatory, The University of Arizona\n",
      "Thesis: “Observations and models of infrared debris disk signatures and\n",
      "their evolution”\n",
      "Advisor: Prof. George H. Rieke\n",
      "2008 M.Sc., Astronomy, Steward Observatory, The University of Arizona\n",
      "Advisor: Prof. George H. Rieke\n"
     ]
    }
   ],
   "source": [
    "i=0\n",
    "for j in textList:\n",
    "    i+=1\n",
    "    if i==10:\n",
    "        break\n",
    "    print(j)"
   ]
  },
  {
   "cell_type": "code",
   "execution_count": 5,
   "id": "4634a8b4",
   "metadata": {
    "execution": {
     "iopub.execute_input": "2022-08-14T16:12:14.219475Z",
     "iopub.status.busy": "2022-08-14T16:12:14.218432Z",
     "iopub.status.idle": "2022-08-14T16:12:28.218373Z",
     "shell.execute_reply": "2022-08-14T16:12:28.216785Z"
    },
    "papermill": {
     "duration": 14.008283,
     "end_time": "2022-08-14T16:12:28.221079",
     "exception": false,
     "start_time": "2022-08-14T16:12:14.212796",
     "status": "completed"
    },
    "tags": []
   },
   "outputs": [
    {
     "name": "stdout",
     "output_type": "stream",
     "text": [
      "András Gáspár\n"
     ]
    }
   ],
   "source": [
    "#Name\n",
    "import spacy\n",
    "from spacy.matcher import Matcher\n",
    "\n",
    "# load pre-trained model\n",
    "nlp = spacy.load('en_core_web_sm')\n",
    "\n",
    "# initialize matcher with a vocab\n",
    "matcher = Matcher(nlp.vocab)\n",
    "def extract_name(resume_text):\n",
    "    nlp_text = nlp(resume_text)\n",
    "    \n",
    "    # First name and Last name are always Proper Nouns\n",
    "    pattern = [{'POS': 'PROPN'}, {'POS': 'PROPN'}]\n",
    "    \n",
    "    matcher.add('NAME', [pattern], on_match = None)\n",
    "    \n",
    "    matches = matcher(nlp_text)\n",
    "    \n",
    "    for match_id, start, end in matches:\n",
    "        span = nlp_text[start:end]\n",
    "        return span.text\n",
    "    \n",
    "    \n",
    "name = extract_name(tika_text)\n",
    "print(name)"
   ]
  },
  {
   "cell_type": "code",
   "execution_count": 6,
   "id": "2f54fecb",
   "metadata": {
    "execution": {
     "iopub.execute_input": "2022-08-14T16:12:28.232766Z",
     "iopub.status.busy": "2022-08-14T16:12:28.231909Z",
     "iopub.status.idle": "2022-08-14T16:12:28.239824Z",
     "shell.execute_reply": "2022-08-14T16:12:28.238956Z"
    },
    "papermill": {
     "duration": 0.01706,
     "end_time": "2022-08-14T16:12:28.242820",
     "exception": false,
     "start_time": "2022-08-14T16:12:28.225760",
     "status": "completed"
    },
    "tags": []
   },
   "outputs": [
    {
     "name": "stdout",
     "output_type": "stream",
     "text": [
      "<class 'list'>\n",
      "['agaspar@as.arizona.edu']\n",
      "complete\n"
     ]
    }
   ],
   "source": [
    "#E-MAIL\n",
    "import re\n",
    "def get_email_addresses(string):\n",
    "    r = re.compile(r'[\\w\\.-]+@[\\w\\.-]+')\n",
    "    return r.findall(string)\n",
    "\n",
    "email = get_email_addresses(tika_text)\n",
    "email=list(set(email))\n",
    "print(type(email))\n",
    "print(email)\n",
    "\n",
    "#extracted_text[\"E-Mail\"] = email\n",
    "print(\"complete\")"
   ]
  },
  {
   "cell_type": "code",
   "execution_count": 7,
   "id": "a1fa0d92",
   "metadata": {
    "execution": {
     "iopub.execute_input": "2022-08-14T16:12:28.254665Z",
     "iopub.status.busy": "2022-08-14T16:12:28.254014Z",
     "iopub.status.idle": "2022-08-14T16:12:28.262634Z",
     "shell.execute_reply": "2022-08-14T16:12:28.261237Z"
    },
    "papermill": {
     "duration": 0.017131,
     "end_time": "2022-08-14T16:12:28.265149",
     "exception": false,
     "start_time": "2022-08-14T16:12:28.248018",
     "status": "completed"
    },
    "tags": []
   },
   "outputs": [
    {
     "name": "stdout",
     "output_type": "stream",
     "text": [
      "['The University', 'The University', 'The University', 'University of Szeged', 'University of Leeds', 'University of Szeged', 'University of Szeged', 'The University', 'The University']\n"
     ]
    }
   ],
   "source": [
    "#for Educational Institute\n",
    "import re\n",
    "sub_patterns = ['[A-Z][a-z]* University','[A-Z][a-z]* Educational Institute',\n",
    "                'University of [A-Z][a-z]*',\n",
    "                'Ecole [A-Z][a-z]*']\n",
    "pattern = '({})'.format('|'.join(sub_patterns))\n",
    "matches = re.findall(pattern, tika_text)\n",
    "\n",
    "#extracted_text[\"Institutes\"] = matches\n",
    "matches\n",
    "print(matches)"
   ]
  }
 ],
 "metadata": {
  "kernelspec": {
   "display_name": "Python 3",
   "language": "python",
   "name": "python3"
  },
  "language_info": {
   "codemirror_mode": {
    "name": "ipython",
    "version": 3
   },
   "file_extension": ".py",
   "mimetype": "text/x-python",
   "name": "python",
   "nbconvert_exporter": "python",
   "pygments_lexer": "ipython3",
   "version": "3.7.12"
  },
  "papermill": {
   "default_parameters": {},
   "duration": 61.2528,
   "end_time": "2022-08-14T16:12:31.367283",
   "environment_variables": {},
   "exception": null,
   "input_path": "__notebook__.ipynb",
   "output_path": "__notebook__.ipynb",
   "parameters": {},
   "start_time": "2022-08-14T16:11:30.114483",
   "version": "2.3.4"
  }
 },
 "nbformat": 4,
 "nbformat_minor": 5
}
