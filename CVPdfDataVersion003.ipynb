{
 "cells": [
  {
   "cell_type": "code",
   "execution_count": 1,
   "id": "35b706a3",
   "metadata": {
    "_cell_guid": "b1076dfc-b9ad-4769-8c92-a6c4dae69d19",
    "_uuid": "8f2839f25d086af736a60e9eeb907d3b93b6e0e5",
    "execution": {
     "iopub.execute_input": "2022-08-31T15:46:18.570848Z",
     "iopub.status.busy": "2022-08-31T15:46:18.569429Z",
     "iopub.status.idle": "2022-08-31T15:46:18.604216Z",
     "shell.execute_reply": "2022-08-31T15:46:18.602887Z"
    },
    "papermill": {
     "duration": 0.047741,
     "end_time": "2022-08-31T15:46:18.608066",
     "exception": false,
     "start_time": "2022-08-31T15:46:18.560325",
     "status": "completed"
    },
    "tags": []
   },
   "outputs": [
    {
     "name": "stdout",
     "output_type": "stream",
     "text": [
      "/kaggle/input/cvalltogether/CV_brief.pdf\n",
      "/kaggle/input/cvalltogether/drmperfect_cv-april-2020.pdf\n",
      "/kaggle/input/cvalltogether/vita_external.pdf\n",
      "/kaggle/input/cvalltogether/Klar CV.pdf\n",
      "/kaggle/input/cvalltogether/blee_cv_2016.pdf\n",
      "/kaggle/input/cvalltogether/Canales_Robert_CV.pdf\n",
      "/kaggle/input/cvalltogether/MOORE-MONROY2015_0.pdf\n",
      "/kaggle/input/cvalltogether/CURRICULUM-VITAE_DHG_012519.pdf\n",
      "/kaggle/input/cvalltogether/RobertsonCV0818-2.pdf\n",
      "/kaggle/input/cvalltogether/hameroff2016cv_0.pdf\n",
      "/kaggle/input/cvalltogether/Alison-M-Meadow-cv.pdf\n",
      "/kaggle/input/cvalltogether/agaspar_cv.pdf\n",
      "/kaggle/input/cvalltogether/JO - 2171.pdf\n",
      "/kaggle/input/cvalltogether/Hoit CV (4-11-16).pdf\n",
      "/kaggle/input/cvalltogether/Liverman Selected CV May 2018.pdf\n",
      "/kaggle/input/cvalltogether/LBarraza CV 2020.pdf\n",
      "complete\n"
     ]
    }
   ],
   "source": [
    "# This Python 3 environment comes with many helpful analytics libraries installed\n",
    "# It is defined by the kaggle/python Docker image: https://github.com/kaggle/docker-python\n",
    "# For example, here's several helpful packages to load\n",
    "\n",
    "import numpy as np # linear algebra\n",
    "import pandas as pd # data processing, CSV file I/O (e.g. pd.read_csv)\n",
    "\n",
    "# Input data files are available in the read-only \"../input/\" directory\n",
    "# For example, running this (by clicking run or pressing Shift+Enter) will list all files under the input directory\n",
    "\n",
    "import os\n",
    "for dirname, _, filenames in os.walk('/kaggle/input'):\n",
    "    for filename in filenames:\n",
    "        print(os.path.join(dirname, filename))\n",
    "\n",
    "# You can write up to 20GB to the current directory (/kaggle/working/) that gets preserved as output when you create a version using \"Save & Run All\" \n",
    "# You can also write temporary files to /kaggle/temp/, but they won't be saved outside of the current session\n",
    "print(\"complete\")"
   ]
  },
  {
   "cell_type": "code",
   "execution_count": 2,
   "id": "cd4c0332",
   "metadata": {
    "execution": {
     "iopub.execute_input": "2022-08-31T15:46:18.623768Z",
     "iopub.status.busy": "2022-08-31T15:46:18.623067Z",
     "iopub.status.idle": "2022-08-31T15:46:33.090195Z",
     "shell.execute_reply": "2022-08-31T15:46:33.088426Z"
    },
    "papermill": {
     "duration": 14.478883,
     "end_time": "2022-08-31T15:46:33.094072",
     "exception": false,
     "start_time": "2022-08-31T15:46:18.615189",
     "status": "completed"
    },
    "tags": []
   },
   "outputs": [
    {
     "name": "stdout",
     "output_type": "stream",
     "text": [
      "Collecting pdfplumber\r\n",
      "  Downloading pdfplumber-0.7.4-py3-none-any.whl (40 kB)\r\n",
      "\u001b[2K     \u001b[90m━━━━━━━━━━━━━━━━━━━━━━━━━━━━━━━━━━━━━━━\u001b[0m \u001b[32m40.0/40.0 kB\u001b[0m \u001b[31m943.4 kB/s\u001b[0m eta \u001b[36m0:00:00\u001b[0m\r\n",
      "\u001b[?25hCollecting pdfminer.six==20220524\r\n",
      "  Downloading pdfminer.six-20220524-py3-none-any.whl (5.6 MB)\r\n",
      "\u001b[2K     \u001b[90m━━━━━━━━━━━━━━━━━━━━━━━━━━━━━━━━━━━━━━━━\u001b[0m \u001b[32m5.6/5.6 MB\u001b[0m \u001b[31m13.9 MB/s\u001b[0m eta \u001b[36m0:00:00\u001b[0m\r\n",
      "\u001b[?25hRequirement already satisfied: Pillow>=9.1 in /opt/conda/lib/python3.7/site-packages (from pdfplumber) (9.1.1)\r\n",
      "Requirement already satisfied: Wand>=0.6.7 in /opt/conda/lib/python3.7/site-packages (from pdfplumber) (0.6.10)\r\n",
      "Requirement already satisfied: cryptography>=36.0.0 in /opt/conda/lib/python3.7/site-packages (from pdfminer.six==20220524->pdfplumber) (37.0.2)\r\n",
      "Requirement already satisfied: charset-normalizer>=2.0.0 in /opt/conda/lib/python3.7/site-packages (from pdfminer.six==20220524->pdfplumber) (2.1.0)\r\n",
      "Requirement already satisfied: cffi>=1.12 in /opt/conda/lib/python3.7/site-packages (from cryptography>=36.0.0->pdfminer.six==20220524->pdfplumber) (1.15.0)\r\n",
      "Requirement already satisfied: pycparser in /opt/conda/lib/python3.7/site-packages (from cffi>=1.12->cryptography>=36.0.0->pdfminer.six==20220524->pdfplumber) (2.21)\r\n",
      "Installing collected packages: pdfminer.six, pdfplumber\r\n",
      "Successfully installed pdfminer.six-20220524 pdfplumber-0.7.4\r\n",
      "\u001b[33mWARNING: Running pip as the 'root' user can result in broken permissions and conflicting behaviour with the system package manager. It is recommended to use a virtual environment instead: https://pip.pypa.io/warnings/venv\u001b[0m\u001b[33m\r\n",
      "\u001b[0mcomplete\n"
     ]
    }
   ],
   "source": [
    "#all pip install\n",
    "!pip install pdfplumber\n",
    "print(\"complete\")"
   ]
  },
  {
   "cell_type": "code",
   "execution_count": 3,
   "id": "bff01376",
   "metadata": {
    "execution": {
     "iopub.execute_input": "2022-08-31T15:46:33.111715Z",
     "iopub.status.busy": "2022-08-31T15:46:33.111316Z",
     "iopub.status.idle": "2022-08-31T15:46:46.878695Z",
     "shell.execute_reply": "2022-08-31T15:46:46.876878Z"
    },
    "papermill": {
     "duration": 13.779326,
     "end_time": "2022-08-31T15:46:46.881546",
     "exception": false,
     "start_time": "2022-08-31T15:46:33.102220",
     "status": "completed"
    },
    "tags": []
   },
   "outputs": [
    {
     "name": "stdout",
     "output_type": "stream",
     "text": [
      "complete\n"
     ]
    }
   ],
   "source": [
    "#all import\n",
    "import pdfplumber\n",
    "import pandas as pd\n",
    "import os\n",
    "import spacy\n",
    "from spacy.matcher import Matcher\n",
    "\n",
    "from datetime import datetime\n",
    "\n",
    "import re\n",
    "from nltk.corpus import stopwords\n",
    "\n",
    "print(\"complete\")"
   ]
  },
  {
   "cell_type": "code",
   "execution_count": 4,
   "id": "3ff3b10e",
   "metadata": {
    "execution": {
     "iopub.execute_input": "2022-08-31T15:46:46.900369Z",
     "iopub.status.busy": "2022-08-31T15:46:46.899311Z",
     "iopub.status.idle": "2022-08-31T15:46:47.775583Z",
     "shell.execute_reply": "2022-08-31T15:46:47.774077Z"
    },
    "papermill": {
     "duration": 0.887485,
     "end_time": "2022-08-31T15:46:47.778095",
     "exception": false,
     "start_time": "2022-08-31T15:46:46.890610",
     "status": "completed"
    },
    "tags": []
   },
   "outputs": [
    {
     "name": "stdout",
     "output_type": "stream",
     "text": [
      "complete\n"
     ]
    }
   ],
   "source": [
    "# load pre-trained model\n",
    "nlp = spacy.load('en_core_web_sm')\n",
    "\n",
    "# initialize matcher with a vocab\n",
    "matcher = Matcher(nlp.vocab)\n",
    "print(\"complete\")"
   ]
  },
  {
   "cell_type": "code",
   "execution_count": 5,
   "id": "fd1f0a80",
   "metadata": {
    "execution": {
     "iopub.execute_input": "2022-08-31T15:46:47.794516Z",
     "iopub.status.busy": "2022-08-31T15:46:47.794123Z",
     "iopub.status.idle": "2022-08-31T15:47:58.036839Z",
     "shell.execute_reply": "2022-08-31T15:47:58.035633Z"
    },
    "papermill": {
     "duration": 70.261259,
     "end_time": "2022-08-31T15:47:58.046645",
     "exception": false,
     "start_time": "2022-08-31T15:46:47.785386",
     "status": "completed"
    },
    "tags": []
   },
   "outputs": [
    {
     "name": "stdout",
     "output_type": "stream",
     "text": [
      "complete\n"
     ]
    }
   ],
   "source": [
    "def extract_pdf(pdf_path):\n",
    "    linesOfFile = []\n",
    "    with pdfplumber.open(pdf_path) as pdf:\n",
    "        for pdf_page in pdf.pages:\n",
    "            single_page_text = pdf_page.extract_text()\n",
    "            for line in single_page_text.split('\\n'):\n",
    "                linesOfFile.append(line)\n",
    "                #print(linesOfFile)\n",
    "    return linesOfFile\n",
    "\n",
    "\n",
    "#folder_with_pdfs = '../input/cvalltogether'\n",
    "folder_with_pdfs = '../input/cvalltogether'\n",
    "\n",
    "\n",
    "linesOfFiles = []\n",
    "\n",
    "\n",
    "\n",
    "listOfPdfFiles=[]\n",
    "\n",
    "for pdf_file in os.listdir(folder_with_pdfs):\n",
    "    if pdf_file.endswith('.pdf'):\n",
    "        #print(pdf_file)\n",
    "        listOfPdfFiles.append(pdf_file)\n",
    "        pdf_file_path = os.path.join(folder_with_pdfs, pdf_file)\n",
    "        linesOfFile = extract_pdf(pdf_file_path)\n",
    "        linesOfFiles.append(linesOfFile)\n",
    "        \n",
    "        \n",
    "        \n",
    "        \n",
    "df = pd.DataFrame(linesOfFiles)\n",
    "#df.to_csv('test.csv')\n",
    "print(\"complete\")"
   ]
  },
  {
   "cell_type": "code",
   "execution_count": 6,
   "id": "9de7629f",
   "metadata": {
    "execution": {
     "iopub.execute_input": "2022-08-31T15:47:58.065183Z",
     "iopub.status.busy": "2022-08-31T15:47:58.063675Z",
     "iopub.status.idle": "2022-08-31T15:47:58.078361Z",
     "shell.execute_reply": "2022-08-31T15:47:58.076286Z"
    },
    "papermill": {
     "duration": 0.028162,
     "end_time": "2022-08-31T15:47:58.082115",
     "exception": false,
     "start_time": "2022-08-31T15:47:58.053953",
     "status": "completed"
    },
    "tags": []
   },
   "outputs": [
    {
     "name": "stdout",
     "output_type": "stream",
     "text": [
      "complete\n"
     ]
    }
   ],
   "source": [
    "# to do : do partial match , i.e. word+etc\n",
    "\n",
    "reference=[ \n",
    "            #node1\n",
    "            \"articles\",\"article\",\"books\",\"book\",\"chapters\",\"chapter\",\"citations\",\"citation\",\"editorials\",\"editorial\",\"journals\",\"journal\",\n",
    "               \"seminars\",\"seminar\",\"scholarly\",\n",
    "            #node2\n",
    "            \"awards\",\"award\",\"proposals\",\"proposal\",\"grants\",\"grant\",\"honors\",\"honor\",\"scholarships\",\"scholarship\",\"sponsored\",\n",
    "            #node3\n",
    "            \"appointments\",\"appointment\",\"experiences\",\"experience\",\"services\",\"service\",\"employments\",\"employment\",\"practices\",\"practice\",\n",
    "                \"professionals\",\"professional\",\n",
    "            #node4\n",
    "            \"affiliations\",\"affiliation\",\"memberships\",\"membership\",\"committees\",\"committee\",\n",
    "            #node5\n",
    "            \"contacts\",\"contact\",\"introductions\",\"introduction\",\n",
    "            #node6\n",
    "            \"publications\",\"publication\",\"conferences\",\"conference\",\"presentations\",\"presentation\",\"newsletters\",\"newsletter\",\"reports\",\"report\",\n",
    "            #node7\n",
    "            \"educations\",\"education\",\"certificates\",\"certificate\",\"certifications\",\"certification\",\n",
    "            #node8\n",
    "            \"researches\",\"research\",\n",
    "            #node9\n",
    "            \"teaching\",\"outreaches\",\"outreach\"\n",
    "          ]\n",
    "#to store data\n",
    "allCVData=[]\n",
    "#allCVData.append((\"fileName\",\"personName\",\"sectionName\",\"head\",\"relation/lebel\",\"tail\"))\n",
    "\n",
    "#print(allCVData)\n",
    "#print(reference,len(reference))\n",
    "\n",
    "print(\"complete\")"
   ]
  },
  {
   "cell_type": "code",
   "execution_count": 7,
   "id": "a1aa7537",
   "metadata": {
    "execution": {
     "iopub.execute_input": "2022-08-31T15:47:58.104289Z",
     "iopub.status.busy": "2022-08-31T15:47:58.103773Z",
     "iopub.status.idle": "2022-08-31T15:47:58.118980Z",
     "shell.execute_reply": "2022-08-31T15:47:58.116912Z"
    },
    "papermill": {
     "duration": 0.030626,
     "end_time": "2022-08-31T15:47:58.124004",
     "exception": false,
     "start_time": "2022-08-31T15:47:58.093378",
     "status": "completed"
    },
    "tags": []
   },
   "outputs": [
    {
     "name": "stdout",
     "output_type": "stream",
     "text": [
      "complete\n"
     ]
    }
   ],
   "source": [
    "def dfPartByPart(textList):\n",
    "    collectedText=[]\n",
    "    collectedByDictionary=dict()\n",
    "    collectedParts=dict()\n",
    "    keyDictionary=\"introductions\"\n",
    "    temp=[]\n",
    "\n",
    "    \n",
    "\n",
    "    for smallPartText in textList:\n",
    "        if smallPartText==None:\n",
    "            continue\n",
    "   \n",
    "        for partOfSmallPartText in smallPartText.split():\n",
    "            if len(partOfSmallPartText)<2:\n",
    "                continue\n",
    "            result = list(filter(lambda x: x==partOfSmallPartText.lower(), reference))\n",
    "            \n",
    "            if result:\n",
    "                #print(result,keyDictionary,temp,smallPartText)\n",
    "                #print(result,smallPartText)\n",
    "                collectedText.append(temp)\n",
    "                if keyDictionary in collectedByDictionary:\n",
    "                    collectedByDictionary[keyDictionary]=collectedByDictionary[keyDictionary]+temp\n",
    "                else:\n",
    "                    collectedByDictionary[keyDictionary]=temp\n",
    "                keyDictionary=result[0]\n",
    "                #print(result,keyDictionary)\n",
    "                temp=[]\n",
    "                break\n",
    "        \n",
    "        temp.append(smallPartText)\n",
    "    \n",
    "    \n",
    "    collectedText.append(temp)\n",
    "    if keyDictionary in collectedByDictionary:\n",
    "        collectedByDictionary[keyDictionary]=collectedByDictionary[keyDictionary]+temp\n",
    "    else:\n",
    "        collectedByDictionary[keyDictionary]=temp\n",
    "\n",
    "    return collectedByDictionary\n",
    "print(\"complete\")"
   ]
  },
  {
   "cell_type": "code",
   "execution_count": 8,
   "id": "023ef052",
   "metadata": {
    "execution": {
     "iopub.execute_input": "2022-08-31T15:47:58.147878Z",
     "iopub.status.busy": "2022-08-31T15:47:58.147435Z",
     "iopub.status.idle": "2022-08-31T15:47:58.170803Z",
     "shell.execute_reply": "2022-08-31T15:47:58.169081Z"
    },
    "papermill": {
     "duration": 0.039765,
     "end_time": "2022-08-31T15:47:58.175172",
     "exception": false,
     "start_time": "2022-08-31T15:47:58.135407",
     "status": "completed"
    },
    "tags": []
   },
   "outputs": [
    {
     "name": "stdout",
     "output_type": "stream",
     "text": [
      "complete\n"
     ]
    }
   ],
   "source": [
    "def reDistribute(prevSectionDictionary):\n",
    "    revisedSectionDictionary=dict()\n",
    "\n",
    "    for sectionPart in prevSectionDictionary:\n",
    "        if sectionPart in [\"articles\",\"article\",\"books\",\"book\",\"chapters\",\"chapter\",\"citations\",\"citation\",\"editorials\",\"editorial\",\"journals\",\"journal\",\"seminars\",\"seminar\",\"scholarly\"]:\n",
    "        \n",
    "            temp=\"articles / books / chapters / citations / editorials / journals / seminars / scholarly\"\n",
    "            if temp in revisedSectionDictionary:\n",
    "            \n",
    "                revisedSectionDictionary[temp].extend(prevSectionDictionary[sectionPart])\n",
    "            else:\n",
    "                revisedSectionDictionary[temp]=prevSectionDictionary[sectionPart]\n",
    "        elif sectionPart in [\"awards\",\"award\",\"proposals\",\"proposal\",\"grants\",\"grant\",\"honors\",\"honor\",\"scholarships\",\"scholarship\",\"sponsored\"]:\n",
    "        \n",
    "            temp=\"awards / grants / proposals / honors / scholarships / sponsored\"\n",
    "            if temp in revisedSectionDictionary:\n",
    "            \n",
    "                revisedSectionDictionary[temp].extend(prevSectionDictionary[sectionPart])\n",
    "            else:\n",
    "                revisedSectionDictionary[temp]=prevSectionDictionary[sectionPart]\n",
    "    \n",
    "        elif sectionPart in [\"appointments\",\"appointment\",\"experiences\",\"experience\",\"services\",\"service\",\"employments\",\"employment\",\"practices\",\"practice\",\"professionals\",\"professional\"]:\n",
    "        \n",
    "            temp=\"appointments / experiences / services / employments / practices / professionals\"\n",
    "            if temp in revisedSectionDictionary:\n",
    "            \n",
    "                revisedSectionDictionary[temp].extend(prevSectionDictionary[sectionPart])\n",
    "            else:\n",
    "                revisedSectionDictionary[temp]=prevSectionDictionary[sectionPart]\n",
    "        elif sectionPart in [\"affiliations\",\"affiliation\",\"memberships\",\"membership\",\"committees\",\"committee\"]:\n",
    "        \n",
    "            temp=\"affiliations / memberships / committees\"\n",
    "            if temp in revisedSectionDictionary:\n",
    "            \n",
    "                revisedSectionDictionary[temp].extend(prevSectionDictionary[sectionPart])\n",
    "            else:\n",
    "                revisedSectionDictionary[temp]=prevSectionDictionary[sectionPart]\n",
    "        elif sectionPart in [\"contacts\",\"contact\",\"introductions\",\"introduction\"]:\n",
    "        \n",
    "            temp=\"contacts / introductions\"\n",
    "            if temp in revisedSectionDictionary:\n",
    "            \n",
    "                revisedSectionDictionary[temp].extend(prevSectionDictionary[sectionPart])\n",
    "            else:\n",
    "                revisedSectionDictionary[temp]=prevSectionDictionary[sectionPart]\n",
    "        elif sectionPart in [\"publications\",\"publication\",\"conferences\",\"conference\",\"presentations\",\"presentation\",\"newsletters\",\"newsletter\",\"reports\",\"report\"]:\n",
    "        \n",
    "            temp=\"publications / conferences / presentations / newsletters / reports\"\n",
    "            if temp in revisedSectionDictionary:\n",
    "            \n",
    "                revisedSectionDictionary[temp].extend(prevSectionDictionary[sectionPart])\n",
    "            else:\n",
    "                revisedSectionDictionary[temp]=prevSectionDictionary[sectionPart]\n",
    "        elif sectionPart in [\"educations\",\"education\",\"certificates\",\"certificate\",\"certifications\",\"certification\"]:\n",
    "        \n",
    "            temp=\"educations / certificates / certifications\"\n",
    "            if temp in revisedSectionDictionary:\n",
    "            \n",
    "                revisedSectionDictionary[temp].extend(prevSectionDictionary[sectionPart])\n",
    "            else:\n",
    "                revisedSectionDictionary[temp]=prevSectionDictionary[sectionPart]\n",
    "        elif sectionPart in [\"researches\",\"research\"]:\n",
    "        \n",
    "            temp=\"researches\"\n",
    "            if temp in revisedSectionDictionary:\n",
    "            \n",
    "                revisedSectionDictionary[temp].extend(prevSectionDictionary[sectionPart])\n",
    "            else:\n",
    "                revisedSectionDictionary[temp]=prevSectionDictionary[sectionPart]\n",
    "        elif sectionPart in [\"teaching\",\"outreaches\",\"outreach\"]:\n",
    "        \n",
    "            temp=\"teaching / outreaches\"\n",
    "            if temp in revisedSectionDictionary:\n",
    "            \n",
    "                revisedSectionDictionary[temp].extend(prevSectionDictionary[sectionPart])\n",
    "            else:\n",
    "                revisedSectionDictionary[temp]=prevSectionDictionary[sectionPart]\n",
    "    return revisedSectionDictionary\n",
    "    \n",
    "    \n",
    "print(\"complete\")"
   ]
  },
  {
   "cell_type": "code",
   "execution_count": 9,
   "id": "0f30c6d1",
   "metadata": {
    "execution": {
     "iopub.execute_input": "2022-08-31T15:47:58.194269Z",
     "iopub.status.busy": "2022-08-31T15:47:58.193860Z",
     "iopub.status.idle": "2022-08-31T15:47:58.214259Z",
     "shell.execute_reply": "2022-08-31T15:47:58.213351Z"
    },
    "papermill": {
     "duration": 0.032264,
     "end_time": "2022-08-31T15:47:58.216680",
     "exception": false,
     "start_time": "2022-08-31T15:47:58.184416",
     "status": "completed"
    },
    "tags": []
   },
   "outputs": [
    {
     "name": "stdout",
     "output_type": "stream",
     "text": [
      "complete\n"
     ]
    }
   ],
   "source": [
    "#import re\n",
    "#from nltk.corpus import stopwords\n",
    "# load pre-trained model\n",
    "#nlp = spacy.load('en_core_web_sm')\n",
    "# Grad all general stop words\n",
    "STOPWORDS = set(stopwords.words('english'))\n",
    "# Education Degrees\n",
    "EDUCATIONDEGREE = [\n",
    "            'BE','B.E.', 'B.E', 'BS', 'B.S','B.S.','BSC','B.SC','B.SC.','C.A.','B.COM','BCOM',\n",
    "            'M.COM', 'MCOM','M.COM.',\n",
    "            'ME', 'M.E', 'M.E.', 'MS', 'M.S','M.S.','MSC','M.SC','M.SC.',\n",
    "            'BTECH', 'B.TECH','B.TECH.', 'M.TECH','M.TECH.', 'MTECH',\n",
    "            'PHD','PH.D', 'PH.D.','MBA','GRADUATE', \n",
    "            'POST-GRADUATE','MASTERS',\n",
    "            'SSC', 'HSC', 'CBSE', 'ICSE', 'X', 'XII'\n",
    "        ]\n",
    "def extract_educationDegree(resume_text):\n",
    "    nlp_text = nlp(resume_text)\n",
    "    # Sentence Tokenizer\n",
    "    nlp_text = [sent.text.strip() for sent in nlp_text.sents]\n",
    "    edu = []\n",
    "    \n",
    "    # Extract education degree\n",
    "    for index, text in enumerate(nlp_text):\n",
    "        text=text.replace(\",\",\" \")\n",
    "        #print(text)\n",
    "        for tex in text.split():\n",
    "            # Replace all special symbols\n",
    "            #tex = re.sub(r'[?|$|.|!|,]', r'', tex)\n",
    "            \n",
    "            if tex.upper() in EDUCATIONDEGREE and tex not in STOPWORDS:\n",
    "                \n",
    "                if tex not in edu:\n",
    "                    edu.append(tex)\n",
    "                                \n",
    "                \n",
    "    return edu\n",
    "print(\"complete\")"
   ]
  },
  {
   "cell_type": "code",
   "execution_count": 10,
   "id": "d534ed49",
   "metadata": {
    "execution": {
     "iopub.execute_input": "2022-08-31T15:47:58.234436Z",
     "iopub.status.busy": "2022-08-31T15:47:58.233521Z",
     "iopub.status.idle": "2022-08-31T15:47:58.240239Z",
     "shell.execute_reply": "2022-08-31T15:47:58.239048Z"
    },
    "papermill": {
     "duration": 0.018124,
     "end_time": "2022-08-31T15:47:58.242545",
     "exception": false,
     "start_time": "2022-08-31T15:47:58.224421",
     "status": "completed"
    },
    "tags": []
   },
   "outputs": [
    {
     "name": "stdout",
     "output_type": "stream",
     "text": [
      "complete\n"
     ]
    }
   ],
   "source": [
    "#import re\n",
    "#from datetime import datetime\n",
    "def getDate(dataMaybeDate):\n",
    "    \n",
    "\n",
    "    match = re.match(r'.*([1-3][0-9]{3})', dataMaybeDate)\n",
    "    if match is not None:\n",
    "        # Then it found a match!\n",
    "        #print(match.group(1))\n",
    "        print(match)\n",
    "        return match.group()\n",
    "    return None\n",
    "\n",
    "print(\"complete\")"
   ]
  },
  {
   "cell_type": "code",
   "execution_count": 11,
   "id": "b545fc05",
   "metadata": {
    "execution": {
     "iopub.execute_input": "2022-08-31T15:47:58.260513Z",
     "iopub.status.busy": "2022-08-31T15:47:58.259770Z",
     "iopub.status.idle": "2022-08-31T15:47:58.266218Z",
     "shell.execute_reply": "2022-08-31T15:47:58.265237Z"
    },
    "papermill": {
     "duration": 0.018042,
     "end_time": "2022-08-31T15:47:58.268460",
     "exception": false,
     "start_time": "2022-08-31T15:47:58.250418",
     "status": "completed"
    },
    "tags": []
   },
   "outputs": [],
   "source": [
    "def newGetDate(dataMaybeDate):\n",
    "    match = re.search('\\d{4}',dataMaybeDate)\n",
    "    match001=re.search('\\d{2}/\\d{2}/\\d{4}',dataMaybeDate)\n",
    "    \n",
    "    #if match001 is not None and int(match001)>1900 and int(match001)<2023:\n",
    "    if match001:\n",
    "        # Then it found a match!\n",
    "        #print(type(match001))\n",
    "        return match001.group(0)\n",
    "    \n",
    "    if match is not None :\n",
    "        # Then it found a match!\n",
    "        if int(match.group(0))>1900 and int(match.group(0))<2023:\n",
    "            return match.group(0)\n",
    "        return None\n",
    "    return None"
   ]
  },
  {
   "cell_type": "code",
   "execution_count": 12,
   "id": "686c7600",
   "metadata": {
    "execution": {
     "iopub.execute_input": "2022-08-31T15:47:58.287272Z",
     "iopub.status.busy": "2022-08-31T15:47:58.286493Z",
     "iopub.status.idle": "2022-08-31T15:47:58.293965Z",
     "shell.execute_reply": "2022-08-31T15:47:58.292256Z"
    },
    "papermill": {
     "duration": 0.019287,
     "end_time": "2022-08-31T15:47:58.296490",
     "exception": false,
     "start_time": "2022-08-31T15:47:58.277203",
     "status": "completed"
    },
    "tags": []
   },
   "outputs": [
    {
     "name": "stdout",
     "output_type": "stream",
     "text": [
      "complete\n"
     ]
    }
   ],
   "source": [
    "def findInstitute(tika_text):\n",
    "    sub_patterns = ['[A-Z][a-z]* University',\n",
    "                    '[A-Z][a-z]* Educational Institute',\n",
    "                '[A-Z][a-z]* College',\n",
    "                'University of [A-Z][a-z]*',\n",
    "                'The University of [A-Z][a-z]*',\n",
    "                    'TheUniversityof[A-Z][a-z]*',\n",
    "                'Ecole [A-Z][a-z]*',\n",
    "                   '[A-Z][a-z]*University',\n",
    "                    '[A-Z][a-z]*EducationalInstitute',\n",
    "                '[A-Z][a-z]*College',\n",
    "                'Universityof[A-Z][a-z]*',\n",
    "                'Ecole[A-Z][a-z]*']\n",
    "    pattern = '({})'.format('|'.join(sub_patterns))\n",
    "    matches = re.findall(pattern, tika_text)\n",
    "\n",
    "    return matches\n",
    "\n",
    "print(\"complete\")"
   ]
  },
  {
   "cell_type": "code",
   "execution_count": 13,
   "id": "d8ace2b5",
   "metadata": {
    "execution": {
     "iopub.execute_input": "2022-08-31T15:47:58.314839Z",
     "iopub.status.busy": "2022-08-31T15:47:58.313662Z",
     "iopub.status.idle": "2022-08-31T15:47:58.321009Z",
     "shell.execute_reply": "2022-08-31T15:47:58.319989Z"
    },
    "papermill": {
     "duration": 0.019872,
     "end_time": "2022-08-31T15:47:58.324243",
     "exception": false,
     "start_time": "2022-08-31T15:47:58.304371",
     "status": "completed"
    },
    "tags": []
   },
   "outputs": [
    {
     "name": "stdout",
     "output_type": "stream",
     "text": [
      "complete\n"
     ]
    }
   ],
   "source": [
    "def removePrefix(dataSent):\n",
    "    resDataIndex=0\n",
    "    for i in dataSent:\n",
    "        #if i.isalpha():\n",
    "        if i.isalnum():\n",
    "            #print(i,resDataIndex)\n",
    "            break\n",
    "        resDataIndex+=1\n",
    "    dataSent=dataSent[resDataIndex:]\n",
    "    return dataSent\n",
    "print(\"complete\")"
   ]
  },
  {
   "cell_type": "code",
   "execution_count": 14,
   "id": "ff5048f1",
   "metadata": {
    "execution": {
     "iopub.execute_input": "2022-08-31T15:47:58.343726Z",
     "iopub.status.busy": "2022-08-31T15:47:58.342272Z",
     "iopub.status.idle": "2022-08-31T15:47:59.000963Z",
     "shell.execute_reply": "2022-08-31T15:47:58.999673Z"
    },
    "papermill": {
     "duration": 0.670676,
     "end_time": "2022-08-31T15:47:59.003638",
     "exception": false,
     "start_time": "2022-08-31T15:47:58.332962",
     "status": "completed"
    },
    "tags": []
   },
   "outputs": [
    {
     "name": "stdout",
     "output_type": "stream",
     "text": [
      "complete\n"
     ]
    }
   ],
   "source": [
    "# load pre-trained model\n",
    "nlp = spacy.load('en_core_web_sm')\n",
    "\n",
    "# initialize matcher with a vocab\n",
    "matcher = Matcher(nlp.vocab)\n",
    "def extract_name(resume_text):\n",
    "    nlp_text = nlp(resume_text)\n",
    "    \n",
    "    # First name and Last name are always Proper Nouns\n",
    "    pattern = [{'POS': 'PROPN'}, {'POS': 'PROPN'}]\n",
    "    \n",
    "    matcher.add('NAME', [pattern], on_match = None)\n",
    "    \n",
    "    matches = matcher(nlp_text)\n",
    "    res=[]\n",
    "    \n",
    "    for match_id, start, end in matches:\n",
    "        span = nlp_text[start:end]\n",
    "        temp=span.text\n",
    "        if len(temp)>0:\n",
    "            lastoption=temp\n",
    "        if (\"vitae\" in temp.lower() or \"sciences\" in temp.lower() \n",
    "            or \"engineering\" in temp.lower() or \"biographical\" in temp.lower() \n",
    "            or \"no\" in temp.lower() or \"title\" in temp.lower() ):\n",
    "            continue\n",
    "        res.append(temp)\n",
    "    \n",
    "    return res\n",
    "print(\"complete\")"
   ]
  },
  {
   "cell_type": "code",
   "execution_count": 15,
   "id": "a56b5c19",
   "metadata": {
    "execution": {
     "iopub.execute_input": "2022-08-31T15:47:59.020933Z",
     "iopub.status.busy": "2022-08-31T15:47:59.020504Z",
     "iopub.status.idle": "2022-08-31T15:47:59.028410Z",
     "shell.execute_reply": "2022-08-31T15:47:59.026688Z"
    },
    "papermill": {
     "duration": 0.020113,
     "end_time": "2022-08-31T15:47:59.031497",
     "exception": false,
     "start_time": "2022-08-31T15:47:59.011384",
     "status": "completed"
    },
    "tags": []
   },
   "outputs": [
    {
     "name": "stdout",
     "output_type": "stream",
     "text": [
      "complete\n"
     ]
    }
   ],
   "source": [
    "#E-MAIL\n",
    "#import re\n",
    "def get_email_addresses(string):\n",
    "    r = re.compile(r'[\\w\\.-]+@[\\w\\.-]+')\n",
    "    return r.findall(string)\n",
    "\n",
    "\n",
    "print(\"complete\")"
   ]
  },
  {
   "cell_type": "code",
   "execution_count": 16,
   "id": "af7fd14b",
   "metadata": {
    "execution": {
     "iopub.execute_input": "2022-08-31T15:47:59.050022Z",
     "iopub.status.busy": "2022-08-31T15:47:59.049230Z",
     "iopub.status.idle": "2022-08-31T15:47:59.063609Z",
     "shell.execute_reply": "2022-08-31T15:47:59.062293Z"
    },
    "papermill": {
     "duration": 0.027182,
     "end_time": "2022-08-31T15:47:59.067159",
     "exception": false,
     "start_time": "2022-08-31T15:47:59.039977",
     "status": "completed"
    },
    "tags": []
   },
   "outputs": [
    {
     "name": "stdout",
     "output_type": "stream",
     "text": [
      "complete\n"
     ]
    }
   ],
   "source": [
    "def handleEducations(listOfEducations):\n",
    "    eduData=[]\n",
    "    pieceEduData=dict()\n",
    "    rest=\"\"\n",
    "    for eduPart in listOfEducations:\n",
    "        #print(type(eduPart))\n",
    "        \n",
    "        res=extract_educationDegree(eduPart)\n",
    "        if res:\n",
    "            if len(pieceEduData)!=0:\n",
    "                if len(rest)>1:\n",
    "                    pieceEduData[\"total details\"]=rest\n",
    "                    rest=\"\"\n",
    "                eduData.append(pieceEduData)\n",
    "                pieceEduData=dict()\n",
    "            pieceEduData[\"degree\"]=res[0]\n",
    "            index001=eduPart.find(res[0])\n",
    "            eduPart=eduPart[:index001]+eduPart[index001+len(res[0]):]\n",
    "            #print(res,index001,eduPart)\n",
    "            #print(res,eduPart)\n",
    "        #datePart=getDate(eduPart)\n",
    "        newDatePart=newGetDate(eduPart)\n",
    "        \n",
    "        #if datePart:\n",
    "        #    print(\"date:\",datePart)\n",
    "        if newDatePart:\n",
    "            pieceEduData[\"date\"]=newDatePart\n",
    "            index002=eduPart.find(newDatePart)\n",
    "            eduPart=eduPart[:index002]+eduPart[index002+len(newDatePart):]\n",
    "            #print(index002,\"date:\",newDatePart,eduPart)\n",
    "        \n",
    "        #test001=eduPart.split(\":\")\n",
    "        #for itest in test001:\n",
    "        if \"advisor\" in eduPart.lower():\n",
    "            \n",
    "            index003=eduPart.lower().find(\"advisor\")\n",
    "            advis001=eduPart[index003+len(\"advisor\"):]\n",
    "            advis001=removePrefix(advis001)\n",
    "            pieceEduData[\"advisor\"]=advis001\n",
    "            eduPart=eduPart[:index003]\n",
    "            #print(\"advisor\",advis001,eduPart)\n",
    "        org=findInstitute(eduPart)\n",
    "        if org:\n",
    "            pieceEduData[\"organization\"]=org[0]\n",
    "            index004=eduPart.find(org[0])\n",
    "            eduPart=eduPart[:index004]+eduPart[index004+len(org[0]):]\n",
    "            #print(org,eduPart)\n",
    "        #print(eduPart)\n",
    "        eduPart=removePrefix(eduPart)\n",
    "        if len(eduPart)>1:\n",
    "            rest+=eduPart\n",
    "        #print(eduPart)\n",
    "    if len(pieceEduData)!=0:\n",
    "        if len(rest)>1:\n",
    "            pieceEduData[\"total details\"]=rest\n",
    "                    #rest=\"\"\n",
    "        eduData.append(pieceEduData)\n",
    "    return eduData\n",
    "print(\"complete\")"
   ]
  },
  {
   "cell_type": "code",
   "execution_count": 17,
   "id": "526cc64c",
   "metadata": {
    "execution": {
     "iopub.execute_input": "2022-08-31T15:47:59.085890Z",
     "iopub.status.busy": "2022-08-31T15:47:59.085073Z",
     "iopub.status.idle": "2022-08-31T15:47:59.094793Z",
     "shell.execute_reply": "2022-08-31T15:47:59.093768Z"
    },
    "papermill": {
     "duration": 0.02173,
     "end_time": "2022-08-31T15:47:59.097461",
     "exception": false,
     "start_time": "2022-08-31T15:47:59.075731",
     "status": "completed"
    },
    "tags": []
   },
   "outputs": [
    {
     "name": "stdout",
     "output_type": "stream",
     "text": [
      "complete\n"
     ]
    }
   ],
   "source": [
    "def handleContacts(sentDataContacts):\n",
    "    \n",
    "    contactDetails=dict()\n",
    "    \n",
    "    #otherDetails=[]\n",
    "    \n",
    "    #print(sentDataContacts)\n",
    "    textContacts001=\",\".join(sentDataContacts)\n",
    "    nameContacts001=extract_name(textContacts001)\n",
    "    if nameContacts001:\n",
    "        contactDetails[\"name\"]=nameContacts001[0]\n",
    "    else:\n",
    "        contactDetails[\"name\"]=sentDataContacts[0]\n",
    "    \n",
    "    #flagContact=False\n",
    "    othersRests=[]\n",
    "    #print(nameContacts001[0],nameContacts001)\n",
    "    for contacts00 in sentDataContacts:\n",
    "        #dateFound001=newGetDate(contacts00)\n",
    "        #print(dateFound001,contacts00)\n",
    "        \n",
    "        \n",
    "        \n",
    "        e_mailContacts=get_email_addresses(contacts00)\n",
    "        if e_mailContacts:\n",
    "            #print(e_mailContacts,contacts00)\n",
    "            #contactIndex001=contacts00.lower().find(e_mailContacts)\n",
    "            contactIndex001=contacts00.find(e_mailContacts[0])\n",
    "            \n",
    "            contacts00=contacts00[:contactIndex001]+contacts00[contactIndex001+len(e_mailContacts[0]):]\n",
    "            contacts00=removePrefix(contacts00)\n",
    "            \n",
    "            \n",
    "            contactDetails[\"e-mails\"]=e_mailContacts[0]\n",
    "            #print(e_mailContacts,contacts00)\n",
    "        othersRests.append(contacts00)\n",
    "    contactDetails[\"other_details\"]=\" \".join(othersRests)\n",
    "    return contactDetails\n",
    "print(\"complete\")"
   ]
  },
  {
   "cell_type": "code",
   "execution_count": 18,
   "id": "b4e8c07d",
   "metadata": {
    "execution": {
     "iopub.execute_input": "2022-08-31T15:47:59.116503Z",
     "iopub.status.busy": "2022-08-31T15:47:59.116076Z",
     "iopub.status.idle": "2022-08-31T15:48:07.498841Z",
     "shell.execute_reply": "2022-08-31T15:48:07.497373Z"
    },
    "papermill": {
     "duration": 8.395445,
     "end_time": "2022-08-31T15:48:07.501511",
     "exception": false,
     "start_time": "2022-08-31T15:47:59.106066",
     "status": "completed"
    },
    "tags": []
   },
   "outputs": [
    {
     "name": "stdout",
     "output_type": "stream",
     "text": [
      "16\n",
      "complete\n"
     ]
    }
   ],
   "source": [
    "matrix_res = df.to_numpy()\n",
    "\n",
    "print(len(matrix_res))\n",
    "#print(allCVData)\n",
    "\n",
    "for i in range(len(matrix_res)):\n",
    "   \n",
    "    tempData00=[]\n",
    "    \n",
    "    sectionDictionary=dfPartByPart(matrix_res[i])\n",
    "    \n",
    "    #print(sectionDictionary.keys())\n",
    "    #print(sectionDictionary['introductions'])\n",
    "    #print(sectionDictionary['educations'])\n",
    "    \n",
    "    #print(allCVData)\n",
    "    \n",
    "    newSectionDictionary=reDistribute(sectionDictionary)\n",
    "    \n",
    "    #print(newSectionDictionary.keys())\n",
    "    #print(newSectionDictionary['contacts / introductions'])\n",
    "    \n",
    "    contactPart001,educationsPart001=dict(),dict()\n",
    "    \n",
    "    text00=newSectionDictionary['contacts / introductions']\n",
    "    personName00=extract_name(\",\".join(text00))\n",
    "    \n",
    "    \n",
    "    if len(personName00)==0:\n",
    "        \n",
    "        personNameLast=matrix_res[i][0]\n",
    "    else:\n",
    "        personNameLast=personName00[0]\n",
    "    #print(i,personNameLast)\n",
    "    \n",
    "    \n",
    "    \n",
    "    for partSections in newSectionDictionary:\n",
    "        tempData00=[personNameLast]\n",
    "        if partSections=='contacts / introductions' and newSectionDictionary[partSections]:\n",
    "            tempData00.append(\"contact details\")\n",
    "            tempData00.append(partSections)\n",
    "            contactPart001=handleContacts(newSectionDictionary[partSections])\n",
    "            for parts in contactPart001:\n",
    "                tempData00.append(parts)\n",
    "                tempData00.append(contactPart001[parts])\n",
    "                \n",
    "                #print(tempData00)\n",
    "                allCVData.append(tempData00)\n",
    "                \n",
    "                tempData00.pop()\n",
    "                tempData00.pop()\n",
    "            \n",
    "            tempData00.pop()\n",
    "            tempData00.pop()\n",
    "            \n",
    "            #print(contactPart001) \n",
    "            #done for now\n",
    "        elif partSections=='educations / certificates / certifications' and newSectionDictionary[partSections]:\n",
    "            tempData00.append(\"qualifications details\")\n",
    "            tempData00.append(partSections)\n",
    "            educationsPart001=handleEducations(newSectionDictionary[partSections])\n",
    "            for parts001 in educationsPart001:\n",
    "                tempData00.append(\"degree earned\")\n",
    "                if 'degree' in parts001:\n",
    "                    tempData00.append(parts001['degree'])\n",
    "                else:\n",
    "                    tempData00.append(\"Degree\")\n",
    "                \n",
    "                for smallparts002 in parts001:\n",
    "                    tempData00.append(smallparts002)\n",
    "                    tempData00.append(parts001[smallparts002])\n",
    "                    \n",
    "                    #print(tempData00)\n",
    "                    allCVData.append(tempData00.copy())\n",
    "                    \n",
    "                    tempData00.pop()\n",
    "                    tempData00.pop()\n",
    "                tempData00.pop()\n",
    "                tempData00.pop()\n",
    "        \n",
    "            #print(educationsPart001)\n",
    "            #done for now\n",
    "    #print(contactPart001,educationsPart001)\n",
    "    #if i==0:\n",
    "    #    break\n",
    "#print(sectionDictionary)\n",
    "print(\"complete\")"
   ]
  },
  {
   "cell_type": "code",
   "execution_count": 19,
   "id": "baff108b",
   "metadata": {
    "execution": {
     "iopub.execute_input": "2022-08-31T15:48:07.520111Z",
     "iopub.status.busy": "2022-08-31T15:48:07.519331Z",
     "iopub.status.idle": "2022-08-31T15:48:07.530056Z",
     "shell.execute_reply": "2022-08-31T15:48:07.529158Z"
    },
    "papermill": {
     "duration": 0.026064,
     "end_time": "2022-08-31T15:48:07.535920",
     "exception": false,
     "start_time": "2022-08-31T15:48:07.509856",
     "status": "completed"
    },
    "tags": []
   },
   "outputs": [
    {
     "name": "stdout",
     "output_type": "stream",
     "text": [
      "[['Sunder Sethuraman'], ['Sunder Sethuraman'], ['Sunder Sethuraman'], ['Sunder Sethuraman', 'qualifications details', 'educations / certificates / certifications', 'degree earned', 'Ph.D.', 'degree', 'Ph.D.'], ['Sunder Sethuraman', 'qualifications details', 'educations / certificates / certifications', 'degree earned', 'Ph.D.', 'date', '1995'], ['Sunder Sethuraman', 'qualifications details', 'educations / certificates / certifications', 'degree earned', 'Ph.D.', 'organization', 'York University'], ['Sunder Sethuraman', 'qualifications details', 'educations / certificates / certifications', 'degree earned', 'Ph.D.', 'total details', 'EducationCourant Institute, New , New York, NY.'], ['Sunder Sethuraman', 'qualifications details', 'educations / certificates / certifications', 'degree earned', 'B.S.', 'degree', 'B.S.'], ['Sunder Sethuraman', 'qualifications details', 'educations / certificates / certifications', 'degree earned', 'B.S.', 'date', '1986'], ['Sunder Sethuraman', 'qualifications details', 'educations / certificates / certifications', 'degree earned', 'B.S.', 'organization', 'Stanford University'], ['Sunder Sethuraman', 'qualifications details', 'educations / certificates / certifications', 'degree earned', 'B.S.', 'total details', 'Stanford, CA.Diploma Florida High School, Tallahassee, FL.'], ['Michelle M.'], ['Michelle M.'], ['Michelle M.'], ['Michelle M.', 'qualifications details', 'educations / certificates / certifications', 'degree earned', 'Degree', 'date', '2012'], ['Michelle M.', 'qualifications details', 'educations / certificates / certifications', 'degree earned', 'Degree', 'total details', 'Chronology of Education 2008  Texas A&M continuing education in psychopharmacology Spring  – present  Medical Education Curriculum Committee Fall   College of Education Research Methods Working Group Fall  – Fall 2009  College of Education Academic Programs Committee Perfect, M.M. (). Evidence for a sleep health education program? Journal of Clinical Sleep Medicine, 10, 793 – 794. Perfect, M.M. (). The relations of sleep and glucose to school performance in youth intervention and special education referrals. School Psychology Forum, 8, 156-167. Perfect, M.M., Levine-Donnerstein, D., Archbold, K., Goodwin, J.E., & Quan, S.F. (). The contribution of multiple sleep disturbances on school and psychosocial functioning. Psychology in the Schools, 51, 273-295. Perfect, M.M., Stoll, K.A., Thompson, K., Scott, R.E. (). Analysis of state laws and policies following the implementation of the Fostering Connections to Success and Increasing Adoptions Act. School Psychology Forum, 7, 50-64. *** Perfect, M.M., Archbold, K., Goodwin, J., Levine-Donnerstein, D., & Quan, S.F. Risk of difficulties in behavioral and adaptive functioning in youth with persistent and current sleep-disordered breathing. SLEEP, 26, 517 - 525. Perfect, M.M., & Jaramillo, E. (). Relations between resiliency, diabetes-related quality of life, and disease markers to school-related outcomes in adolescents with diabetes. School Psychology Quarterly, 27, 29 – 40. *** Perfect, M.M., Patel, P.G., Scott, R.E., Wheeler, M.D., Patel, C., Griffin, K., Sorensen, S.T., Goodwin, J., & Quan, S.F. (). Sleep, glucose, and daytime functioning in youth with type 1 diabetes. SLEEP, 35, 81 - 88. *** Dix, T., Meunier, L.N., Lusk, K., & Perfect, M.M. (). Mothers’ Depressive symptoms and children’s facial emotions: Examining the depression-inhibition hypothesis. Developmental Psychopathology, 24, 195 – 210. '], ['Michelle M.', 'qualifications details', 'educations / certificates / certifications', 'degree earned', 'C.A.', 'degree', 'C.A.'], ['Michelle M.', 'qualifications details', 'educations / certificates / certifications', 'degree earned', 'C.A.', 'date', '2006'], ['Michelle M.', 'qualifications details', 'educations / certificates / certifications', 'degree earned', 'C.A.', 'total details', 'Morrow, K.L., Thompson, , Flatt, S.W., Wertheim, B.C., Perfect, M.M., Ravia, J., Sherwood, N.E., Karanja, N., & Rock, C.L. (). Relationship between sleep and weight loss in women participating in a weight loss intervention trial. Obesity, *** Elkins, G.,R., Fisher, W., Johnson, A., Kendrick, C., Koep, L., Bunn, J. & Perfect, M.M. Initial development of a brief measure of psychological distress. Psychological Reports, 110, 218 – 226. Perfect, M.M., Tharinger, D.T., Keith, T.Z., & Lyle-Lahroud, T. (). Relations between Minnesota Multiphasic Personality Inventory-A Scales and Rorschach variables with the Frye, S. & Perfect, M. M. (, August). An analysis of state laws related to the education of youth who are medically involved. Symposium presented at the Annual Meeting of the American Psychological Association, Washington, DC. *** Perfect, M. M. & Frye, S. (, August). Hospital school programs for coordinating pediatric sleep and education performance correlations. In Spring Simulation Multi-Conference. Frye, S., & Perfect, M.M. (, February). Sleep to feel better: Benefits of a sleep extension intervention for internalizing symptoms in youth with Type 1 Diabetes. Paper presented at the  National Association of School Psychologists Annual Convention, New Orleans, Louisiana. *** Perfect, M.M, Terjesen, M., Frye, S., & Quan, S. (, February). Measuring Sleep problems among youth internationally: Methodology, outcomes, and implications. symposium presented at the  National Association of School Psychologists Annual Convention, New Orleans, Louisiana. *** Perfect, M.M, Tanner, N., Frye, S., Schroeder, M., & Quan, S. (, August). Real- time monitoring of sleep in practice, research, and personal use. In M. Perfect (Chair), Symposium presented at the 123rd Annual Meeting of the American Psychological Association, Toronto, Ontario. *** Tanner, N., Perfect, M., Hicks, C., Turley, M.R., Chin, C., & Wheeler, M. (, August). Real-time monitoring of diabetes management in practice, research, and personal use. In M. Perfect (Chair), Symposium presented at the 123rd Annual Meeting of the American Psychological Association, Toronto, Ontario. *** Frye, S., Perfect, M.M., & Tanner, N. (, August). Resiliency in youth with chronic medical conditions: Examples of youth with diabetes. Paper presented at the 123rd Annual Meeting of the American Psychological Association, Toronto, Ontario. *** Tanner, N. Perfect, M.M., & Frye, S. (, August). Multi-Informant perspective of psychosocial functioning in youth with type 1 diabetes. Presented at the 123rd Annual Meeting of the American Psychological Association, Toronto, Ontario. *** Schroeder, M., Perfect, M.M., Bluez, G.P., & Wong, R. (, August). Teachers’ sleep and decision-making: A quasi-experimental study. Presented at the 123rd Annual Meeting of the American Psychological Association, Toronto, Ontario. *** Turley, M.R, & Perfect, M.M. (, August). Prevalence and School-related outcomes of traumatic exposure and traumatic stress in students. In S. Overstreet (Chair), Symposium presented at the 123rd Annual Meeting of the American Psychological Association, Toronto, Ontario. *** Perfect, M.M. (, February). Sleepy schools: The role of sleep in youth with and without INTERN Supplement for The Z-factor Program: A Data-Driven, Sleep Education Program to Improve STEM in Elementary School Students Sponsor: National Science Foundation (1433185 Supplement) Role: Principal Investigator (Co-PI: Roveda) Amount Awarded: $189,000 Funding Period: July  – June 2020 (NCE) Extending Sleep to Improve Glycemic Control in Pediatric Type 1 Diabetes Sponsor: National Institutes of Health (R01-DK-110528) Role: Principal Investigator Amount Awarded: $2,100,000 Funding Period: July 1,  – June 30, 2022 Pathways to Doctoral Studies in Education-Related Fields: Underrepresented Students AWARDSS) (Access, Wellness, and Relational Determinants of School Success) Training Program Sponsor: Institute of Educational Sciences (R305B160003) Role: Principal Investigator (Co-PI: Brown) Amount Awarded: $1,073,278 Funding Period: August  – July 2021 Driven, Sleep Education Program to Improve STEM in Elementary School Students Sponsor: National Science Foundation (1433185 supplement) Role: Principal Investigator (Co-PI: Roveda) Amount Awarded: $58,000 Funding Period: April  – December 2017 (No-Cost Extension to June 2020) The Z-factor Program: A Data-Driven, Sleep Education Program to Improve STEM in Elementary School Students Sponsor: National Science Foundation (1433185) Role: Principal Investigator (Co-PI: Roveda) Amount Awarded: $1,199,322 Funding Period: January  – December 2017 (No Cost Extension to June 2020) Sponsor: Scott and White Education and Research Foundation Role: Principal Investigator Total Funded Amount: $39,998.00 Project Period: April  - September 2006 A Pilot Study of Expressive Prayer and Immunity Sponsor: Scott and White Education and Research Foundation '], ['Michelle M.', 'qualifications details', 'educations / certificates / certifications', 'degree earned', 'Ph.D.', 'degree', 'Ph.D.'], ['Michelle M.', 'qualifications details', 'educations / certificates / certifications', 'degree earned', 'Ph.D.', 'date', '2006'], ['Michelle M.', 'qualifications details', 'educations / certificates / certifications', 'degree earned', 'Ph.D.', 'total details', 'Role: Co-Investigator; Gary Elkins,  (P.I.) Total Funded Amount: $40,000.00 Project Period: February  - September 2006 Reliability and Validity of the Elkins Distress Scale Sponsor: Scott and White Education and Research Foundation '], ['Michelle M.', 'qualifications details', 'educations / certificates / certifications', 'degree earned', 'Ph.D.', 'degree', 'Ph.D.'], ['Michelle M.', 'qualifications details', 'educations / certificates / certifications', 'degree earned', 'Ph.D.', 'date', '2005'], ['Michelle M.', 'qualifications details', 'educations / certificates / certifications', 'degree earned', 'Ph.D.', 'total details', 'Role: Co-Investigator; Gary Elkins,  (P.I.) Total Funded Amount: $2,998.00 Project Period: August  - August 2006 Hypnotizability in Men Sponsor: Scott and White Education and Research Foundation '], ['Michelle M.', 'qualifications details', 'educations / certificates / certifications', 'degree earned', 'Ph.D.', 'degree', 'Ph.D.'], ['Michelle M.', 'qualifications details', 'educations / certificates / certifications', 'degree earned', 'Ph.D.', 'date', '1993'], ['Michelle M.', 'qualifications details', 'educations / certificates / certifications', 'degree earned', 'Ph.D.', 'organization', 'Ithaca College'], ['Michelle M.', 'qualifications details', 'educations / certificates / certifications', 'degree earned', 'Ph.D.', 'total details', 'Role: Co-Investigator; Gary Elkins,  (P.I.) Scott certificate program (neuroanatomy, immunology, endocrinology, neurophysiology) 2004   at Austin, Austin, TX Doctor of Philosophy in Educational Psychology (major: School Psychology; APA approved) 1999  New , New York, NY Master of Arts, Psychology 1997  , Ithaca, NY Bachelor of Arts, Psychology & History Licenses and Certificates Arizona Licensed Psychologist #3876 Arizona Certified School Psychologist '], ['Thomas Garrett'], ['Thomas Garrett'], ['Thomas Garrett'], ['Thomas Garrett', 'qualifications details', 'educations / certificates / certifications', 'degree earned', 'Ph.D.', 'degree', 'Ph.D.'], ['Thomas Garrett', 'qualifications details', 'educations / certificates / certifications', 'degree earned', 'Ph.D.', 'date', '1981'], ['Thomas Garrett', 'qualifications details', 'educations / certificates / certifications', 'degree earned', 'Ph.D.', 'organization', 'Indiana University'], ['Thomas Garrett', 'qualifications details', 'educations / certificates / certifications', 'degree earned', 'Ph.D.', 'advisor', 'David Brydges, Major ﬁeld: mathematical physics.'], ['Thomas Garrett', 'qualifications details', 'educations / certificates / certifications', 'degree earned', 'Ph.D.', 'total details', 'Educationin Mathematics, Doctoral dissertation: “Mean ﬁeld theory for Coulomb systems”M.A. in Mathematics, '], ['Thomas Garrett', 'qualifications details', 'educations / certificates / certifications', 'degree earned', 'B.S.', 'degree', 'B.S.'], ['Thomas Garrett', 'qualifications details', 'educations / certificates / certifications', 'degree earned', 'B.S.', 'date', '1977'], ['Thomas Garrett', 'qualifications details', 'educations / certificates / certifications', 'degree earned', 'B.S.', 'total details', 'in Mathematics, California Institute of Technology'], ['Samara Klar'], ['Samara Klar'], ['Samara Klar'], ['Samara Klar', 'qualifications details', 'educations / certificates / certifications', 'degree earned', 'Ph.D.', 'degree', 'Ph.D.'], ['Samara Klar', 'qualifications details', 'educations / certificates / certifications', 'degree earned', 'Ph.D.', 'date', '2013'], ['Samara Klar', 'qualifications details', 'educations / certificates / certifications', 'degree earned', 'Ph.D.', 'organization', 'Northwestern University'], ['Samara Klar', 'qualifications details', 'educations / certificates / certifications', 'degree earned', 'Ph.D.', 'total details', 'EDUCATION Evanston, IL Political Science (American Politics and Quantitative Methodology)  Dissertation: “The Influence of Identities on Political Preferences.”  '], ['Benjamin R.'], ['Benjamin R.'], ['Benjamin R.'], ['Benjamin R.', 'qualifications details', 'educations / certificates / certifications', 'degree earned', 'Degree', 'date', '2010'], ['Benjamin R.', 'qualifications details', 'educations / certificates / certifications', 'degree earned', 'Degree', 'organization', 'Cornell University'], ['Benjamin R.', 'qualifications details', 'educations / certificates / certifications', 'degree earned', 'Degree', 'total details', 'Education 1990  Bachelor of Arts, Biological Sciences, Magna Cum Laude College of Arts and Sciences Ithaca, New York Training / Education / Position General Surgery Internship    -95  The Johns Hopkins Hospital General Surgery Resident    -96  The Johns Hopkins Hospital Urology Resident      -00  The James Buchanan Brady Urological Institute  The Johns Hopkins Hospital Education Council, American Urological Association, Chair-AV, 6/3/-5/23/2012 '], ['Benjamin R.', 'qualifications details', 'educations / certificates / certifications', 'degree earned', 'Graduate', 'degree', 'Graduate'], ['Benjamin R.', 'qualifications details', 'educations / certificates / certifications', 'degree earned', 'Graduate', 'date', '2005'], ['Benjamin R.', 'qualifications details', 'educations / certificates / certifications', 'degree earned', 'Graduate', 'organization', 'Taiwan University'], ['Benjamin R.', 'qualifications details', 'educations / certificates / certifications', 'degree earned', 'Graduate', 'total details', 'Medical Education Teleconferencing Committtee, Tulane, August -present Capital Prioritization Committee, Tulane Medical Center, -present Vice Chair, Audio Visual Committee, American Urological Association, 5/22/ - 6/2/2010 Tulane Quality Improvement Committee,  School of Medicine, 1/-present Chair, Website Committee, Endourological Society, -present Operating Room Committee, North Shore-Long Island Jewish Medical Center, -2008 Moderator, Technology & Instruments: Surgical Education & Skills Assessment Page 23 of 76 Benjamin R. Lee, M.D. 5th International Symposium on Focal Therapy and Imaging in Prostate and Kidney Cancer, How to start a Renal Ablation Program”.  , Durham, North Carolina, June 7, . Taiwanese Urological Association, Asian Society of Endourology, National  Hopsital, Taipei, Taiwan, August 18-19, . Complications in Laparoscopic & Robotic surgery:  Prevention and Management Evolution of Robotic/ Laparoscopic Renal surgery:  What have we learned? Robotic radical nerve sparing prostatectomy:  Role of the Interfascial layer & Steps to optimize      continence Moderator, Technology & Instruments: Surgical Education & Skills  Faculty, Course: Advanced robotics course on Genitourinary reconstruction 13th Chinese Urological Association Endourological Meeting, with East Asian Society of Endourology Asian Society of Endourology, Hefei, China.   May 30-June 2,  Complications of Laparoscopic and Robotic surgery:  Prevention and management. British Association of Urological Surgery, Manchester, England, June 17-20th,  Emerging Imaging Technology for Urologic Oncologic Surgery- Kidney, Session: What’s Hot in Laparoscopy. Evolution of Robotic renal surgery, Session: International Brish Urological Society (IBUS)  Emerging Imaging Technology for Urologic Oncologic Surgery – Prostate & Lower tract, Session: BAUS/AUA Joint Program: Updates in Minimally Invasive Renal Surgery Challenges in Endourology, Paris, France, June 26-29,  Panel discussion, Challenging cases in Endourology Baton Rouge General Hospital, September 12,  Contemporary Management of Renal Cell Carcinoma: Robotic Partial Nephrectomy Congreso de la Confederacion Americana de Urologia (CAU), Lima, Peru, October 2-5,  Minimally Invasive Partial Nephrectomy – Indications and complications AUA Small Renal Mass Guidelines Advances in Endourological Technology and SWL 31st World Congress of Endourology, New Orleans, LA, USA, October 22-26,  Evolution of Robotic Renal Surgery: What have we learned, Where are we going? Robotic Partial Nephrectomy: Minimizing Ischemia During Robotic Partial Nephrectomy: A Step-by-Step Approach. Live Surgery: Robotic Partial Nephrectomy for Right Posterior Hilar Mass, Operating Surgeon from Tulane Medical Center to the plenary session. Page 25 of 76 Benjamin R. Lee, M.D. Moderator, Plenary Session Organizing Secretary 78th Southeastern Section, AUA, Hollywood, Florida, March 20-23, . Surgical Navigation and Advanced Imaging Louisiana Urological Association, New Orleans, April 11-13, . Robotic Partial Nephrectomy for Stage T1b/T2 renal cell carcinoma.  Intermediate outcomes and AUA Guidelines for imaging followup. Certification Diplomate, American Board of Urology,     #13100, expires 2/28/2023 DaVinci Robotic Training Certificate      Page 2 of 76 Benjamin R. Lee, M.D. '], ['AuYeung W'], ['AuYeung W'], ['AuYeung W', 'qualifications details', 'educations / certificates / certifications', 'degree earned', 'BS', 'degree', 'BS'], ['AuYeung W', 'qualifications details', 'educations / certificates / certifications', 'degree earned', 'BS', 'date', '1996'], ['AuYeung W', 'qualifications details', 'educations / certificates / certifications', 'degree earned', 'BS', 'organization', 'The University'], ['AuYeung W', 'qualifications details', 'educations / certificates / certifications', 'degree earned', 'BS', 'total details', 'Chronology of Education with Honors, Civil Engineering,  of Texas at Austin '], ['AuYeung W', 'qualifications details', 'educations / certificates / certifications', 'degree earned', 'MS', 'degree', 'MS'], ['AuYeung W', 'qualifications details', 'educations / certificates / certifications', 'degree earned', 'MS', 'date', '1997'], ['AuYeung W', 'qualifications details', 'educations / certificates / certifications', 'degree earned', 'MS', 'organization', 'Stanford University'], ['AuYeung W', 'qualifications details', 'educations / certificates / certifications', 'degree earned', 'MS', 'total details', 'Civil & Environmental Engineering,  '], ['AuYeung W', 'qualifications details', 'educations / certificates / certifications', 'degree earned', 'MS', 'degree', 'MS'], ['AuYeung W', 'qualifications details', 'educations / certificates / certifications', 'degree earned', 'MS', 'date', '2000'], ['AuYeung W', 'qualifications details', 'educations / certificates / certifications', 'degree earned', 'MS', 'organization', 'Stanford University'], ['AuYeung W', 'qualifications details', 'educations / certificates / certifications', 'degree earned', 'MS', 'total details', 'Statistics,  '], ['AuYeung W', 'qualifications details', 'educations / certificates / certifications', 'degree earned', 'PhD', 'degree', 'PhD'], ['AuYeung W', 'qualifications details', 'educations / certificates / certifications', 'degree earned', 'PhD', 'date', '2004'], ['AuYeung W', 'qualifications details', 'educations / certificates / certifications', 'degree earned', 'PhD', 'organization', 'Stanford University'], ['AuYeung W', 'qualifications details', 'educations / certificates / certifications', 'degree earned', 'PhD', 'advisor', 'James O. Leckie '], ['AuYeung W', 'qualifications details', 'educations / certificates / certifications', 'degree earned', 'PhD', 'total details', 'Environmental Engineering & Science, Civil & Environmental Engineering,  Dissertation:  The Cumulative and Aggregate Simulation of Exposure (CASE) Framework '], ['AuYeung W', 'qualifications details', 'educations / certificates / certifications', 'degree earned', 'Graduate', 'degree', 'Graduate'], ['AuYeung W', 'qualifications details', 'educations / certificates / certifications', 'degree earned', 'Graduate', 'date', '2006'], ['AuYeung W', 'qualifications details', 'educations / certificates / certifications', 'degree earned', 'Graduate', 'organization', 'Architectural College'], ['AuYeung W', 'qualifications details', 'educations / certificates / certifications', 'degree earned', 'Graduate', 'total details', 'Certificate, Sustainable Design, Boston  Postdoctoral Fellow, Exposure, Epidemiology & Risk Program, Harvard School of Public Health '], ['Martha J.'], ['Martha J.'], ['Martha J.', 'qualifications details', 'educations / certificates / certifications', 'degree earned', 'Degree', 'date', '2014'], ['Martha J.', 'qualifications details', 'educations / certificates / certifications', 'degree earned', 'Degree', 'total details', \"1995  Board member for the “Woman to Woman” project peer health education project broad approach to public health program adaptation: adapting a family-based diabetes education program.” J Prim Prev.  Apr;31(1-2):69-83. doi: 10.1007/s10935-010-0208-6. PMID: 20140646 10.  Moore-Monroy M, Wilkinson-Lee AM, Verdugo L, Lopez E, Paez L, Rodriguez D, Wilhelm M, Garcia F. Addressing the information gap: developing and implementing a cervical cancer prevention education campaign grounded in principles of community-based participatory action.” Health Promot Pract.  Mar;14(2):274-83. doi: 10.1177/1524839912454141. Epub 2012 Sep 14. PMID: 22982702. 11.  Cosgrove S, Moore-Monroy M, Jenkins C, Castillo SR, Williams C, Parris E, Tran JH, Rivera MD, Brownstein JN. “Community health workers as an integral strategy in the REACH U.S. program to eliminate health inequities.” Health Promot Pract.  Nov;15(6):795-802. doi: 10.1177/ 1524839914541442. Epub 2014 Jul 25. PMID: 25063590. Develop, deliver, and test a novel personalized education intervention that engages female Medicaid beneficiaries in making decisions about age-appropriate evidence-based utilization of women's preventive services. Role: Co-Investigator Completed U58DP001044        Garcia (PI)         09/30/07-05/29/13 CDC  Race and Ethnic Approaches to Community Health (REACH)—Cervical Cancer Prevention Partnership The goal of this project is to utilize a series of lay community health worker patient education interventions to address cervical cancer disparities from the perspective of primary, secondary and tertiary prevention.  The proposed Action Community will specifically address cervical cancer prevention through community-based participatory action grounded in the culture and values of southern Arizona’s large, medically under-served, Mexican-American community.  Role: Co-Investigator U58DP004710          Moore-Monroy (PI)      11/01/12-09/29/14 \"], ['Dawn H.'], ['Dawn H.'], ['Dawn H.'], ['Dawn H.', 'qualifications details', 'educations / certificates / certifications', 'degree earned', 'graduate', 'degree', 'graduate'], ['Dawn H.', 'qualifications details', 'educations / certificates / certifications', 'degree earned', 'graduate', 'total details', 'IPM Institute Green Shield Certification program.   I teach guest lectures on public health pest ecology and IPM, serve on  student '], ['Dawn H.', 'qualifications details', 'educations / certificates / certifications', 'degree earned', 'graduate', 'degree', 'graduate'], ['Dawn H.', 'qualifications details', 'educations / certificates / certifications', 'degree earned', 'graduate', 'date', '2008'], ['Dawn H.', 'qualifications details', 'educations / certificates / certifications', 'degree earned', 'graduate', 'organization', 'University of Bangor'], ['Dawn H.', 'qualifications details', 'educations / certificates / certifications', 'degree earned', 'graduate', 'total details', 'committees, and host  and undergraduate student interns. ACE) certification program committee Shield Certification Program 2.  -present, Board member IPM Institute of North America, Inc. http://www.ipminstitute.org/about.htm#IPMInstituteBoardofDirectors  3.  -present, National Pest Management Association, QualityPro Public Health Task Force STAR Certification for School Systems: Rewarding Pest Management Excellence in Schools and Childcare Facilities. American Entomology 53 (3): 168-174. 23) Yu, H., D. H. Gouge, S. P. Stock and P. Baker. . Development of Entomopathogenic Nematodes (Rhabditida: Steinernematidae; Heterorhabditidae) in the Desert Subterranean Chronology of Education Wales), United Kingdom '], ['Dawn H.', 'qualifications details', 'educations / certificates / certifications', 'degree earned', 'B.Sc.', 'degree', 'B.Sc.'], ['Dawn H.', 'qualifications details', 'educations / certificates / certifications', 'degree earned', 'B.Sc.', 'date', '1986'], ['Dawn H.', 'qualifications details', 'educations / certificates / certifications', 'degree earned', 'B.Sc.', 'advisor', 's: Drs. Richard Shattock and Malcolm Cherrett '], ['Dawn H.', 'qualifications details', 'educations / certificates / certifications', 'degree earned', 'B.Sc.', 'organization', 'University of Reading'], ['Dawn H.', 'qualifications details', 'educations / certificates / certifications', 'degree earned', 'B.Sc.', 'total details', 'Honors) Applied Biology, September -Graduated June 1990  Undergraduate Project Title: Physiology of asexual sporulation in Phytophthora palmivora Major Fields: Crop Protection and Applied Zoology Department of Agriculture, United Kingdom  '], ['Dawn H.', 'qualifications details', 'educations / certificates / certifications', 'degree earned', 'Ph.D.', 'degree', 'Ph.D.'], ['Dawn H.', 'qualifications details', 'educations / certificates / certifications', 'degree earned', 'Ph.D.', 'date', '2010'], ['Dawn H.', 'qualifications details', 'educations / certificates / certifications', 'degree earned', 'Ph.D.', 'advisor', 'Dr. Nigel G. M. Hague '], ['Dawn H.', 'qualifications details', 'educations / certificates / certifications', 'degree earned', 'Ph.D.', 'total details', 'Entomology and Nematology, October -Graduated July 1994  Thesis Title: Biological Control of Sciarid Flies (Diptera: Sciaridae) with Entomopathogenic Nematodes (Nematoda: Rhabditida), Including Reference to Other Diptera  Major Fields: Applied Nematology and Entomology Awarded to Gouge, D. H. National Foundation for IPM Education Award.  Awarded to all members participating in the national implementation program, U. S. Environmental Protection Agency, Children’s Environmental Health Recognition Awards. http://yosemite.epa.gov/ochp/ochpweb.nsf/content/_CEH_Awards.htm  Awarded to the Children’s Environmental Health Coalition. Valley Forward, pesticide hazard and risk communication within IPM extension education programing. https://agsci.oregonstate.edu/integrated-plant-protection-center/western-pesticide-risk-reduction-project  4.  -2018, Pesticide Safety Education Leadership Team Member 5.  -present, Maricopa Agricultural Center, CORE Team Member 6.  -present, Department of Entomology Diversity and Inclusion Chair 7.  -present, MAC Faculty Council 8.  -present, Public Health Leadership Team Chair 3.  -present, Pesticide Safety Education Program hiring committee. Distributed Extension Education (peer-reviewed)  Biology and Control of Vectors and Public Health Pests: Distributed Education Materials Snyder, T. Stock, K. U., D. Young. Stop School Pests - Whole Sale Education Efforts to Kickstart a School IPM Program. 8th International IPM Symposium, Salt Lake City, Utah. Submitted 16. September 25-29, . Gouge, D. H., S. Li, S. Nair, M. Wierda, K. Drake, T. Stock, A. Fournier. Extreme Pesticide Use in Response to Cimex lectularius and Blattella germanica Infestations. XXV International Congress of Entomology, Orlando, Florida. Submitted 17. September 25-29, . Li, S., D. H. Gouge, A. Fournier, T. Stock, A. Romero, D. Young, S. Nair, C. Foss, R. Kerzee, D. Stone, M. Dunn, D. Spurgeon, R. LaMorte. Life Quality Impacts of Bed Bug (Cimex lectularius L.) Infestations. XXV International Congress of Entomology, Orlando, Florida. Submitted 18. September 25-29, . Nair, S., D. H. Gouge, A. Fournier, K. Umeda, D. Kopec, U. Schuch, S. Li, P. Warren, M. Wierda. School IPM - Inside and Out. XXV International Congress of Entomology, Orlando, Florida. Submitted 19. March 19–22, . Gouge, D. H., S. Li, S. Nair, N. Pier. Integrated Pest Management—A Simple Solution to Wicked Problem Pests in Elderly and Disabled Public Housing. 9th International IPM Symposium, Baltimore, Maryland. Invited Continuing Education Units=CEUs} OPM = AZ Office of Pest Management ( became AZ Division of Pest Management), NEHA = National Environmental Health Association, NASN = National Association of School Nurses.  Speaker: Gouge, D. H. only, unless others are listed. 1.  September 20, . Scorpions. Phoenix Home Owners Association. Phoenix, Arizona. Invited 2.  January 24-25, . A Child’s Environmental Health Program. Board of Regents, Tucson, Arizona. Invited 3.  March 26, . Integrated Pest Management (IPM) Programs for Schools. Vector-Borne Arizona Going Green Continuing Education Conference and Expo, Mesa, Arizona. Invited 14. November 23, . Pesticide Health Effects. Maricopa County Master Gardeners In-service, Phoenix, Arizona. Speaker and Event Coordinator 15. February 8, . Pests and Pest Ecology. Target Specialty Products Continuing Education Conference and Expo. Mesa, Arizona. Invited 16. February 13, . How and Why to Implement an IPM Program, Bed Bugs and Blood '], ['Dawn H.', 'qualifications details', 'educations / certificates / certifications', 'degree earned', 'Masters', 'degree', 'Masters'], ['Dawn H.', 'qualifications details', 'educations / certificates / certifications', 'degree earned', 'Masters', 'date', '2010'], ['Dawn H.', 'qualifications details', 'educations / certificates / certifications', 'degree earned', 'Masters', 'total details', 'Feeding Bugs in the Classroom. Northern New England  Conference. Exeter, New Hampshire. Invited 17. May 13, . With D. Hickok. StopPests in San Francisco Public Housing, Sunnydale, California. Speaker and Event Coordinator 18. June 10, . With A. Taisey and C. Foss. StopPests in Guam Housing and Urban Renewal Authority Public Housing, Toto Gardens, Guam. Speaker and Event Coordinator 19. June 17, . With A. Taisey and C. Foss. StopPests in Hawaii Public Housing, Kuhio Homes and Kuhio Park Terrace, Hawaii. Speaker and Event Coordinator 20. June 28, . Don’t Let the Bed Bugs Bite 101, Don’t Let the Bed Bugs Bite Advanced. Association of Infection Control Practitioners. Prescott, Arizona. Speaker and Event Coordinator 21. June, . With S. Glick. Why the School Custodian in my Hero. Clark County School District Custodian In-service. Las Vegas, Nevada. Invited 22. July 20-21, . Arthropod Pest Management in Schools, Ectoparasite IPM (ticks & head lice), Management of Rodents and Bats, The Ultimate Parasite, School Inspection Practicum. National Tribal School IPM Training Program. Phoenix, Arizona. Speaker and Event Coordinator 23. August 26, . Bed Bugs Advanced Class - Management Protocols, Pesticide Efficacy, Arizona Saguaro Continuing Education Conference and Expo, Carefree, Arizona. Invited 25. November 12, . Bed bugs, Mosquitoes and West Nile Virus. Community Pest Issues Workshop. Phoenix, Arizona. Speaker and Event Coordinator 26. November 16-17, . Going Green with Pest Control in your Kitchen. Maricopa County Food Safety from the Field to the Table, Mesa, Arizona. Invited Education (SHADE) Conference, Tucson, AZ. 30 participants/4 CEUs. Invited 121.  September 22, . Itchy bug update: Training for school nurses, ESS facilitators, maintenance and administrative staff. Phoenix Union High School District Support Facility, Phoenix AZ. 26 participants. Invited 122.  October 2, . Night with the Stars. With R. La Morte. Interactions with Arthropods. Arizona Museum of Natural History, Mesa, Arizona. 241 participants. Invited 123.  October 15, . Itchy Bugs and Adult Day Health Centers. Phoenix AZ. 12 participants. Invited 124.  October 26, . Mosquitoes; Bed bugs and other itchy bugs. State Signature Program Initiative School IPM Seminar. Pima Cooperative Extension Office, Tucson, AZ. 19 participants/38 AZ OPM CEUs. Speaker and Event Co-Coordinator 125.  October 29, . Mosquitoes; Bed bugs and other itchy bugs. State Signature Program Initiative School IPM Seminar. Maricopa Cooperative Extension Office, Phoenix, AZ. 52 participants/ 104 AZ OPM CEUs. Speaker and Event Co-Coordinator 126.  November 4, . Bed Dread – Human Health Impacts of Bed Bugs. Arizona Modes of Action. Pesticide Safety Education Workshop. Sierra Vista, AZ. 55 participants/30 AZ OPM CEUs & 9 AZ ADA CEUs. Speaker 132.  March 2, . Mosquitoes, biting midges, ticks; Rodents. State Signature Program Initiative School IPM. Mohave Cooperative Extension Office, Kingman, AZ. 32 participants/36 AZ OPM CEUs. Speaker 133.  March 10, . Working with Bed Bugs. Phoenix Housing Maintenance Staff IPM Education Morning. Phoenix, AZ. 48 participants. Invited  134.  March 29, . Subsidized Housing IPM. Northwestern Annual Education Conference. Tucson, AZ. 83 participants/166 AZ OPM CEUs. Invited 135.  March 31, . Medically Significant Venomous Insects and Arachnids (2 Communities. $4,200. NIFA, Pesticide Safety Education Program. 100%, PI 7.  Ellsworth, P., A. Fournier, P. Baker, D. H. Gouge, A. Mostafa, S. Bealmear, U. Schuch,  and W. McCloskey. -2013. The Arizona Pest Management Center: Enhancing '], ['CHRISTOPHER T.'], ['CHRISTOPHER T.'], ['CHRISTOPHER T.'], ['CHRISTOPHER T.', 'qualifications details', 'educations / certificates / certifications', 'degree earned', 'Degree', 'date', '2005'], ['CHRISTOPHER T.', 'qualifications details', 'educations / certificates / certifications', 'degree earned', 'Degree', 'total details', 'II. EDUCATION J.D., Harvard Law School, magna cum laude () Petrie-Flom Student Fellow in Health Law Policy, Biotechnology and Bioethics Missouri Department of Higher Education ().  Consultant for American Chemical Society ().  Trainer for Coro Leadership Center (2003-2005). 16 '], ['Alison M.'], ['Alison M.'], ['Alison M.', 'qualifications details', 'educations / certificates / certifications', 'degree earned', 'M.S.', 'degree', 'M.S.'], ['Alison M.', 'qualifications details', 'educations / certificates / certifications', 'degree earned', 'M.S.', 'date', '2010'], ['Alison M.', 'qualifications details', 'educations / certificates / certifications', 'degree earned', 'M.S.', 'organization', 'University of Arizona'], ['Alison M.', 'qualifications details', 'educations / certificates / certifications', 'degree earned', 'M.S.', 'total details', 'Education     Planning                                                                                                                      Concentration: Environmental and Healthy Cities Planning '], ['Alison M.', 'qualifications details', 'educations / certificates / certifications', 'degree earned', 'Ph.D.', 'degree', 'Ph.D.'], ['Alison M.', 'qualifications details', 'educations / certificates / certifications', 'degree earned', 'Ph.D.', 'date', '1996'], ['Alison M.', 'qualifications details', 'educations / certificates / certifications', 'degree earned', 'Ph.D.', 'organization', 'Trent University'], ['Alison M.', 'qualifications details', 'educations / certificates / certifications', 'degree earned', 'Ph.D.', 'advisor', 'Robert A. Williams, Jr. '], ['Alison M.', 'qualifications details', 'educations / certificates / certifications', 'degree earned', 'Ph.D.', 'total details', 'Anthropology                                                                                  Fairbanks Dissertation: Evaluating and Designing Urban Food Systems M.A. American Indian Studies                                                                                           Thesis: The Legislation of Identity B.A. (Hons.) Native Studies and Anthropology                                                               '], ['András Gáspár'], ['András Gáspár'], ['András Gáspár'], ['András Gáspár', 'qualifications details', 'educations / certificates / certifications', 'degree earned', 'Ph.D.', 'degree', 'Ph.D.'], ['András Gáspár', 'qualifications details', 'educations / certificates / certifications', 'degree earned', 'Ph.D.', 'date', '2011'], ['András Gáspár', 'qualifications details', 'educations / certificates / certifications', 'degree earned', 'Ph.D.', 'organization', 'TheUniversityofArizona'], ['András Gáspár', 'qualifications details', 'educations / certificates / certifications', 'degree earned', 'Ph.D.', 'advisor', 'Prof.GeorgeH.Rieke'], ['András Gáspár', 'qualifications details', 'educations / certificates / certifications', 'degree earned', 'Ph.D.', 'total details', 'Education  ,Astronomy,StewardObservatory,Thesis: “Observationsandmodelsofinfrareddebrisdisksignaturesandtheirevolution”'], ['András Gáspár', 'qualifications details', 'educations / certificates / certifications', 'degree earned', 'M.Sc.', 'degree', 'M.Sc.'], ['András Gáspár', 'qualifications details', 'educations / certificates / certifications', 'degree earned', 'M.Sc.', 'date', '2008'], ['András Gáspár', 'qualifications details', 'educations / certificates / certifications', 'degree earned', 'M.Sc.', 'organization', 'TheUniversityofArizona'], ['András Gáspár', 'qualifications details', 'educations / certificates / certifications', 'degree earned', 'M.Sc.', 'advisor', 'Prof.GeorgeH.Rieke'], ['András Gáspár', 'qualifications details', 'educations / certificates / certifications', 'degree earned', 'M.Sc.', 'total details', 'Astronomy,StewardObservatory,'], ['András Gáspár', 'qualifications details', 'educations / certificates / certifications', 'degree earned', 'B.Sc.', 'degree', 'B.Sc.'], ['András Gáspár', 'qualifications details', 'educations / certificates / certifications', 'degree earned', 'B.Sc.', 'date', '2006'], ['András Gáspár', 'qualifications details', 'educations / certificates / certifications', 'degree earned', 'B.Sc.', 'organization', 'UniversityofSzeged'], ['András Gáspár', 'qualifications details', 'educations / certificates / certifications', 'degree earned', 'B.Sc.', 'advisor', 'Dr.ZoltánBalog'], ['András Gáspár', 'qualifications details', 'educations / certificates / certifications', 'degree earned', 'B.Sc.', 'total details', 'Astronomy,,Hungary'], ['Hongki Jo'], ['Hongki Jo'], ['Hongki Jo'], ['Hongki Jo', 'qualifications details', 'educations / certificates / certifications', 'degree earned', 'Ph.D.', 'degree', 'Ph.D.'], ['Hongki Jo', 'qualifications details', 'educations / certificates / certifications', 'degree earned', 'Ph.D.', 'date', '2013'], ['Hongki Jo', 'qualifications details', 'educations / certificates / certifications', 'degree earned', 'Ph.D.', 'organization', 'University of Illinois'], ['Hongki Jo', 'qualifications details', 'educations / certificates / certifications', 'degree earned', 'Ph.D.', 'total details', 'EDUCATION in Civil Engineering, August  at Urbana-Champaign, Urbana, IL Major in Structural Engineering Thesis title: Multi-scale Structural Health Monitoring using Wireless Smart Sensors '], ['Hongki Jo', 'qualifications details', 'educations / certificates / certifications', 'degree earned', 'M.S.', 'degree', 'M.S.'], ['Hongki Jo', 'qualifications details', 'educations / certificates / certifications', 'degree earned', 'M.S.', 'date', '2001'], ['Hongki Jo', 'qualifications details', 'educations / certificates / certifications', 'degree earned', 'M.S.', 'total details', 'in Civil Engineering, February  KAIST, Daejeon, Korea Major in Structural Engineering Thesis title: Natural Frequency and Mode shape Sensitivity of Damped Systems '], ['Hongki Jo', 'qualifications details', 'educations / certificates / certifications', 'degree earned', 'B.S.', 'degree', 'B.S.'], ['Hongki Jo', 'qualifications details', 'educations / certificates / certifications', 'degree earned', 'B.S.', 'date', '1999'], ['Hongki Jo', 'qualifications details', 'educations / certificates / certifications', 'degree earned', 'B.S.', 'total details', 'in Civil Engineering, February  Korea Advanced Institute of Science and Technology (KAIST), Daejeon, Korea '], ['Hongki Jo', 'qualifications details', 'educations / certificates / certifications', 'degree earned', 'Graduate', 'degree', 'Graduate'], ['Hongki Jo', 'qualifications details', 'educations / certificates / certifications', 'degree earned', 'Graduate', 'total details', 'first in the Department, GPA 3.85/4.30 (A+ =4.3) '], ['N. Campbell'], ['N. Campbell'], ['N. Campbell'], ['N. Campbell', 'qualifications details', 'educations / certificates / certifications', 'degree earned', 'Degree', 'date', '2011'], ['N. Campbell', 'qualifications details', 'educations / certificates / certifications', 'degree earned', 'Degree', 'organization', 'University of California'], ['N. Campbell', 'qualifications details', 'educations / certificates / certifications', 'degree earned', 'Degree', 'total details', \"EDUCATION 90  Postdoctoral Study; Physiology Program, , and Speech  Continuing Education Award, American Speech-Language-Hearing Association Continuing Education Award, American Speech-Language-Hearing Association Commencement Speaker (College of Health and Human Services, San Diego  Continuing Education Award, American Speech-Language-Hearing Association Office of Education Grant (four semesters) San Diego ) 75  Dean's List ( at Los Angeles) Education materials Co-Editor, American Speech-Language-Hearing Association Continuing Education  presented at the Communication Sciences and Special Education (CSSE) Summer Institute, Athens, GA. Hoit, J. (June, ). Evaluation of velopharyngeal function during speech production. Miniseminar presented at the Communication Sciences and Special Education (CSSE) Summer Institute, Athens, GA. presented at the Governor's Council on Head and Spinal Injuries: Higher Education Sub-Committee Education course for practicing professionals).  Topics in speech and hearing sciences (colloquium series coordinator). \"], ['N. Campbell', 'qualifications details', 'educations / certificates / certifications', 'degree earned', 'Graduate', 'degree', 'Graduate'], ['N. Campbell', 'qualifications details', 'educations / certificates / certifications', 'degree earned', 'Graduate', 'date', '1981'], ['N. Campbell', 'qualifications details', 'educations / certificates / certifications', 'degree earned', 'Graduate', 'organization', 'University of Arizona'], ['N. Campbell', 'qualifications details', 'educations / certificates / certifications', 'degree earned', 'Graduate', 'total details', 'Member, Strategic Plan for  Education Committee, College of Science Ad hoc member, Pre- and Postdoctoral Selection Committee, Motor Control Neurobiology Mortar Board Certificate of Recognition for Outstanding Academic Achievement for 95 () Certificate of Clinical Competence in Speech-Language Pathology from the American Speech-Language-Hearing Association State of California Licensure in School Audiometry CERTIFICATION present   State of Arizona Licensure in Speech-Language Pathology (#SLP0264) State of California Licensure in Speech-Language Pathology certification and licensure, resume building, clinical ethics, research ethics, among others. '], ['N. Campbell', 'qualifications details', 'educations / certificates / certifications', 'degree earned', 'graduate', 'degree', 'graduate'], ['N. Campbell', 'qualifications details', 'educations / certificates / certifications', 'degree earned', 'graduate', 'date', '2000'], ['N. Campbell', 'qualifications details', 'educations / certificates / certifications', 'degree earned', 'graduate', 'total details', 'Survival Skills and Ethics (3-unit  course)  '], ['N. Campbell', 'qualifications details', 'educations / certificates / certifications', 'degree earned', 'masters', 'degree', 'masters'], ['N. Campbell', 'qualifications details', 'educations / certificates / certifications', 'degree earned', 'masters', 'total details', 'New course designed for , doctoral, and postdoctoral students university-wide.  Topics include effective speaking, effective writing, grantspersonship, mentoring, art and  science of teaching, beyond the degree, and successful surviving. Ethical issues are  integrated across topics. '], ['N. Campbell', 'qualifications details', 'educations / certificates / certifications', 'degree earned', 'graduate', 'degree', 'graduate'], ['N. Campbell', 'qualifications details', 'educations / certificates / certifications', 'degree earned', 'graduate', 'date', '1996'], ['N. Campbell', 'qualifications details', 'educations / certificates / certifications', 'degree earned', 'graduate', 'total details', '98  Survival Skills for Scientists (2-unit  course) New course designed primarily for doctoral and postdoctoral students in the sciences.   Topics include oral communication, writing, networking, grantspersonship, mentoring,  career options, teaching, among others. Ethical issues are integrated across topics. '], ['N. Campbell', 'qualifications details', 'educations / certificates / certifications', 'degree earned', 'graduate', 'degree', 'graduate'], ['N. Campbell', 'qualifications details', 'educations / certificates / certifications', 'degree earned', 'graduate', 'date', '1995'], ['N. Campbell', 'qualifications details', 'educations / certificates / certifications', 'degree earned', 'graduate', 'total details', 'Neuromotor Speech Disorders (3-unit  course)  Nature and bases of neuromotor speech disorders. Principles and methods for evaluation  and management of neuromotor speech disorders.  Clinical Observation and Analysis (1-unit undergraduate course) Writing emphasis course.  Includes development and refinement of clinical-observation and  report-writing skills.   '], ['N. Campbell', 'qualifications details', 'educations / certificates / certifications', 'degree earned', 'graduate', 'degree', 'graduate'], ['N. Campbell', 'qualifications details', 'educations / certificates / certifications', 'degree earned', 'graduate', 'date', '1995'], ['N. Campbell', 'qualifications details', 'educations / certificates / certifications', 'degree earned', 'graduate', 'total details', '00   Experimental Phonetics:  Physiology (3-unit  course) '], ['DIANA M.'], ['DIANA M.'], ['DIANA M.'], ['DIANA M.', 'qualifications details', 'educations / certificates / certifications', 'degree earned', 'Ph.D.', 'degree', 'Ph.D.'], ['DIANA M.', 'qualifications details', 'educations / certificates / certifications', 'degree earned', 'Ph.D.', 'date', '1998'], ['DIANA M.', 'qualifications details', 'educations / certificates / certifications', 'degree earned', 'Ph.D.', 'organization', 'University of Arizona'], ['DIANA M.', 'qualifications details', 'educations / certificates / certifications', 'degree earned', 'Ph.D.', 'advisor', 's: Werner Terjung and Stephen Schneider.  Completed through a '], ['DIANA M.', 'qualifications details', 'educations / certificates / certifications', 'degree earned', 'Ph.D.', 'total details', 'Education  Geography, ,  Los Angeles (UCLA), USA  Dissertation: The use of a simulation model in assessing the impacts of climate on the world food system. Environmental Education amongst the Seri of Sonora\" (Teacher, Boston) 11)  Katrin Neubeuer. MA . Latin American Studies. . \"Driving forces for tropical deforestation in Mexico: Ejido and land use changes in Marques de Comillas, Chiapas, Mexico.\" (NGO, Germany)  12)  Megan Bartlett. MA . Latin American Studies.  (NGO, Minneapolis)  13)  Joanna Tucker. MA . Latin American Studies.  (postdoc Univ Florida) 14)  Ane Schjolden. MA . Geography and Regional Development.  Beth Mitchnek, co-supervisor). \"Globalization, Liberalization and Restructuring of the Brazilian telecommunications industry: the end of technological capability.\" (Norway, Forum for Environment and Development) 15)  Hallie Eakin. MA . . Geography and Regional Development.  Adaptation to climatic variability in Tlaxcala, Mexico: constraints and opportunities for '], ['DIANA M.', 'qualifications details', 'educations / certificates / certifications', 'degree earned', 'PhD', 'degree', 'PhD'], ['DIANA M.', 'qualifications details', 'educations / certificates / certifications', 'degree earned', 'PhD', 'date', '2002'], ['DIANA M.', 'qualifications details', 'educations / certificates / certifications', 'degree earned', 'PhD', 'organization', 'University of Arizona'], ['DIANA M.', 'qualifications details', 'educations / certificates / certifications', 'degree earned', 'PhD', 'total details', 'small-scale maize producers\" (went on to  see below)  16)  Lucy Stanfield. MA . , Geography and Regional Development. EPA, Chicago)  17)  Kimi Eisele. MA . . Geography and Regional Development.  Landscapes of Solidarity: The children of Colonia Solidaridad, Nogales, Sonora.\"(writer, Tucson).  18)  Laura Paulson. MA . Latin American Studies. . \"Globalization and survival of the smallholder: the role of agricultural restructuring in land use change in Michoacan, Mexico.\" (Nature Conservancy, Mexico)   19)  Annika Hipple. MA . Latin American Studies, . “Environment and the media in Mexico” (writer, Vermont)  20)  Erika Trigoso. MA . , Department of Geography and Regional '], ['DIANA M.', 'qualifications details', 'educations / certificates / certifications', 'degree earned', 'PhD', 'degree', 'PhD'], ['DIANA M.', 'qualifications details', 'educations / certificates / certifications', 'degree earned', 'PhD', 'date', '2003'], ['DIANA M.', 'qualifications details', 'educations / certificates / certifications', 'degree earned', 'PhD', 'organization', 'University of Arizona'], ['DIANA M.', 'qualifications details', 'educations / certificates / certifications', 'degree earned', 'PhD', 'total details', 'Development. “ Vulnerability and response to El Niño in Piura, Peru” (went on to , see below).  21)  Jeanine Valcour, MA . , Latin American Studies. “Climate change vulnerability in Belize.” (NGO, Boston) '], ['DIANA M.', 'qualifications details', 'educations / certificates / certifications', 'degree earned', 'MSc', 'degree', 'MSc'], ['DIANA M.', 'qualifications details', 'educations / certificates / certifications', 'degree earned', 'MSc', 'date', '2004'], ['DIANA M.', 'qualifications details', 'educations / certificates / certifications', 'degree earned', 'MSc', 'total details', '22)  Karen Suasanna,  . Oxford.  Social movements and recycling in Sao Paulo, Brasil. (Programme Officer, Oak Foundation) '], ['DIANA M.', 'qualifications details', 'educations / certificates / certifications', 'degree earned', 'MSc', 'degree', 'MSc'], ['DIANA M.', 'qualifications details', 'educations / certificates / certifications', 'degree earned', 'MSc', 'date', '2004'], ['DIANA M.', 'qualifications details', 'educations / certificates / certifications', 'degree earned', 'MSc', 'total details', '23)  Ghinwa Chammas,  . Oxford, Education for Life: The effect of Climate Change Education at School on People’s Perception of Climate Change (Sustainability consultant, Atkins inc.) '], ['DIANA M.', 'qualifications details', 'educations / certificates / certifications', 'degree earned', 'MSc', 'degree', 'MSc'], ['DIANA M.', 'qualifications details', 'educations / certificates / certifications', 'degree earned', 'MSc', 'date', '2004'], ['DIANA M.', 'qualifications details', 'educations / certificates / certifications', 'degree earned', 'MSc', 'total details', '24)  Carolina Fuentes,  . Oxford. CDM in Mexico. (Mexico, Energy Ministry) '], ['DIANA M.', 'qualifications details', 'educations / certificates / certifications', 'degree earned', 'MSc', 'degree', 'MSc'], ['DIANA M.', 'qualifications details', 'educations / certificates / certifications', 'degree earned', 'MSc', 'date', '2005'], ['DIANA M.', 'qualifications details', 'educations / certificates / certifications', 'degree earned', 'MSc', 'total details', '25)  Katherine Meehan,  . Oxford. Streamlining the state? Power, decentralisation, and water at work in Guatemala.  (Assistant Professor, Oregon) '], ['DIANA M.', 'qualifications details', 'educations / certificates / certifications', 'degree earned', 'MSc', 'degree', 'MSc'], ['DIANA M.', 'qualifications details', 'educations / certificates / certifications', 'degree earned', 'MSc', 'date', '2005'], ['DIANA M.', 'qualifications details', 'educations / certificates / certifications', 'degree earned', 'MSc', 'total details', '26)  Anthony Knox,  , Oxford. An economic valuation of the Loreto Bay National Park.  (Vice President, Standard Bank, Johannesburg) '], ['DIANA M.', 'qualifications details', 'educations / certificates / certifications', 'degree earned', 'MSc', 'degree', 'MSc'], ['DIANA M.', 'qualifications details', 'educations / certificates / certifications', 'degree earned', 'MSc', 'date', '2005'], ['DIANA M.', 'qualifications details', 'educations / certificates / certifications', 'degree earned', 'MSc', 'total details', '27)  Heidi Hausermann,  . Arizona. The Coffee Crisis and Land Use change in Veracruz. (Assistant Professor, Rutgers) '], ['DIANA M.', 'qualifications details', 'educations / certificates / certifications', 'degree earned', 'Msc', 'degree', 'Msc'], ['DIANA M.', 'qualifications details', 'educations / certificates / certifications', 'degree earned', 'Msc', 'date', '2018'], ['DIANA M.', 'qualifications details', 'educations / certificates / certifications', 'degree earned', 'Msc', 'total details', '28)  Blanca Raymundo Garcia.  . Oxford. The potential for Clean Development Mechanism projects in the Mexican industrial sector: a case study of the cement industry.  (Consultant, Mexico) 17 Mar  '], ['DIANA M.', 'qualifications details', 'educations / certificates / certifications', 'degree earned', 'MSc', 'degree', 'MSc'], ['DIANA M.', 'qualifications details', 'educations / certificates / certifications', 'degree earned', 'MSc', 'date', '2006'], ['DIANA M.', 'qualifications details', 'educations / certificates / certifications', 'degree earned', 'MSc', 'total details', \"29)  Sapna Thottathil.  . Oxford.  Fairtrade's Carbon Emissions: What's Its Share, and Do People Care? (Teacher, Berkeley) \"], ['DIANA M.', 'qualifications details', 'educations / certificates / certifications', 'degree earned', 'Msc', 'degree', 'Msc'], ['DIANA M.', 'qualifications details', 'educations / certificates / certifications', 'degree earned', 'Msc', 'date', '2006'], ['DIANA M.', 'qualifications details', 'educations / certificates / certifications', 'degree earned', 'Msc', 'total details', '30)  Johannes Ebeling.  . Oxford. Tropical deforestation and climate change – Ways towards an international mitigation strategy. (Investment Director, Biocarbon Group, Berlin) '], ['DIANA M.', 'qualifications details', 'educations / certificates / certifications', 'degree earned', 'MSc', 'degree', 'MSc'], ['DIANA M.', 'qualifications details', 'educations / certificates / certifications', 'degree earned', 'MSc', 'date', '2008'], ['DIANA M.', 'qualifications details', 'educations / certificates / certifications', 'degree earned', 'MSc', 'total details', '31)  Hanoch  Ilsar  . Oxford. Voluntary Caron Offsetting: Friend or Foe? What Role Do Businesses Assign to Voluntary Carbon Offsetting as Part of Their Climate Change Agenda? (An exploration into UK-based companies) (Manager, Israel Union for Ecology and Environmental Sciences) '], ['DIANA M.', 'qualifications details', 'educations / certificates / certifications', 'degree earned', 'Msc', 'degree', 'Msc'], ['DIANA M.', 'qualifications details', 'educations / certificates / certifications', 'degree earned', 'Msc', 'date', '2008'], ['DIANA M.', 'qualifications details', 'educations / certificates / certifications', 'degree earned', 'Msc', 'total details', '32)  Jonathan Gaventa.  . Oxford. The politics of counting carbon: A London case study.  (E3G, London) '], ['DIANA M.', 'qualifications details', 'educations / certificates / certifications', 'degree earned', 'MS', 'degree', 'MS'], ['DIANA M.', 'qualifications details', 'educations / certificates / certifications', 'degree earned', 'MS', 'date', '2009'], ['DIANA M.', 'qualifications details', 'educations / certificates / certifications', 'degree earned', 'MS', 'total details', '33)  Simon Billet.  . Oxford. CDM and Wind Power in Oaxaca, Mexico. (UK Foreign Office, New York) '], ['DIANA M.', 'qualifications details', 'educations / certificates / certifications', 'degree earned', 'MS', 'degree', 'MS'], ['DIANA M.', 'qualifications details', 'educations / certificates / certifications', 'degree earned', 'MS', 'date', '2011'], ['DIANA M.', 'qualifications details', 'educations / certificates / certifications', 'degree earned', 'MS', 'total details', '34)  Kaarina Kolle.  . Oxford. Paving the Way to Preparedness the multi-level climate change adaptation governance in Trinidad and Tobago (WWF European Policy Office, Belgium) '], ['DIANA M.', 'qualifications details', 'educations / certificates / certifications', 'degree earned', 'MS', 'degree', 'MS'], ['DIANA M.', 'qualifications details', 'educations / certificates / certifications', 'degree earned', 'MS', 'date', '2013'], ['DIANA M.', 'qualifications details', 'educations / certificates / certifications', 'degree earned', 'MS', 'total details', '35)  Laura Canevari.  . Oxford. Participatory GIS for vulnerability assessment, Grenada (Acclimatize) 36)  Miriam Gay-Antaki, MA . Univ Arizona. A Feminist Political Ecology of Carbon '], ['DIANA M.', 'qualifications details', 'educations / certificates / certifications', 'degree earned', 'PhD', 'degree', 'PhD'], ['DIANA M.', 'qualifications details', 'educations / certificates / certifications', 'degree earned', 'PhD', 'total details', 'Markets in Oaxaca, Mexico (went on to , see below) '], ['DIANA M.', 'qualifications details', 'educations / certificates / certifications', 'degree earned', 'MSc', 'degree', 'MSc'], ['DIANA M.', 'qualifications details', 'educations / certificates / certifications', 'degree earned', 'MSc', 'date', '2015'], ['DIANA M.', 'qualifications details', 'educations / certificates / certifications', 'degree earned', 'MSc', 'total details', '37)  Noah-Silber Coats, , , Univ of Arizona, Water development in Veracruz Mexico '], ['DIANA M.', 'qualifications details', 'educations / certificates / certifications', 'degree earned', 'PhD', 'degree', 'PhD'], ['DIANA M.', 'qualifications details', 'educations / certificates / certifications', 'degree earned', 'PhD', 'total details', 'went on to  at Univ Arizona) '], ['DIANA M.', 'qualifications details', 'educations / certificates / certifications', 'degree earned', 'MSc', 'degree', 'MSc'], ['DIANA M.', 'qualifications details', 'educations / certificates / certifications', 'degree earned', 'MSc', 'date', '2015'], ['DIANA M.', 'qualifications details', 'educations / certificates / certifications', 'degree earned', 'MSc', 'organization', 'University of Arizona'], ['DIANA M.', 'qualifications details', 'educations / certificates / certifications', 'degree earned', 'MSc', 'total details', '38)  Michelle Coe, , , Univ of Arizona, Environmental education and school gardens in Tucson (Community and School Gardens Program, ) '], ['DIANA M.', 'qualifications details', 'educations / certificates / certifications', 'degree earned', 'PhD', 'degree', 'PhD'], ['DIANA M.', 'qualifications details', 'educations / certificates / certifications', 'degree earned', 'PhD', 'date', '1993'], ['DIANA M.', 'qualifications details', 'educations / certificates / certifications', 'degree earned', 'PhD', 'organization', 'State University'], ['DIANA M.', 'qualifications details', 'educations / certificates / certifications', 'degree earned', 'PhD', 'advisor', 'WMO) '], ['DIANA M.', 'qualifications details', 'educations / certificates / certifications', 'degree earned', 'PhD', 'total details', '1)  Maxx Dilley. PhD. . Geography. The Pennsylvania . \"Climate and agriculture in Oaxaca, Mexico.\" (Senior '], ['DIANA M.', 'qualifications details', 'educations / certificates / certifications', 'degree earned', 'Ph.D.', 'degree', 'Ph.D.'], ['DIANA M.', 'qualifications details', 'educations / certificates / certifications', 'degree earned', 'Ph.D.', 'date', '1996'], ['DIANA M.', 'qualifications details', 'educations / certificates / certifications', 'degree earned', 'Ph.D.', 'organization', 'University of Oslo'], ['DIANA M.', 'qualifications details', 'educations / certificates / certifications', 'degree earned', 'Ph.D.', 'total details', '2)  Karen O\\'Brien.  . Geography. The Pennsylvania . \"Deforestation and Climate Change in the Selva Lacandona, Chiapas, Mexico.\"  (Professor in Geography, Norway) '], ['DIANA M.', 'qualifications details', 'educations / certificates / certifications', 'degree earned', 'PhD', 'degree', 'PhD'], ['DIANA M.', 'qualifications details', 'educations / certificates / certifications', 'degree earned', 'PhD', 'date', '1995'], ['DIANA M.', 'qualifications details', 'educations / certificates / certifications', 'degree earned', 'PhD', 'organization', 'Cornell University'], ['DIANA M.', 'qualifications details', 'educations / certificates / certifications', 'degree earned', 'PhD', 'total details', '3)  Anke Wessels-Beyer.  . Geography. The Pennsylvania  \"Social and Environmental Reconstruction in Eastern Germany.\" (Program Director, Center for Religion, Ethics and Social Policy, )  '], ['DIANA M.', 'qualifications details', 'educations / certificates / certifications', 'degree earned', 'Ph.D.', 'degree', 'Ph.D.'], ['DIANA M.', 'qualifications details', 'educations / certificates / certifications', 'degree earned', 'Ph.D.', 'date', '1997'], ['DIANA M.', 'qualifications details', 'educations / certificates / certifications', 'degree earned', 'Ph.D.', 'organization', 'Washington University'], ['DIANA M.', 'qualifications details', 'educations / certificates / certifications', 'degree earned', 'Ph.D.', 'total details', '4)  David Rain.  . Geography. The Pennsylvania . \"Eaters of the Dry Season.\" (Associate Professor, George )  '], ['DIANA M.', 'qualifications details', 'educations / certificates / certifications', 'degree earned', 'PhD', 'degree', 'PhD'], ['DIANA M.', 'qualifications details', 'educations / certificates / certifications', 'degree earned', 'PhD', 'date', '2002'], ['DIANA M.', 'qualifications details', 'educations / certificates / certifications', 'degree earned', 'PhD', 'organization', 'University of Arizona'], ['DIANA M.', 'qualifications details', 'educations / certificates / certifications', 'degree earned', 'PhD', 'total details', '5)  Margaret Wilder.  . , Department of Geography and Regional Development. “In name only: water policy, the state and ejidatario producers in Northern Mexico”. (Associate Professor of Geography and Latin American Studies, University of Arizona) '], ['DIANA M.', 'qualifications details', 'educations / certificates / certifications', 'degree earned', 'PhD', 'degree', 'PhD'], ['DIANA M.', 'qualifications details', 'educations / certificates / certifications', 'degree earned', 'PhD', 'date', '2002'], ['DIANA M.', 'qualifications details', 'educations / certificates / certifications', 'degree earned', 'PhD', 'organization', 'University of Arizona'], ['DIANA M.', 'qualifications details', 'educations / certificates / certifications', 'degree earned', 'PhD', 'total details', '6)  Hallie Eakin.  . , Department of Geography and Regional Development. “Rural Households’ Vulnerability and Adaptation to Climatic Variability and Institutional Change: Three Cases from Central Mexico”. (Professor of Sustainability, ASU) '], ['DIANA M.', 'qualifications details', 'educations / certificates / certifications', 'degree earned', 'PhD', 'degree', 'PhD'], ['DIANA M.', 'qualifications details', 'educations / certificates / certifications', 'degree earned', 'PhD', 'date', '2018'], ['DIANA M.', 'qualifications details', 'educations / certificates / certifications', 'degree earned', 'PhD', 'organization', 'University of Arizona'], ['DIANA M.', 'qualifications details', 'educations / certificates / certifications', 'degree earned', 'PhD', 'total details', '7)  Mrill Ingram,  . , Department of Geography and Regional Development. “Experts in the field: the contributions of farmers and other lay experts to knowledge about soil in US agriculture” (Editor, Progressive Magazine) 18 Mar  '], ['DIANA M.', 'qualifications details', 'educations / certificates / certifications', 'degree earned', 'PhD', 'degree', 'PhD'], ['DIANA M.', 'qualifications details', 'educations / certificates / certifications', 'degree earned', 'PhD', 'date', '2005'], ['DIANA M.', 'qualifications details', 'educations / certificates / certifications', 'degree earned', 'PhD', 'organization', 'University of Arizona'], ['DIANA M.', 'qualifications details', 'educations / certificates / certifications', 'degree earned', 'PhD', 'total details', '8)  Dereka Rushbrook,  . Arizona. Carving a Niche: Artisans in a Global Economy. Commodity Chain Analysis of Rustic Pine Furniture in Mexico (Associate Professor of Geography and Development, ) '], ['DIANA M.', 'qualifications details', 'educations / certificates / certifications', 'degree earned', 'PhD', 'degree', 'PhD'], ['DIANA M.', 'qualifications details', 'educations / certificates / certifications', 'degree earned', 'PhD', 'date', '2005'], ['DIANA M.', 'qualifications details', 'educations / certificates / certifications', 'degree earned', 'PhD', 'total details', '9)  Cecilia Conde, , , UNAM. Climate and agriculture in Mexico (Director of Adaptation, INECC, Mexico) '], ['DIANA M.', 'qualifications details', 'educations / certificates / certifications', 'degree earned', 'PhD', 'degree', 'PhD'], ['DIANA M.', 'qualifications details', 'educations / certificates / certifications', 'degree earned', 'PhD', 'date', '2007'], ['DIANA M.', 'qualifications details', 'educations / certificates / certifications', 'degree earned', 'PhD', 'organization', 'University of Arizona'], ['DIANA M.', 'qualifications details', 'educations / certificates / certifications', 'degree earned', 'PhD', 'total details', \"10) Lydia Breunig.  . Arizona. Conservation in Context: Establishing Natural Protected Areas During Mexico's Neoliberal Reformation (American School of Kuwait) 11) Ben Champion. DPhil . Oxford. Political economy of local foods in Eastern Kansas Director of Sustainability, ) 12) John Gates. DPhil . Oxford. Groundwater recharge and paleohydrology of the Badain Jaran, north-western China.  (cosupervised with Mike Edmunds) (Senior Scientist and \"], ['Leila Barraza'], ['Leila Barraza'], ['Leila Barraza'], ['Leila Barraza', 'qualifications details', 'educations / certificates / certifications', 'degree earned', 'Degree', 'date', '2019'], ['Leila Barraza', 'qualifications details', 'educations / certificates / certifications', 'degree earned', 'Degree', 'organization', 'Connor College'], ['Leila Barraza', 'qualifications details', 'educations / certificates / certifications', 'degree earned', 'Degree', 'advisor', 'CHW Training Component, 5% FTE                  '], ['Leila Barraza', 'qualifications details', 'educations / certificates / certifications', 'degree earned', 'Degree', 'total details', 'Chronology of Education California, Los Angeles, CA                 -2001 B.A., Biological Sciences, Minor: Psychology Mel and Enid  of Public Health, University of Arizona, Tucson, AZ        -2004 Master of Public Health, Concentration: Family and Child Health Sandra Day O’ of Law, Arizona State University, Tempe, AZ          -2008 Juris Doctor, Law, Science and Technology Certificate: Health Law Specialization 4.  Barraza L.  Education is Key to Increasing Rates of Breastfed Infants.  Network for Public Health Law Blog.  September 10, . 5.  Barraza L.  The Affordable Care Act: Beyond Theory and Toward Implementation.  Network for Public Health Law Blog.  February 6, . 6.  Barraza L, Logue A.  Movement to Certify Community Health Workers.  Network for Public Health Law Blog.  August 11, . 7.  Bernstein J, Barraza L.  Travel Notices Issued Due to the Spread of Zika Virus.  Network for Public Health Law Blog.  March 2, . 8.  Barraza L.  The Not-So-Hidden Dangers of the Salt Shaker.  Network for Public Health Law Blog.  July 15, . 6 Leila Barraza 9.  Redmon E, Barraza L.  FDA’s Recent Drug Labeling Changes Will Help Pregnant Women and Their Physicians.  Network for Public Health Law Blog.  March 13, . 10. Garba I, Hall-Lipsy E, Barraza L. Rethinking the Belmont Report.  Bioethics.net Blog.  July 6, 11. Barraza L. Measles Cases in Europe Highlight the Need for Vaccination. Network for Public Health Law Blog. Aug. 29, . 12. Castagne M, Barraza L. National School Lunch Program – More Flexibility; Less Nutrition. Network for Public Health Law Blog. Feb. 26, . 13. Castagne M, Barraza L. Connecting Traditions to Wellness: Key Policy Takeaways from the Tribal Public Health Summit. Network for Public Health Law Blog. July 11, 2019. 14. White E, Barraza L. How the “Health at Every Size” Movement Can Help Inform the Public Health Conversation on Obesity. Network for Public Health Law Blog. Aug. 13, . 15. Hodge JG, Barraza L. Violating People’s Rights Is Not the Way to Address the Coronavirus. SLATE. Jan. 24, . Arizona Area Health Education Centers, $ 87,697 (PI: de Zapien) Co-Investigator, 5% FTE                        -2018 Rural Health Professions Program Arizona Area Health Education Centers, $92,182 (-2019), $94,404 (2019-2020) (PI: Barraza) Principal Investigator, 10% FTE                      -2020 Education 9 ']]\n",
      "complete\n"
     ]
    }
   ],
   "source": [
    "print(allCVData)\n",
    "print(\"complete\")"
   ]
  },
  {
   "cell_type": "code",
   "execution_count": 20,
   "id": "6df3f346",
   "metadata": {
    "execution": {
     "iopub.execute_input": "2022-08-31T15:48:07.561641Z",
     "iopub.status.busy": "2022-08-31T15:48:07.561246Z",
     "iopub.status.idle": "2022-08-31T15:48:07.575000Z",
     "shell.execute_reply": "2022-08-31T15:48:07.573370Z"
    },
    "papermill": {
     "duration": 0.026895,
     "end_time": "2022-08-31T15:48:07.577644",
     "exception": false,
     "start_time": "2022-08-31T15:48:07.550749",
     "status": "completed"
    },
    "tags": []
   },
   "outputs": [
    {
     "name": "stdout",
     "output_type": "stream",
     "text": [
      "complete\n"
     ]
    }
   ],
   "source": [
    "import csv\n",
    "\n",
    "#write.csv(allCVData, \"mycsv.csv\")\n",
    "\n",
    "#header = ['head','relation','tail']\n",
    "\n",
    "with open('CVpdfDataVersion003.csv', 'w', encoding='UTF8', newline='') as f:\n",
    "    writer = csv.writer(f)\n",
    "\n",
    "    # write the header , already has a header\n",
    "    #writer.writerow(header)\n",
    "\n",
    "    # write multiple rows\n",
    "    writer.writerows(allCVData)\n",
    "\n",
    "path001 = r\"./CVpdfDataVersion003.csv\"\n",
    "#using Tika\n",
    "#pip install tika\n",
    "#from tika import parser\n",
    "#raw001 = parser.from_file(path001)\n",
    "#print(raw001['content'])\n",
    "\n",
    "print(\"complete\")"
   ]
  }
 ],
 "metadata": {
  "kernelspec": {
   "display_name": "Python 3",
   "language": "python",
   "name": "python3"
  },
  "language_info": {
   "codemirror_mode": {
    "name": "ipython",
    "version": 3
   },
   "file_extension": ".py",
   "mimetype": "text/x-python",
   "name": "python",
   "nbconvert_exporter": "python",
   "pygments_lexer": "ipython3",
   "version": "3.7.12"
  },
  "papermill": {
   "default_parameters": {},
   "duration": 122.313677,
   "end_time": "2022-08-31T15:48:10.902681",
   "environment_variables": {},
   "exception": null,
   "input_path": "__notebook__.ipynb",
   "output_path": "__notebook__.ipynb",
   "parameters": {},
   "start_time": "2022-08-31T15:46:08.589004",
   "version": "2.3.4"
  }
 },
 "nbformat": 4,
 "nbformat_minor": 5
}
