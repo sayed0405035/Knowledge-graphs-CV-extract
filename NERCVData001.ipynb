{
 "cells": [
  {
   "cell_type": "code",
   "execution_count": 1,
   "id": "3401cf1c",
   "metadata": {
    "_cell_guid": "b1076dfc-b9ad-4769-8c92-a6c4dae69d19",
    "_uuid": "8f2839f25d086af736a60e9eeb907d3b93b6e0e5",
    "execution": {
     "iopub.execute_input": "2022-09-25T12:11:59.690097Z",
     "iopub.status.busy": "2022-09-25T12:11:59.689650Z",
     "iopub.status.idle": "2022-09-25T12:11:59.714989Z",
     "shell.execute_reply": "2022-09-25T12:11:59.714065Z"
    },
    "papermill": {
     "duration": 0.033199,
     "end_time": "2022-09-25T12:11:59.717200",
     "exception": false,
     "start_time": "2022-09-25T12:11:59.684001",
     "status": "completed"
    },
    "tags": []
   },
   "outputs": [
    {
     "name": "stdout",
     "output_type": "stream",
     "text": [
      "/kaggle/input/cvalltogether/CV_brief.pdf\n",
      "/kaggle/input/cvalltogether/drmperfect_cv-april-2020.pdf\n",
      "/kaggle/input/cvalltogether/vita_external.pdf\n",
      "/kaggle/input/cvalltogether/Klar CV.pdf\n",
      "/kaggle/input/cvalltogether/blee_cv_2016.pdf\n",
      "/kaggle/input/cvalltogether/Canales_Robert_CV.pdf\n",
      "/kaggle/input/cvalltogether/MOORE-MONROY2015_0.pdf\n",
      "/kaggle/input/cvalltogether/CURRICULUM-VITAE_DHG_012519.pdf\n",
      "/kaggle/input/cvalltogether/RobertsonCV0818-2.pdf\n",
      "/kaggle/input/cvalltogether/hameroff2016cv_0.pdf\n",
      "/kaggle/input/cvalltogether/Alison-M-Meadow-cv.pdf\n",
      "/kaggle/input/cvalltogether/agaspar_cv.pdf\n",
      "/kaggle/input/cvalltogether/JO - 2171.pdf\n",
      "/kaggle/input/cvalltogether/Hoit CV (4-11-16).pdf\n",
      "/kaggle/input/cvalltogether/Liverman Selected CV May 2018.pdf\n",
      "/kaggle/input/cvalltogether/LBarraza CV 2020.pdf\n",
      "complete\n"
     ]
    }
   ],
   "source": [
    "# This Python 3 environment comes with many helpful analytics libraries installed\n",
    "# It is defined by the kaggle/python Docker image: https://github.com/kaggle/docker-python\n",
    "# For example, here's several helpful packages to load\n",
    "\n",
    "import numpy as np # linear algebra\n",
    "import pandas as pd # data processing, CSV file I/O (e.g. pd.read_csv)\n",
    "\n",
    "# Input data files are available in the read-only \"../input/\" directory\n",
    "# For example, running this (by clicking run or pressing Shift+Enter) will list all files under the input directory\n",
    "\n",
    "import os\n",
    "for dirname, _, filenames in os.walk('/kaggle/input'):\n",
    "    for filename in filenames:\n",
    "        print(os.path.join(dirname, filename))\n",
    "\n",
    "# You can write up to 20GB to the current directory (/kaggle/working/) that gets preserved as output when you create a version using \"Save & Run All\" \n",
    "# You can also write temporary files to /kaggle/temp/, but they won't be saved outside of the current session\n",
    "print(\"complete\")"
   ]
  },
  {
   "cell_type": "code",
   "execution_count": 2,
   "id": "3eaa6aa4",
   "metadata": {
    "execution": {
     "iopub.execute_input": "2022-09-25T12:11:59.725300Z",
     "iopub.status.busy": "2022-09-25T12:11:59.724968Z",
     "iopub.status.idle": "2022-09-25T12:12:21.394314Z",
     "shell.execute_reply": "2022-09-25T12:12:21.392922Z"
    },
    "papermill": {
     "duration": 21.676641,
     "end_time": "2022-09-25T12:12:21.397476",
     "exception": false,
     "start_time": "2022-09-25T12:11:59.720835",
     "status": "completed"
    },
    "tags": []
   },
   "outputs": [
    {
     "name": "stdout",
     "output_type": "stream",
     "text": [
      "Collecting PyPDF2\r\n",
      "  Downloading PyPDF2-2.10.9-py3-none-any.whl (218 kB)\r\n",
      "\u001b[2K     \u001b[90m━━━━━━━━━━━━━━━━━━━━━━━━━━━━━━━━━━━━━\u001b[0m \u001b[32m218.4/218.4 kB\u001b[0m \u001b[31m910.3 kB/s\u001b[0m eta \u001b[36m0:00:00\u001b[0m\r\n",
      "\u001b[?25hRequirement already satisfied: typing-extensions>=3.10.0.0 in /opt/conda/lib/python3.7/site-packages (from PyPDF2) (4.3.0)\r\n",
      "Installing collected packages: PyPDF2\r\n",
      "Successfully installed PyPDF2-2.10.9\r\n",
      "\u001b[33mWARNING: Running pip as the 'root' user can result in broken permissions and conflicting behaviour with the system package manager. It is recommended to use a virtual environment instead: https://pip.pypa.io/warnings/venv\u001b[0m\u001b[33m\r\n",
      "\u001b[0mCollecting pdfplumber\r\n",
      "  Downloading pdfplumber-0.7.4-py3-none-any.whl (40 kB)\r\n",
      "\u001b[2K     \u001b[90m━━━━━━━━━━━━━━━━━━━━━━━━━━━━━━━━━━━━━━━\u001b[0m \u001b[32m40.0/40.0 kB\u001b[0m \u001b[31m643.8 kB/s\u001b[0m eta \u001b[36m0:00:00\u001b[0m\r\n",
      "\u001b[?25hCollecting pdfminer.six==20220524\r\n",
      "  Downloading pdfminer.six-20220524-py3-none-any.whl (5.6 MB)\r\n",
      "\u001b[2K     \u001b[90m━━━━━━━━━━━━━━━━━━━━━━━━━━━━━━━━━━━━━━━━\u001b[0m \u001b[32m5.6/5.6 MB\u001b[0m \u001b[31m9.2 MB/s\u001b[0m eta \u001b[36m0:00:00\u001b[0m\r\n",
      "\u001b[?25hRequirement already satisfied: Pillow>=9.1 in /opt/conda/lib/python3.7/site-packages (from pdfplumber) (9.1.1)\r\n",
      "Requirement already satisfied: Wand>=0.6.7 in /opt/conda/lib/python3.7/site-packages (from pdfplumber) (0.6.10)\r\n",
      "Requirement already satisfied: charset-normalizer>=2.0.0 in /opt/conda/lib/python3.7/site-packages (from pdfminer.six==20220524->pdfplumber) (2.1.0)\r\n",
      "Requirement already satisfied: cryptography>=36.0.0 in /opt/conda/lib/python3.7/site-packages (from pdfminer.six==20220524->pdfplumber) (37.0.2)\r\n",
      "Requirement already satisfied: cffi>=1.12 in /opt/conda/lib/python3.7/site-packages (from cryptography>=36.0.0->pdfminer.six==20220524->pdfplumber) (1.15.0)\r\n",
      "Requirement already satisfied: pycparser in /opt/conda/lib/python3.7/site-packages (from cffi>=1.12->cryptography>=36.0.0->pdfminer.six==20220524->pdfplumber) (2.21)\r\n",
      "Installing collected packages: pdfminer.six, pdfplumber\r\n",
      "Successfully installed pdfminer.six-20220524 pdfplumber-0.7.4\r\n",
      "\u001b[33mWARNING: Running pip as the 'root' user can result in broken permissions and conflicting behaviour with the system package manager. It is recommended to use a virtual environment instead: https://pip.pypa.io/warnings/venv\u001b[0m\u001b[33m\r\n",
      "\u001b[0mcomplete\n"
     ]
    }
   ],
   "source": [
    "!pip install PyPDF2\n",
    "!pip install pdfplumber\n",
    "print(\"complete\")"
   ]
  },
  {
   "cell_type": "code",
   "execution_count": 3,
   "id": "39994a6b",
   "metadata": {
    "execution": {
     "iopub.execute_input": "2022-09-25T12:12:21.409512Z",
     "iopub.status.busy": "2022-09-25T12:12:21.409155Z",
     "iopub.status.idle": "2022-09-25T12:12:32.455105Z",
     "shell.execute_reply": "2022-09-25T12:12:32.453875Z"
    },
    "papermill": {
     "duration": 11.053944,
     "end_time": "2022-09-25T12:12:32.457115",
     "exception": false,
     "start_time": "2022-09-25T12:12:21.403171",
     "status": "completed"
    },
    "tags": []
   },
   "outputs": [
    {
     "name": "stdout",
     "output_type": "stream",
     "text": [
      "complete\n"
     ]
    }
   ],
   "source": [
    "#all import\n",
    "import pdfplumber\n",
    "import pandas as pd\n",
    "import os\n",
    "import spacy\n",
    "from spacy.matcher import Matcher\n",
    "\n",
    "from datetime import datetime\n",
    "\n",
    "import re\n",
    "from nltk.corpus import stopwords\n",
    "\n",
    "import PyPDF2\n",
    "nlp = spacy.load(\"en_core_web_sm\")\n",
    "\n",
    "import csv\n",
    "\n",
    "print(\"complete\")"
   ]
  },
  {
   "cell_type": "code",
   "execution_count": 4,
   "id": "9c584779",
   "metadata": {
    "execution": {
     "iopub.execute_input": "2022-09-25T12:12:32.469720Z",
     "iopub.status.busy": "2022-09-25T12:12:32.469014Z",
     "iopub.status.idle": "2022-09-25T12:12:32.485104Z",
     "shell.execute_reply": "2022-09-25T12:12:32.484273Z"
    },
    "papermill": {
     "duration": 0.025635,
     "end_time": "2022-09-25T12:12:32.488400",
     "exception": false,
     "start_time": "2022-09-25T12:12:32.462765",
     "status": "completed"
    },
    "tags": []
   },
   "outputs": [
    {
     "name": "stdout",
     "output_type": "stream",
     "text": [
      "complete\n"
     ]
    }
   ],
   "source": [
    "def nerCV(personName,sectionName,sentDataFoeTest):\n",
    "    allDataner=[]\n",
    "    metadata001=[personName,sectionName+\" details \",sectionName]\n",
    "    countNo=0\n",
    "    for train_dataText in sentDataFoeTest :\n",
    "        \n",
    "    \n",
    "    \n",
    "    \n",
    "        doc = nlp(train_dataText)\n",
    "        \n",
    "        \n",
    "        dldata=dict()\n",
    "    \n",
    "        for ent in doc.ents:\n",
    "        \n",
    "            if ent.label_.upper() in dldata:\n",
    "                dldata[ent.label_.upper()].append(ent.text)\n",
    "            else:\n",
    "                dldata[ent.label_.upper()]=[ent.text]\n",
    "            \n",
    "    \n",
    "        if dldata:\n",
    "            countNo+=1\n",
    "            \n",
    "            for dl in dldata:\n",
    "                metadata=metadata001.copy()\n",
    "                if dl=='DATE':\n",
    "                    for d in dldata[dl]:\n",
    "                        if len(d)<3:\n",
    "                            continue\n",
    "                        metadata.append(sectionName+ \" in \"+str(dl)+\" \"+str(countNo)+\" \")\n",
    "                        metadata.append(d)\n",
    "                        allDataner.append(metadata.copy())\n",
    "                        #print(metadata)\n",
    "                        metadata.pop()\n",
    "                        metadata.pop()\n",
    "                elif dl=='ORG':\n",
    "                    for d in dldata[dl]:\n",
    "                        if len(d)<3:\n",
    "                            continue\n",
    "                        metadata.append(sectionName+ \" with \"+str(dl)+\" \"+str(countNo)+\" \")\n",
    "                        metadata.append(d)\n",
    "                        allDataner.append(metadata.copy())\n",
    "                        metadata.pop()\n",
    "                        metadata.pop()\n",
    "                elif dl=='PERSON':\n",
    "                    for d in dldata[dl]:\n",
    "                        if len(d)<3:\n",
    "                            continue\n",
    "                        metadata.append(sectionName+ \" associated with \"+str(dl)+\" \"+str(countNo)+\" \")\n",
    "                        metadata.append(d)\n",
    "                        allDataner.append(metadata.copy())\n",
    "                        metadata.pop()\n",
    "                        metadata.pop()\n",
    "                elif dl=='GPE':\n",
    "                    for d in dldata[dl]:\n",
    "                        if len(d)<3:\n",
    "                            continue\n",
    "                        metadata.append(sectionName+ \" from \"+str(dl)+\" \"+str(countNo)+\" \")\n",
    "                        metadata.append(d)\n",
    "                        allDataner.append(metadata.copy())\n",
    "                        metadata.pop()\n",
    "                        metadata.pop()\n",
    "                else:\n",
    "                    for d in dldata[dl]:\n",
    "                        if len(d)<3:\n",
    "                            continue\n",
    "                        metadata.append(sectionName+ \" in \"+str(dl)+\" \"+str(countNo)+\" \")\n",
    "                        metadata.append(d)\n",
    "                        allDataner.append(metadata.copy())\n",
    "                        metadata.pop()\n",
    "                        metadata.pop()\n",
    "            #\n",
    "            metadata.append(\"Original text \"+str(countNo)+\" \")\n",
    "            metadata.append(train_dataText)\n",
    "            allDataner.append(metadata.copy())\n",
    "            metadata.pop()\n",
    "            metadata.pop()\n",
    "    \n",
    "    return allDataner\n",
    "print(\"complete\")"
   ]
  },
  {
   "cell_type": "code",
   "execution_count": 5,
   "id": "51f8f13a",
   "metadata": {
    "execution": {
     "iopub.execute_input": "2022-09-25T12:12:32.500799Z",
     "iopub.status.busy": "2022-09-25T12:12:32.500464Z",
     "iopub.status.idle": "2022-09-25T12:12:32.509580Z",
     "shell.execute_reply": "2022-09-25T12:12:32.508041Z"
    },
    "papermill": {
     "duration": 0.018105,
     "end_time": "2022-09-25T12:12:32.512077",
     "exception": false,
     "start_time": "2022-09-25T12:12:32.493972",
     "status": "completed"
    },
    "tags": []
   },
   "outputs": [
    {
     "name": "stdout",
     "output_type": "stream",
     "text": [
      "complete\n"
     ]
    }
   ],
   "source": [
    "def extract_name(resume_text):\n",
    "    # load pre-trained model\n",
    "    nlp = spacy.load('en_core_web_sm')\n",
    "\n",
    "    # initialize matcher with a vocab\n",
    "    matcher = Matcher(nlp.vocab)\n",
    "    nlp_text = nlp(resume_text)\n",
    "    \n",
    "    # First name and Last name are always Proper Nouns\n",
    "    pattern = [{'POS': 'PROPN'}, {'POS': 'PROPN'}]\n",
    "    \n",
    "    matcher.add('NAME', [pattern], on_match = None)\n",
    "    \n",
    "    matches = matcher(nlp_text)\n",
    "    res=[]\n",
    "    \n",
    "    for match_id, start, end in matches:\n",
    "        span = nlp_text[start:end]\n",
    "        temp=span.text\n",
    "        if len(temp)>0:\n",
    "            lastoption=temp\n",
    "        if (\"vitae\" in temp.lower() or \"sciences\" in temp.lower() \n",
    "            or \"engineering\" in temp.lower() or \"biographical\" in temp.lower() \n",
    "            or \"no\" in temp.lower() or \"title\" in temp.lower() ):\n",
    "            continue\n",
    "        res.append(temp)\n",
    "    \n",
    "    return res\n",
    "print(\"complete\")"
   ]
  },
  {
   "cell_type": "code",
   "execution_count": 6,
   "id": "c2e0daf4",
   "metadata": {
    "execution": {
     "iopub.execute_input": "2022-09-25T12:12:32.524310Z",
     "iopub.status.busy": "2022-09-25T12:12:32.523938Z",
     "iopub.status.idle": "2022-09-25T12:12:32.536712Z",
     "shell.execute_reply": "2022-09-25T12:12:32.535616Z"
    },
    "papermill": {
     "duration": 0.021611,
     "end_time": "2022-09-25T12:12:32.539317",
     "exception": false,
     "start_time": "2022-09-25T12:12:32.517706",
     "status": "completed"
    },
    "tags": []
   },
   "outputs": [
    {
     "name": "stdout",
     "output_type": "stream",
     "text": [
      "complete\n"
     ]
    }
   ],
   "source": [
    "def dfPartByPart(textList):\n",
    "    \n",
    "\n",
    "    reference=[ \n",
    "            #node1\n",
    "            \"articles\",\"article\",\"books\",\"book\",\"chapters\",\"chapter\",\"citations\",\"citation\",\"editorials\",\"editorial\",\"journals\",\"journal\",\n",
    "               \"seminars\",\"seminar\",\"scholarly\",\n",
    "            #node2\n",
    "            \"awards\",\"award\",\"proposals\",\"proposal\",\"grants\",\"grant\",\"honors\",\"honor\",\"scholarships\",\"scholarship\",\"sponsored\",\n",
    "            #node3\n",
    "            \"appointments\",\"appointment\",\"experiences\",\"experience\",\"services\",\"service\",\"employments\",\"employment\",\"practices\",\"practice\",\n",
    "                \"professionals\",\"professional\",\n",
    "            #node4\n",
    "            \"affiliations\",\"affiliation\",\"memberships\",\"membership\",\"committees\",\"committee\",\n",
    "            #node5\n",
    "            \"contacts\",\"contact\",\"introductions\",\"introduction\",\n",
    "            #node6\n",
    "            \"publications\",\"publication\",\"conferences\",\"conference\",\"presentations\",\"presentation\",\"newsletters\",\"newsletter\",\"reports\",\"report\",\n",
    "            #node7\n",
    "            \"educations\",\"education\",\"certificates\",\"certificate\",\"certifications\",\"certification\",\n",
    "            #node8\n",
    "            \"researches\",\"research\",\n",
    "            #node9\n",
    "            \"teaching\",\"outreaches\",\"outreach\"\n",
    "          ]\n",
    "\n",
    "    \n",
    "    \n",
    "    \n",
    "    collectedText=[]\n",
    "    collectedByDictionary=dict()\n",
    "    collectedParts=dict()\n",
    "    keyDictionary=\"introductions\"\n",
    "    temp=[]\n",
    "\n",
    "    \n",
    "\n",
    "    for smallPartText in textList:\n",
    "        if smallPartText==None:\n",
    "            continue\n",
    "   \n",
    "        for partOfSmallPartText in smallPartText.split():\n",
    "            if len(partOfSmallPartText)<2:\n",
    "                continue\n",
    "            result = list(filter(lambda x: x==partOfSmallPartText.lower(), reference))\n",
    "            \n",
    "            if result:\n",
    "                \n",
    "                collectedText.append(temp)\n",
    "                if keyDictionary in collectedByDictionary:\n",
    "                    collectedByDictionary[keyDictionary]=collectedByDictionary[keyDictionary]+temp\n",
    "                else:\n",
    "                    collectedByDictionary[keyDictionary]=temp\n",
    "                keyDictionary=result[0]\n",
    "                #print(result,keyDictionary)\n",
    "                temp=[]\n",
    "                break\n",
    "        \n",
    "        temp.append(smallPartText)\n",
    "    \n",
    "    \n",
    "    collectedText.append(temp)\n",
    "    if keyDictionary in collectedByDictionary:\n",
    "        collectedByDictionary[keyDictionary]=collectedByDictionary[keyDictionary]+temp\n",
    "    else:\n",
    "        collectedByDictionary[keyDictionary]=temp\n",
    "\n",
    "    return collectedByDictionary\n",
    "print(\"complete\")"
   ]
  },
  {
   "cell_type": "code",
   "execution_count": 7,
   "id": "4941510e",
   "metadata": {
    "execution": {
     "iopub.execute_input": "2022-09-25T12:12:32.552675Z",
     "iopub.status.busy": "2022-09-25T12:12:32.551777Z",
     "iopub.status.idle": "2022-09-25T12:12:32.564972Z",
     "shell.execute_reply": "2022-09-25T12:12:32.563865Z"
    },
    "papermill": {
     "duration": 0.021719,
     "end_time": "2022-09-25T12:12:32.567166",
     "exception": false,
     "start_time": "2022-09-25T12:12:32.545447",
     "status": "completed"
    },
    "tags": []
   },
   "outputs": [
    {
     "name": "stdout",
     "output_type": "stream",
     "text": [
      "complete\n"
     ]
    }
   ],
   "source": [
    "def startProgram():\n",
    "    folder_with_pdfs = '../input/cvalltogether'\n",
    "    linesOfFiles = []\n",
    "\n",
    "    \n",
    "    dataForTest=dict()\n",
    "\n",
    "    listOfPdfFiles=[]\n",
    "\n",
    "    alnerCVData=[]\n",
    "\n",
    "    for pdf_file in os.listdir(folder_with_pdfs):\n",
    "        if pdf_file.endswith('.pdf'):\n",
    "        \n",
    "        \n",
    "            listOfPdfFiles.append(pdf_file)\n",
    "            pdf_file_path = os.path.join(folder_with_pdfs, pdf_file)\n",
    "        \n",
    "            pdfFileObj = open(pdf_file_path,'rb')\n",
    "            pdfReader = PyPDF2.PdfFileReader(pdfFileObj)\n",
    "\n",
    "# Getting number of pages in pdf file\n",
    "            pages = pdfReader.numPages\n",
    "\n",
    "            totalText=[]\n",
    "\n",
    "# Loop for reading all the Pages\n",
    "            for i in range(pages):\n",
    "\n",
    "        # Creating a page object\n",
    "                pageObj = pdfReader.getPage(i)\n",
    "                text = pageObj.extractText().split(\"\\n\")\n",
    "        \n",
    "                totalText+=text\n",
    "        \n",
    "        \n",
    "\n",
    "            pdfFileObj.close()\n",
    "        \n",
    "        \n",
    "        \n",
    "            newSectionDictionary=dfPartByPart(totalText)\n",
    "        \n",
    "            personName00=\"\"\n",
    "            personNameLast=\"\"\n",
    "            if 'contacts' in newSectionDictionary:\n",
    "                text00=newSectionDictionary['contacts']\n",
    "                personName00=extract_name(\",\".join(text00))\n",
    "                personNameLast=personName00[0]\n",
    "        \n",
    "        \n",
    "            if len(personName00)==0:\n",
    "                if 'introductions' in newSectionDictionary:\n",
    "                    text00=newSectionDictionary['introductions']\n",
    "                    personName00=extract_name(\",\".join(text00))\n",
    "            \n",
    "                \n",
    "                if len(personName00)==0:\n",
    "                    personNameLast=\"no name\"\n",
    "                else:\n",
    "             \n",
    "            \n",
    "                    personNameLast=personName00[0]\n",
    "            else:\n",
    "             \n",
    "            \n",
    "                personNameLast=personName00[0]\n",
    "        \n",
    "            alnerCVDataPart=[]\n",
    "        \n",
    "        \n",
    "            dataForTest=newSectionDictionary\n",
    "            for sectionDataSentTest in dataForTest:\n",
    "                if len(dataForTest[sectionDataSentTest])>1:\n",
    "                    nerret=nerCV(personNameLast,sectionDataSentTest,dataForTest[sectionDataSentTest][1:])\n",
    "                \n",
    "                    for i in nerret:\n",
    "                        if i not in alnerCVDataPart:\n",
    "                            alnerCVDataPart.append(i)\n",
    "            alnerCVData.append(alnerCVDataPart)\n",
    "            #break    \n",
    "    return alnerCVData\n",
    "print(\"complete\")"
   ]
  },
  {
   "cell_type": "code",
   "execution_count": 8,
   "id": "cdf8dbf2",
   "metadata": {
    "execution": {
     "iopub.execute_input": "2022-09-25T12:12:32.579302Z",
     "iopub.status.busy": "2022-09-25T12:12:32.578736Z",
     "iopub.status.idle": "2022-09-25T12:12:32.585353Z",
     "shell.execute_reply": "2022-09-25T12:12:32.584446Z"
    },
    "papermill": {
     "duration": 0.014408,
     "end_time": "2022-09-25T12:12:32.587066",
     "exception": false,
     "start_time": "2022-09-25T12:12:32.572658",
     "status": "completed"
    },
    "tags": []
   },
   "outputs": [
    {
     "name": "stdout",
     "output_type": "stream",
     "text": [
      "complete\n"
     ]
    }
   ],
   "source": [
    "def getCsvTriple(allNer):\n",
    "    csvDataTriple=[[\"head\",\"relation\",\"tail\"]]\n",
    "    for listpart in allNer:\n",
    "        \n",
    "        i=0\n",
    "        #print(listpart)\n",
    "        n=len(listpart)\n",
    "        while i+2<n:\n",
    "            if i==n-1:\n",
    "                break\n",
    "            t=listpart[i:i+3].copy()\n",
    "            if t not in csvDataTriple:\n",
    "                csvDataTriple.append(t.copy())\n",
    "            i+=2\n",
    "            #pass\n",
    "        #break\n",
    "    return csvDataTriple\n",
    "print(\"complete\")"
   ]
  },
  {
   "cell_type": "code",
   "execution_count": 9,
   "id": "732e3da9",
   "metadata": {
    "execution": {
     "iopub.execute_input": "2022-09-25T12:12:32.598801Z",
     "iopub.status.busy": "2022-09-25T12:12:32.598468Z",
     "iopub.status.idle": "2022-09-25T12:12:32.604761Z",
     "shell.execute_reply": "2022-09-25T12:12:32.603266Z"
    },
    "papermill": {
     "duration": 0.014191,
     "end_time": "2022-09-25T12:12:32.606465",
     "exception": false,
     "start_time": "2022-09-25T12:12:32.592274",
     "status": "completed"
    },
    "tags": []
   },
   "outputs": [
    {
     "name": "stdout",
     "output_type": "stream",
     "text": [
      "complete\n"
     ]
    }
   ],
   "source": [
    "def toCSVFile(dataTriple,noOfFile,nameOfFile):\n",
    "    nameOfFile=nameOfFile+str(noOfFile)+\".csv\"\n",
    "    with open(nameOfFile, 'w', encoding='UTF8', newline='') as f:\n",
    "        writer = csv.writer(f)\n",
    "\n",
    "    # write the header , already has a header\n",
    "    #writer.writerow(header)\n",
    "\n",
    "    # write multiple rows\n",
    "        writer.writerows(dataTriple)\n",
    "print(\"complete\")"
   ]
  },
  {
   "cell_type": "code",
   "execution_count": 10,
   "id": "7eca08e5",
   "metadata": {
    "execution": {
     "iopub.execute_input": "2022-09-25T12:12:32.618783Z",
     "iopub.status.busy": "2022-09-25T12:12:32.618370Z",
     "iopub.status.idle": "2022-09-25T12:12:32.623905Z",
     "shell.execute_reply": "2022-09-25T12:12:32.623050Z"
    },
    "papermill": {
     "duration": 0.013765,
     "end_time": "2022-09-25T12:12:32.625423",
     "exception": false,
     "start_time": "2022-09-25T12:12:32.611658",
     "status": "completed"
    },
    "tags": []
   },
   "outputs": [
    {
     "name": "stdout",
     "output_type": "stream",
     "text": [
      "complete\n"
     ]
    }
   ],
   "source": [
    "def totalControl():\n",
    "    gtTest=startProgram()\n",
    "    toCSVFile(gtTest,1,\"AllCVNerData\")\n",
    "    for i in range(len(gtTest)):\n",
    "        tempdata=getCsvTriple(gtTest[i])\n",
    "        \n",
    "        \n",
    "        toCSVFile(tempdata,i+1,\"partCVNerdata\")\n",
    "        \n",
    "        \n",
    "print(\"complete\")"
   ]
  },
  {
   "cell_type": "code",
   "execution_count": 11,
   "id": "869d6ae2",
   "metadata": {
    "execution": {
     "iopub.execute_input": "2022-09-25T12:12:32.637416Z",
     "iopub.status.busy": "2022-09-25T12:12:32.637071Z",
     "iopub.status.idle": "2022-09-25T12:13:56.325525Z",
     "shell.execute_reply": "2022-09-25T12:13:56.324505Z"
    },
    "papermill": {
     "duration": 83.701842,
     "end_time": "2022-09-25T12:13:56.332660",
     "exception": false,
     "start_time": "2022-09-25T12:12:32.630818",
     "status": "completed"
    },
    "tags": []
   },
   "outputs": [
    {
     "name": "stdout",
     "output_type": "stream",
     "text": [
      "complete\n"
     ]
    }
   ],
   "source": [
    "totalControl()\n",
    "print(\"complete\")"
   ]
  }
 ],
 "metadata": {
  "kernelspec": {
   "display_name": "Python 3",
   "language": "python",
   "name": "python3"
  },
  "language_info": {
   "codemirror_mode": {
    "name": "ipython",
    "version": 3
   },
   "file_extension": ".py",
   "mimetype": "text/x-python",
   "name": "python",
   "nbconvert_exporter": "python",
   "pygments_lexer": "ipython3",
   "version": "3.7.12"
  },
  "papermill": {
   "default_parameters": {},
   "duration": 128.019437,
   "end_time": "2022-09-25T12:13:59.925399",
   "environment_variables": {},
   "exception": null,
   "input_path": "__notebook__.ipynb",
   "output_path": "__notebook__.ipynb",
   "parameters": {},
   "start_time": "2022-09-25T12:11:51.905962",
   "version": "2.3.4"
  }
 },
 "nbformat": 4,
 "nbformat_minor": 5
}
