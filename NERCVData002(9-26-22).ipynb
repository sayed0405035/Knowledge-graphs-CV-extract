{
 "cells": [
  {
   "cell_type": "code",
   "execution_count": 1,
   "id": "049f858b",
   "metadata": {
    "_cell_guid": "b1076dfc-b9ad-4769-8c92-a6c4dae69d19",
    "_uuid": "8f2839f25d086af736a60e9eeb907d3b93b6e0e5",
    "execution": {
     "iopub.execute_input": "2022-09-26T14:48:46.207926Z",
     "iopub.status.busy": "2022-09-26T14:48:46.207113Z",
     "iopub.status.idle": "2022-09-26T14:48:46.249858Z",
     "shell.execute_reply": "2022-09-26T14:48:46.248003Z"
    },
    "papermill": {
     "duration": 0.055073,
     "end_time": "2022-09-26T14:48:46.254179",
     "exception": false,
     "start_time": "2022-09-26T14:48:46.199106",
     "status": "completed"
    },
    "tags": []
   },
   "outputs": [
    {
     "name": "stdout",
     "output_type": "stream",
     "text": [
      "/kaggle/input/cvalltogether/CV_brief.pdf\n",
      "/kaggle/input/cvalltogether/drmperfect_cv-april-2020.pdf\n",
      "/kaggle/input/cvalltogether/vita_external.pdf\n",
      "/kaggle/input/cvalltogether/Klar CV.pdf\n",
      "/kaggle/input/cvalltogether/blee_cv_2016.pdf\n",
      "/kaggle/input/cvalltogether/Canales_Robert_CV.pdf\n",
      "/kaggle/input/cvalltogether/MOORE-MONROY2015_0.pdf\n",
      "/kaggle/input/cvalltogether/CURRICULUM-VITAE_DHG_012519.pdf\n",
      "/kaggle/input/cvalltogether/RobertsonCV0818-2.pdf\n",
      "/kaggle/input/cvalltogether/hameroff2016cv_0.pdf\n",
      "/kaggle/input/cvalltogether/Alison-M-Meadow-cv.pdf\n",
      "/kaggle/input/cvalltogether/agaspar_cv.pdf\n",
      "/kaggle/input/cvalltogether/JO - 2171.pdf\n",
      "/kaggle/input/cvalltogether/Hoit CV (4-11-16).pdf\n",
      "/kaggle/input/cvalltogether/Liverman Selected CV May 2018.pdf\n",
      "/kaggle/input/cvalltogether/LBarraza CV 2020.pdf\n",
      "complete\n"
     ]
    }
   ],
   "source": [
    "# This Python 3 environment comes with many helpful analytics libraries installed\n",
    "# It is defined by the kaggle/python Docker image: https://github.com/kaggle/docker-python\n",
    "# For example, here's several helpful packages to load\n",
    "\n",
    "import numpy as np # linear algebra\n",
    "import pandas as pd # data processing, CSV file I/O (e.g. pd.read_csv)\n",
    "\n",
    "# Input data files are available in the read-only \"../input/\" directory\n",
    "# For example, running this (by clicking run or pressing Shift+Enter) will list all files under the input directory\n",
    "\n",
    "import os\n",
    "for dirname, _, filenames in os.walk('/kaggle/input'):\n",
    "    for filename in filenames:\n",
    "        print(os.path.join(dirname, filename))\n",
    "\n",
    "# You can write up to 20GB to the current directory (/kaggle/working/) that gets preserved as output when you create a version using \"Save & Run All\" \n",
    "# You can also write temporary files to /kaggle/temp/, but they won't be saved outside of the current session\n",
    "print(\"complete\")"
   ]
  },
  {
   "cell_type": "code",
   "execution_count": 2,
   "id": "c4edd404",
   "metadata": {
    "execution": {
     "iopub.execute_input": "2022-09-26T14:48:46.267741Z",
     "iopub.status.busy": "2022-09-26T14:48:46.266415Z",
     "iopub.status.idle": "2022-09-26T14:49:12.846736Z",
     "shell.execute_reply": "2022-09-26T14:49:12.844892Z"
    },
    "papermill": {
     "duration": 26.590296,
     "end_time": "2022-09-26T14:49:12.849799",
     "exception": false,
     "start_time": "2022-09-26T14:48:46.259503",
     "status": "completed"
    },
    "tags": []
   },
   "outputs": [
    {
     "name": "stdout",
     "output_type": "stream",
     "text": [
      "Collecting PyPDF2\r\n",
      "  Downloading PyPDF2-2.11.0-py3-none-any.whl (220 kB)\r\n",
      "\u001b[2K     \u001b[90m━━━━━━━━━━━━━━━━━━━━━━━━━━━━━━━━━━━━━━━\u001b[0m \u001b[32m220.2/220.2 kB\u001b[0m \u001b[31m4.9 MB/s\u001b[0m eta \u001b[36m0:00:00\u001b[0m\r\n",
      "\u001b[?25hRequirement already satisfied: typing-extensions>=3.10.0.0 in /opt/conda/lib/python3.7/site-packages (from PyPDF2) (4.3.0)\r\n",
      "Installing collected packages: PyPDF2\r\n",
      "Successfully installed PyPDF2-2.11.0\r\n",
      "\u001b[33mWARNING: Running pip as the 'root' user can result in broken permissions and conflicting behaviour with the system package manager. It is recommended to use a virtual environment instead: https://pip.pypa.io/warnings/venv\u001b[0m\u001b[33m\r\n",
      "\u001b[0mCollecting pdfplumber\r\n",
      "  Downloading pdfplumber-0.7.4-py3-none-any.whl (40 kB)\r\n",
      "\u001b[2K     \u001b[90m━━━━━━━━━━━━━━━━━━━━━━━━━━━━━━━━━━━━━━━━\u001b[0m \u001b[32m40.0/40.0 kB\u001b[0m \u001b[31m2.9 MB/s\u001b[0m eta \u001b[36m0:00:00\u001b[0m\r\n",
      "\u001b[?25hRequirement already satisfied: Wand>=0.6.7 in /opt/conda/lib/python3.7/site-packages (from pdfplumber) (0.6.10)\r\n",
      "Requirement already satisfied: Pillow>=9.1 in /opt/conda/lib/python3.7/site-packages (from pdfplumber) (9.1.1)\r\n",
      "Collecting pdfminer.six==20220524\r\n",
      "  Downloading pdfminer.six-20220524-py3-none-any.whl (5.6 MB)\r\n",
      "\u001b[2K     \u001b[90m━━━━━━━━━━━━━━━━━━━━━━━━━━━━━━━━━━━━━━━━\u001b[0m \u001b[32m5.6/5.6 MB\u001b[0m \u001b[31m40.2 MB/s\u001b[0m eta \u001b[36m0:00:00\u001b[0m\r\n",
      "\u001b[?25hRequirement already satisfied: cryptography>=36.0.0 in /opt/conda/lib/python3.7/site-packages (from pdfminer.six==20220524->pdfplumber) (37.0.2)\r\n",
      "Requirement already satisfied: charset-normalizer>=2.0.0 in /opt/conda/lib/python3.7/site-packages (from pdfminer.six==20220524->pdfplumber) (2.1.0)\r\n",
      "Requirement already satisfied: cffi>=1.12 in /opt/conda/lib/python3.7/site-packages (from cryptography>=36.0.0->pdfminer.six==20220524->pdfplumber) (1.15.0)\r\n",
      "Requirement already satisfied: pycparser in /opt/conda/lib/python3.7/site-packages (from cffi>=1.12->cryptography>=36.0.0->pdfminer.six==20220524->pdfplumber) (2.21)\r\n",
      "Installing collected packages: pdfminer.six, pdfplumber\r\n",
      "Successfully installed pdfminer.six-20220524 pdfplumber-0.7.4\r\n",
      "\u001b[33mWARNING: Running pip as the 'root' user can result in broken permissions and conflicting behaviour with the system package manager. It is recommended to use a virtual environment instead: https://pip.pypa.io/warnings/venv\u001b[0m\u001b[33m\r\n",
      "\u001b[0mcomplete\n"
     ]
    }
   ],
   "source": [
    "!pip install PyPDF2\n",
    "!pip install pdfplumber\n",
    "print(\"complete\")"
   ]
  },
  {
   "cell_type": "code",
   "execution_count": 3,
   "id": "46385fcd",
   "metadata": {
    "execution": {
     "iopub.execute_input": "2022-09-26T14:49:12.863100Z",
     "iopub.status.busy": "2022-09-26T14:49:12.862636Z",
     "iopub.status.idle": "2022-09-26T14:49:28.210690Z",
     "shell.execute_reply": "2022-09-26T14:49:28.209317Z"
    },
    "papermill": {
     "duration": 15.357941,
     "end_time": "2022-09-26T14:49:28.213358",
     "exception": false,
     "start_time": "2022-09-26T14:49:12.855417",
     "status": "completed"
    },
    "tags": []
   },
   "outputs": [
    {
     "name": "stdout",
     "output_type": "stream",
     "text": [
      "complete\n"
     ]
    }
   ],
   "source": [
    "#all import\n",
    "import pdfplumber\n",
    "import pandas as pd\n",
    "import os\n",
    "import spacy\n",
    "from spacy.matcher import Matcher\n",
    "\n",
    "from datetime import datetime\n",
    "\n",
    "import re\n",
    "from nltk.corpus import stopwords\n",
    "\n",
    "import PyPDF2\n",
    "nlp = spacy.load(\"en_core_web_sm\")\n",
    "\n",
    "import csv\n",
    "\n",
    "print(\"complete\")"
   ]
  },
  {
   "cell_type": "code",
   "execution_count": 4,
   "id": "1f0c85a2",
   "metadata": {
    "execution": {
     "iopub.execute_input": "2022-09-26T14:49:28.227158Z",
     "iopub.status.busy": "2022-09-26T14:49:28.226345Z",
     "iopub.status.idle": "2022-09-26T14:49:28.245196Z",
     "shell.execute_reply": "2022-09-26T14:49:28.244024Z"
    },
    "papermill": {
     "duration": 0.028744,
     "end_time": "2022-09-26T14:49:28.247580",
     "exception": false,
     "start_time": "2022-09-26T14:49:28.218836",
     "status": "completed"
    },
    "tags": []
   },
   "outputs": [
    {
     "name": "stdout",
     "output_type": "stream",
     "text": [
      "complete\n"
     ]
    }
   ],
   "source": [
    "# use nlp Ner to differentiate and divide the text data\n",
    "\n",
    "def nerCV(personName,sectionName,sentDataFoeTest):\n",
    "    allDataner=[]\n",
    "    metadata001=[personName,sectionName+\" details \",sectionName]\n",
    "    countNo=0\n",
    "    for train_dataText in sentDataFoeTest :\n",
    "        \n",
    "    \n",
    "    \n",
    "    \n",
    "        doc = nlp(train_dataText)\n",
    "        \n",
    "        \n",
    "        dldata=dict()\n",
    "    \n",
    "        for ent in doc.ents:\n",
    "        \n",
    "            if ent.label_.upper() in dldata:\n",
    "                dldata[ent.label_.upper()].append(ent.text)\n",
    "            else:\n",
    "                dldata[ent.label_.upper()]=[ent.text]\n",
    "            \n",
    "    \n",
    "        if dldata:\n",
    "            countNo+=1\n",
    "            \n",
    "            for dl in dldata:\n",
    "                metadata=metadata001.copy()\n",
    "                if dl=='DATE':\n",
    "                    for d in dldata[dl]:\n",
    "                        if len(d)<3:\n",
    "                            continue\n",
    "                        metadata.append(sectionName+ \" in \"+str(dl)+\" \"+str(countNo)+\" \")\n",
    "                        metadata.append(d)\n",
    "                        allDataner.append(metadata.copy())\n",
    "                        #print(metadata)\n",
    "                        metadata.pop()\n",
    "                        metadata.pop()\n",
    "                elif dl=='ORG':\n",
    "                    for d in dldata[dl]:\n",
    "                        if len(d)<3:\n",
    "                            continue\n",
    "                        metadata.append(sectionName+ \" with \"+str(dl)+\" \"+str(countNo)+\" \")\n",
    "                        metadata.append(d)\n",
    "                        allDataner.append(metadata.copy())\n",
    "                        metadata.pop()\n",
    "                        metadata.pop()\n",
    "                elif dl=='PERSON':\n",
    "                    for d in dldata[dl]:\n",
    "                        if len(d)<3:\n",
    "                            continue\n",
    "                        metadata.append(sectionName+ \" associated with \"+str(dl)+\" \"+str(countNo)+\" \")\n",
    "                        metadata.append(d)\n",
    "                        allDataner.append(metadata.copy())\n",
    "                        metadata.pop()\n",
    "                        metadata.pop()\n",
    "                elif dl=='GPE':\n",
    "                    for d in dldata[dl]:\n",
    "                        if len(d)<3:\n",
    "                            continue\n",
    "                        metadata.append(sectionName+ \" from \"+str(dl)+\" \"+str(countNo)+\" \")\n",
    "                        metadata.append(d)\n",
    "                        allDataner.append(metadata.copy())\n",
    "                        metadata.pop()\n",
    "                        metadata.pop()\n",
    "                else:\n",
    "                    for d in dldata[dl]:\n",
    "                        if len(d)<3:\n",
    "                            continue\n",
    "                        metadata.append(sectionName+ \" in \"+str(dl)+\" \"+str(countNo)+\" \")\n",
    "                        metadata.append(d)\n",
    "                        allDataner.append(metadata.copy())\n",
    "                        metadata.pop()\n",
    "                        metadata.pop()\n",
    "            #\n",
    "            metadata.append(\"Original text \"+str(countNo)+\" \")\n",
    "            metadata.append(train_dataText)\n",
    "            allDataner.append(metadata.copy())\n",
    "            metadata.pop()\n",
    "            metadata.pop()\n",
    "    \n",
    "    return allDataner\n",
    "print(\"complete\")"
   ]
  },
  {
   "cell_type": "code",
   "execution_count": 5,
   "id": "7f6e6e8d",
   "metadata": {
    "execution": {
     "iopub.execute_input": "2022-09-26T14:49:28.260057Z",
     "iopub.status.busy": "2022-09-26T14:49:28.259651Z",
     "iopub.status.idle": "2022-09-26T14:49:28.269901Z",
     "shell.execute_reply": "2022-09-26T14:49:28.268452Z"
    },
    "papermill": {
     "duration": 0.019667,
     "end_time": "2022-09-26T14:49:28.272718",
     "exception": false,
     "start_time": "2022-09-26T14:49:28.253051",
     "status": "completed"
    },
    "tags": []
   },
   "outputs": [
    {
     "name": "stdout",
     "output_type": "stream",
     "text": [
      "complete\n"
     ]
    }
   ],
   "source": [
    "# extract person name from text data\n",
    "\n",
    "\n",
    "def extract_name(resume_text):\n",
    "    # load pre-trained model\n",
    "    nlp = spacy.load('en_core_web_sm')\n",
    "\n",
    "    # initialize matcher with a vocab\n",
    "    matcher = Matcher(nlp.vocab)\n",
    "    nlp_text = nlp(resume_text)\n",
    "    \n",
    "    # First name and Last name are always Proper Nouns\n",
    "    pattern = [{'POS': 'PROPN'}, {'POS': 'PROPN'}]\n",
    "    \n",
    "    matcher.add('NAME', [pattern], on_match = None)\n",
    "    \n",
    "    matches = matcher(nlp_text)\n",
    "    res=[]\n",
    "    \n",
    "    for match_id, start, end in matches:\n",
    "        span = nlp_text[start:end]\n",
    "        temp=span.text\n",
    "        if len(temp)>0:\n",
    "            lastoption=temp\n",
    "        if (\"vitae\" in temp.lower() or \"sciences\" in temp.lower() \n",
    "            or \"engineering\" in temp.lower() or \"biographical\" in temp.lower() \n",
    "            or \"no\" in temp.lower() or \"title\" in temp.lower() ):\n",
    "            continue\n",
    "        res.append(temp)\n",
    "    \n",
    "    return res\n",
    "print(\"complete\")"
   ]
  },
  {
   "cell_type": "code",
   "execution_count": 6,
   "id": "734dd3a0",
   "metadata": {
    "execution": {
     "iopub.execute_input": "2022-09-26T14:49:28.285620Z",
     "iopub.status.busy": "2022-09-26T14:49:28.285200Z",
     "iopub.status.idle": "2022-09-26T14:49:28.299442Z",
     "shell.execute_reply": "2022-09-26T14:49:28.297935Z"
    },
    "papermill": {
     "duration": 0.023745,
     "end_time": "2022-09-26T14:49:28.301900",
     "exception": false,
     "start_time": "2022-09-26T14:49:28.278155",
     "status": "completed"
    },
    "tags": []
   },
   "outputs": [
    {
     "name": "stdout",
     "output_type": "stream",
     "text": [
      "complete\n"
     ]
    }
   ],
   "source": [
    "# divide the text data into different parts or sections\n",
    "\n",
    "def dfPartByPart(textList):\n",
    "    \n",
    "\n",
    "    reference=[ \n",
    "            #node1\n",
    "            \"articles\",\"article\",\"books\",\"book\",\"chapters\",\"chapter\",\"citations\",\"citation\",\"editorials\",\"editorial\",\"journals\",\"journal\",\n",
    "               \"seminars\",\"seminar\",\"scholarly\",\n",
    "            #node2\n",
    "            \"awards\",\"award\",\"proposals\",\"proposal\",\"grants\",\"grant\",\"honors\",\"honor\",\"scholarships\",\"scholarship\",\"sponsored\",\n",
    "            #node3\n",
    "            \"appointments\",\"appointment\",\"experiences\",\"experience\",\"services\",\"service\",\"employments\",\"employment\",\"practices\",\"practice\",\n",
    "                \"professionals\",\"professional\",\n",
    "            #node4\n",
    "            \"affiliations\",\"affiliation\",\"memberships\",\"membership\",\"committees\",\"committee\",\n",
    "            #node5\n",
    "            \"contacts\",\"contact\",\"introductions\",\"introduction\",\n",
    "            #node6\n",
    "            \"publications\",\"publication\",\"conferences\",\"conference\",\"presentations\",\"presentation\",\"newsletters\",\"newsletter\",\"reports\",\"report\",\n",
    "            #node7\n",
    "            \"educations\",\"education\",\"certificates\",\"certificate\",\"certifications\",\"certification\",\n",
    "            #node8\n",
    "            \"researches\",\"research\",\n",
    "            #node9\n",
    "            \"teaching\",\"outreaches\",\"outreach\"\n",
    "          ]\n",
    "\n",
    "    \n",
    "    \n",
    "    \n",
    "    collectedText=[]\n",
    "    collectedByDictionary=dict()\n",
    "    collectedParts=dict()\n",
    "    keyDictionary=\"introductions\"\n",
    "    temp=[]\n",
    "\n",
    "    \n",
    "\n",
    "    for smallPartText in textList:\n",
    "        if smallPartText==None:\n",
    "            continue\n",
    "   \n",
    "        for partOfSmallPartText in smallPartText.split():\n",
    "            if len(partOfSmallPartText)<2:\n",
    "                continue\n",
    "            result = list(filter(lambda x: x==partOfSmallPartText.lower(), reference))\n",
    "            \n",
    "            if result:\n",
    "                \n",
    "                collectedText.append(temp)\n",
    "                if keyDictionary in collectedByDictionary:\n",
    "                    collectedByDictionary[keyDictionary]=collectedByDictionary[keyDictionary]+temp\n",
    "                else:\n",
    "                    collectedByDictionary[keyDictionary]=temp\n",
    "                keyDictionary=result[0]\n",
    "                #print(result,keyDictionary)\n",
    "                temp=[]\n",
    "                break\n",
    "        \n",
    "        temp.append(smallPartText)\n",
    "    \n",
    "    \n",
    "    collectedText.append(temp)\n",
    "    if keyDictionary in collectedByDictionary:\n",
    "        collectedByDictionary[keyDictionary]=collectedByDictionary[keyDictionary]+temp\n",
    "    else:\n",
    "        collectedByDictionary[keyDictionary]=temp\n",
    "\n",
    "    return collectedByDictionary\n",
    "print(\"complete\")"
   ]
  },
  {
   "cell_type": "code",
   "execution_count": 7,
   "id": "a469f722",
   "metadata": {
    "execution": {
     "iopub.execute_input": "2022-09-26T14:49:28.314790Z",
     "iopub.status.busy": "2022-09-26T14:49:28.314342Z",
     "iopub.status.idle": "2022-09-26T14:49:28.328638Z",
     "shell.execute_reply": "2022-09-26T14:49:28.327431Z"
    },
    "papermill": {
     "duration": 0.023869,
     "end_time": "2022-09-26T14:49:28.331175",
     "exception": false,
     "start_time": "2022-09-26T14:49:28.307306",
     "status": "completed"
    },
    "tags": []
   },
   "outputs": [
    {
     "name": "stdout",
     "output_type": "stream",
     "text": [
      "complete\n"
     ]
    }
   ],
   "source": [
    "#read the data from pdf file and extract Ner data from it\n",
    "\n",
    "def startProgram():\n",
    "    \n",
    "    #read the pdf file path\n",
    "    \n",
    "    folder_with_pdfs = '../input/cvalltogether'\n",
    "    #linesOfFiles = []\n",
    "\n",
    "    \n",
    "    dataForTest=dict()\n",
    "\n",
    "    listOfPdfFiles=[]\n",
    "\n",
    "    alnerCVData=[]\n",
    "\n",
    "    for pdf_file in os.listdir(folder_with_pdfs):\n",
    "        if pdf_file.endswith('.pdf'):\n",
    "        \n",
    "        \n",
    "            listOfPdfFiles.append(pdf_file)\n",
    "            pdf_file_path = os.path.join(folder_with_pdfs, pdf_file)\n",
    "        \n",
    "            pdfFileObj = open(pdf_file_path,'rb')\n",
    "            pdfReader = PyPDF2.PdfFileReader(pdfFileObj)\n",
    "\n",
    "# Getting number of pages in pdf file\n",
    "            pages = pdfReader.numPages\n",
    "\n",
    "            totalText=[]\n",
    "\n",
    "# Loop for reading all the Pages\n",
    "            for i in range(pages):\n",
    "\n",
    "        # Creating a page object\n",
    "                pageObj = pdfReader.getPage(i)\n",
    "                text = pageObj.extractText().split(\"\\n\")\n",
    "        \n",
    "                totalText+=text\n",
    "        \n",
    "        \n",
    "\n",
    "            pdfFileObj.close()\n",
    "        \n",
    "        \n",
    "        \n",
    "            newSectionDictionary=dfPartByPart(totalText)\n",
    "        \n",
    "            personName00=\"\"\n",
    "            personNameLast=\"\"\n",
    "            if 'contacts' in newSectionDictionary:\n",
    "                text00=newSectionDictionary['contacts']\n",
    "                personName00=extract_name(\",\".join(text00))\n",
    "                personNameLast=personName00[0]\n",
    "        \n",
    "        \n",
    "            if len(personName00)==0:\n",
    "                if 'introductions' in newSectionDictionary:\n",
    "                    text00=newSectionDictionary['introductions']\n",
    "                    personName00=extract_name(\",\".join(text00))\n",
    "            \n",
    "                \n",
    "                if len(personName00)==0:\n",
    "                    personNameLast=\"no name\"\n",
    "                else:\n",
    "             \n",
    "            \n",
    "                    personNameLast=personName00[0]\n",
    "            else:\n",
    "             \n",
    "            \n",
    "                personNameLast=personName00[0]\n",
    "        \n",
    "            alnerCVDataPart=[]\n",
    "        \n",
    "        \n",
    "            dataForTest=newSectionDictionary\n",
    "            for sectionDataSentTest in dataForTest:\n",
    "                if len(dataForTest[sectionDataSentTest])>1:\n",
    "                    nerret=nerCV(personNameLast,sectionDataSentTest,dataForTest[sectionDataSentTest][1:])\n",
    "                \n",
    "                    for i in nerret:\n",
    "                        if i not in alnerCVDataPart:\n",
    "                            alnerCVDataPart.append(i)\n",
    "            alnerCVData.append(alnerCVDataPart)\n",
    "            #break    \n",
    "    return alnerCVData\n",
    "print(\"complete\")"
   ]
  },
  {
   "cell_type": "code",
   "execution_count": 8,
   "id": "de8d290c",
   "metadata": {
    "execution": {
     "iopub.execute_input": "2022-09-26T14:49:28.344050Z",
     "iopub.status.busy": "2022-09-26T14:49:28.343629Z",
     "iopub.status.idle": "2022-09-26T14:49:28.351697Z",
     "shell.execute_reply": "2022-09-26T14:49:28.350350Z"
    },
    "papermill": {
     "duration": 0.017669,
     "end_time": "2022-09-26T14:49:28.354416",
     "exception": false,
     "start_time": "2022-09-26T14:49:28.336747",
     "status": "completed"
    },
    "tags": []
   },
   "outputs": [
    {
     "name": "stdout",
     "output_type": "stream",
     "text": [
      "complete\n"
     ]
    }
   ],
   "source": [
    "# transform the data into (Head,Relation,Tail) tiples \n",
    "\n",
    "def getCsvTriple(allNer):\n",
    "    csvDataTriple=[[\"head\",\"relation\",\"tail\"]]\n",
    "    for listpart in allNer:\n",
    "        \n",
    "        i=0\n",
    "        #print(listpart)\n",
    "        n=len(listpart)\n",
    "        while i+2<n:\n",
    "            if i==n-1:\n",
    "                break\n",
    "            t=listpart[i:i+3].copy()\n",
    "            if t not in csvDataTriple:\n",
    "                csvDataTriple.append(t.copy())\n",
    "            i+=2\n",
    "            #pass\n",
    "        #break\n",
    "    return csvDataTriple\n",
    "print(\"complete\")"
   ]
  },
  {
   "cell_type": "code",
   "execution_count": 9,
   "id": "39b4d34d",
   "metadata": {
    "execution": {
     "iopub.execute_input": "2022-09-26T14:49:28.368065Z",
     "iopub.status.busy": "2022-09-26T14:49:28.367637Z",
     "iopub.status.idle": "2022-09-26T14:49:28.374685Z",
     "shell.execute_reply": "2022-09-26T14:49:28.373356Z"
    },
    "papermill": {
     "duration": 0.017625,
     "end_time": "2022-09-26T14:49:28.377657",
     "exception": false,
     "start_time": "2022-09-26T14:49:28.360032",
     "status": "completed"
    },
    "tags": []
   },
   "outputs": [
    {
     "name": "stdout",
     "output_type": "stream",
     "text": [
      "complete\n"
     ]
    }
   ],
   "source": [
    "#save the data in a .csv file format\n",
    "\n",
    "def toCSVFile(dataTriple,noOfFile,nameOfFile):\n",
    "    nameOfFile=nameOfFile+str(noOfFile)+\".csv\"\n",
    "    with open(nameOfFile, 'w', encoding='UTF8', newline='') as f:\n",
    "        writer = csv.writer(f)\n",
    "\n",
    "    # write the header , already has a header\n",
    "    #writer.writerow(header)\n",
    "\n",
    "    # write multiple rows\n",
    "        writer.writerows(dataTriple)\n",
    "print(\"complete\")"
   ]
  },
  {
   "cell_type": "code",
   "execution_count": 10,
   "id": "2bd2728a",
   "metadata": {
    "execution": {
     "iopub.execute_input": "2022-09-26T14:49:28.390637Z",
     "iopub.status.busy": "2022-09-26T14:49:28.390201Z",
     "iopub.status.idle": "2022-09-26T14:49:28.397477Z",
     "shell.execute_reply": "2022-09-26T14:49:28.396338Z"
    },
    "papermill": {
     "duration": 0.01693,
     "end_time": "2022-09-26T14:49:28.400276",
     "exception": false,
     "start_time": "2022-09-26T14:49:28.383346",
     "status": "completed"
    },
    "tags": []
   },
   "outputs": [
    {
     "name": "stdout",
     "output_type": "stream",
     "text": [
      "complete\n"
     ]
    }
   ],
   "source": [
    "#get the final data and save data into two types, 1st type is all the CV's \n",
    "#together, and 2nd type is for each of the CV's \n",
    "\n",
    "def totalControl():\n",
    "    gtTest=startProgram()\n",
    "    toCSVFile(gtTest,1,\"AllCVNerData\")\n",
    "    for i in range(len(gtTest)):\n",
    "        tempdata=getCsvTriple(gtTest[i])\n",
    "        \n",
    "        \n",
    "        toCSVFile(tempdata,i+1,\"partCVNerdata\")\n",
    "        \n",
    "        \n",
    "print(\"complete\")"
   ]
  },
  {
   "cell_type": "code",
   "execution_count": 11,
   "id": "701d2d13",
   "metadata": {
    "execution": {
     "iopub.execute_input": "2022-09-26T14:49:28.413097Z",
     "iopub.status.busy": "2022-09-26T14:49:28.412716Z",
     "iopub.status.idle": "2022-09-26T14:51:28.162159Z",
     "shell.execute_reply": "2022-09-26T14:51:28.160837Z"
    },
    "papermill": {
     "duration": 119.76438,
     "end_time": "2022-09-26T14:51:28.170272",
     "exception": false,
     "start_time": "2022-09-26T14:49:28.405892",
     "status": "completed"
    },
    "tags": []
   },
   "outputs": [
    {
     "name": "stdout",
     "output_type": "stream",
     "text": [
      "complete\n"
     ]
    }
   ],
   "source": [
    "# to start our program\n",
    "\n",
    "totalControl()\n",
    "print(\"complete\")"
   ]
  }
 ],
 "metadata": {
  "kernelspec": {
   "display_name": "Python 3",
   "language": "python",
   "name": "python3"
  },
  "language_info": {
   "codemirror_mode": {
    "name": "ipython",
    "version": 3
   },
   "file_extension": ".py",
   "mimetype": "text/x-python",
   "name": "python",
   "nbconvert_exporter": "python",
   "pygments_lexer": "ipython3",
   "version": "3.7.12"
  },
  "papermill": {
   "default_parameters": {},
   "duration": 176.3602,
   "end_time": "2022-09-26T14:51:31.288420",
   "environment_variables": {},
   "exception": null,
   "input_path": "__notebook__.ipynb",
   "output_path": "__notebook__.ipynb",
   "parameters": {},
   "start_time": "2022-09-26T14:48:34.928220",
   "version": "2.3.4"
  }
 },
 "nbformat": 4,
 "nbformat_minor": 5
}
